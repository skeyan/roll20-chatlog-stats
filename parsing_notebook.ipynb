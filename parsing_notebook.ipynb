{
 "cells": [
  {
   "cell_type": "code",
   "execution_count": 2,
   "metadata": {},
   "outputs": [],
   "source": [
    "from bs4 import BeautifulSoup\n",
    "import pickle\n",
    "\n",
    "with open('data/ChatLog_Chime_1_6_2022.html', mode='r', encoding=\"utf8\") as fd:\n",
    "    html_doc = fd.read()\n",
    "\n",
    "soup = BeautifulSoup(html_doc, 'html.parser')"
   ]
  },
  {
   "cell_type": "code",
   "execution_count": 3,
   "metadata": {},
   "outputs": [
    {
     "name": "stdout",
     "output_type": "stream",
     "text": [
      "5500\n"
     ]
    }
   ],
   "source": [
    "messages = soup.find_all('div', 'message')\n",
    "\n",
    "print(len(messages))"
   ]
  },
  {
   "cell_type": "code",
   "execution_count": 4,
   "metadata": {},
   "outputs": [],
   "source": [
    "def is_generic_roll(message_class_list):\n",
    "    return True if 'rollresult' in message_class_list else False\n",
    "    \n",
    "def is_new_character_rolling(message):\n",
    "    return message.find(class_='spacer')"
   ]
  },
  {
   "cell_type": "code",
   "execution_count": 5,
   "metadata": {},
   "outputs": [],
   "source": [
    "name_dictionary = {\n",
    "    'Jason W. (GM)' : 'NPC',\n",
    "    'Jason W.' : 'NPC',\n",
    "    'NPC' : 'NPC',\n",
    "    'Mayor' : 'NPC',\n",
    "    'Kevin L.' : 'Russel',\n",
    "    'Sally C.' : 'Vye',\n",
    "    'vye' : 'Vye',\n",
    "    'Vye' : 'Vye',\n",
    "    'Larissa J.' : 'Roll',\n",
    "    'Roll' : 'Roll',\n",
    "    'Elaina C.' : 'Wing',\n",
    "    'Wing' : 'Wing',\n",
    "    'Eva Y.' : 'Monti',\n",
    "    'Monti' : 'Monti',\n",
    "    'Montineau' : 'Monti',\n",
    "    'MontiNO' : 'Monti',\n",
    "    '(To Yev)' : 'Monti',\n",
    "    'Brian T.' : 'Dragonborn',\n",
    "    'DergenBern' : 'Dragonborn',\n",
    "    'The Dragonborn' : 'Dragonborn',\n",
    "    'Vicky L.' : 'June/Auggie',\n",
    "    'Auggie' : 'June/Auggie',\n",
    "    'Yev' : 'Yev',\n",
    "    'Genki' : 'Genki',\n",
    "    'Don C.' : 'Tithe',\n",
    "    'Tithe' : 'Tithe',\n",
    "    'Rachel W.' : 'Sebille',\n",
    "    'Sebille' : 'Sebille'\n",
    "}\n",
    "my_character_name = 'Monti'\n",
    "\n",
    "roll_dictionary = {\n",
    "    'ATHLETICS' : 'Ability Check',\n",
    "    'ACROBATICS' : 'Ability Check',\n",
    "    'SLEIGHT OF HAND' : 'Ability Check',\n",
    "    'STEALTH' : 'Ability Check',\n",
    "    'ARCANA' : 'Ability Check',\n",
    "    'HISTORY' : 'Ability Check',\n",
    "    'INSIGHT' : 'Ability Check',\n",
    "    'PERFORMANCE' : 'Ability Check',\n",
    "    'DECEPTION' : 'Ability Check',\n",
    "    'PERSUASION' : 'Ability Check',\n",
    "    'ANIMAL HANDLING' : 'Ability Check',\n",
    "    'MEDICINE' : 'Ability Check',\n",
    "    'SURVIVAL' : 'Ability Check',\n",
    "    'PERCEPTION' : 'Ability Check',\n",
    "    'INTIMATION' : 'Ability Check',\n",
    "    'RELIGION' : 'Ability Check',\n",
    "    'INVESTIGATION' : 'Ability Check',\n",
    "    'NATURE' : 'Ability Check',\n",
    "    'STRENGTH' : 'Ability Check',\n",
    "    'DEXTERITY' : 'Ability Check',\n",
    "    'CONSTITUTION' : 'Ability Check',\n",
    "    'INTELLIGENCE' : 'Ability Check',\n",
    "    'WISDOM' : 'Ability Check',\n",
    "    'CHARISMA' : 'Ability Check',\n",
    "    'INITIATIVE' : 'Initiative'  \n",
    "}"
   ]
  },
  {
   "cell_type": "code",
   "execution_count": 38,
   "metadata": {
    "tags": []
   },
   "outputs": [
    {
     "name": "stdout",
     "output_type": "stream",
     "text": [
      "5500\n",
      "[datetime.datetime(2021, 7, 4, 0, 42), datetime.datetime(2021, 7, 4, 0, 42), datetime.datetime(2021, 7, 4, 0, 42), datetime.datetime(2021, 7, 4, 0, 43), datetime.datetime(2021, 7, 4, 0, 43), datetime.datetime(2021, 7, 4, 0, 43), datetime.datetime(2021, 7, 4, 0, 43), datetime.datetime(2021, 7, 4, 0, 43), datetime.datetime(2021, 7, 4, 0, 44), datetime.datetime(2021, 7, 4, 0, 44), datetime.datetime(2021, 7, 4, 0, 45), datetime.datetime(2021, 7, 4, 0, 45), datetime.datetime(2021, 7, 4, 0, 46), datetime.datetime(2021, 7, 4, 0, 46), datetime.datetime(2021, 7, 4, 0, 48), datetime.datetime(2021, 7, 4, 0, 48), datetime.datetime(2021, 7, 4, 0, 48), datetime.datetime(2021, 7, 4, 0, 50), datetime.datetime(2021, 7, 4, 0, 56), datetime.datetime(2021, 7, 4, 0, 56)]\n"
     ]
    }
   ],
   "source": [
    "from dateutil.parser import parse\n",
    "\n",
    "current_time = None\n",
    "timestamps = []\n",
    "for message in messages:\n",
    "    tstamp = message.find(class_='tstamp')\n",
    "    if tstamp:\n",
    "        current_time = parse(tstamp.string)\n",
    "    timestamps.append(current_time)\n",
    "\n",
    "print(len(timestamps))\n",
    "print(timestamps[-20:])"
   ]
  },
  {
   "cell_type": "code",
   "execution_count": 39,
   "metadata": {},
   "outputs": [
    {
     "name": "stdout",
     "output_type": "stream",
     "text": [
      "1717\n"
     ]
    }
   ],
   "source": [
    "has_roll = []\n",
    "for message in messages:\n",
    "    has_roll.append((message.find(class_='inlinerollresult') is not None) or ('rollresult' in message['class']))\n",
    "\n",
    "print(len([i for i in has_roll if i ]))\n",
    "\n",
    "roll_msgs = [message for i, message, in zip(has_roll, messages) if i ]"
   ]
  },
  {
   "cell_type": "code",
   "execution_count": 63,
   "metadata": {
    "tags": []
   },
   "outputs": [
    {
     "name": "stdout",
     "output_type": "stream",
     "text": [
      "Characters: 596 ['Monti', 'Russel', 'Russel', 'Monti', 'Monti', 'Monti', 'Monti', 'Monti', 'Monti', 'Monti', 'Monti', 'Monti', 'Monti', 'Monti', 'Roll', 'Monti', 'Roll', 'Monti', 'Roll', 'Monti', 'Monti', 'Roll', 'Tithe', 'NPC', 'Dragonborn', 'NPC', 'Yev', 'Roll', 'Yev', 'Dragonborn', 'NPC', 'Monti', 'NPC', 'Yev', 'Dragonborn', 'Vye', 'Yev', 'Tithe', 'NPC', 'Monti', 'Roll', 'Vye', 'Vye', 'Yev', 'Vye', 'Dragonborn', 'Yev', 'Yev', 'NPC', 'Yev', 'Monti', 'NPC', 'Yev', 'Dragonborn', 'Tithe', 'Roll', 'Wing', 'Monti', 'Monti', 'Yev', 'Dragonborn', 'June/Auggie', 'Monti', 'Dragonborn', 'Vye', 'Sebille', 'Vye', 'Dragonborn', 'Roll', 'Sebille', 'June/Auggie', 'Tithe', 'Vye', 'Sebille', 'Tithe', 'Sebille', 'Sebille', 'Tithe', 'Tithe', 'NPC', 'Tithe', 'June/Auggie', 'Tithe', 'Yev', 'Tithe', 'Yev', 'Tithe', 'NPC', 'Tithe', 'June/Auggie', 'Monti', 'Tithe', 'Tithe', 'Tithe', 'Monti', 'Sebille', 'Dragonborn', 'Wing', 'Sebille', 'Tithe', 'Sebille', 'Yev', 'Vye', 'Monti', 'Yev', 'Vye', 'Vye', 'Wing', 'Monti', 'Vye', 'Yev', 'NPC', 'Sebille', 'Yev', 'Monti', 'Vye', 'Yev', 'June/Auggie', 'Yev', 'Monti', 'Vye', 'Monti', 'Tithe', 'Dragonborn', 'Sebille', 'Wing', 'Monti', 'Sebille', 'Wing', 'Sebille', 'Monti', 'Sebille', 'Wing', 'Sebille', 'Monti', 'Vye', 'Vye', 'NPC', 'Sebille', 'Vye', 'Dragonborn', 'Monti', 'Vye', 'Sebille', 'Wing', 'Yev', 'Monti', 'Vye', 'Sebille', 'Sebille', 'Monti', 'Monti', 'Dragonborn', 'Yev', 'Yev', 'Sebille', 'Monti', 'Dragonborn', 'Dragonborn', 'June/Auggie', 'Yev', 'Vye', 'Dragonborn', 'June/Auggie', 'Roll', 'Vye', 'Monti', 'Sebille', 'Tithe', 'June/Auggie', 'Sebille', 'Vye', 'Vye', 'Monti', 'Dragonborn', 'Roll', 'Yev', 'Sebille', 'Vye', 'Monti', 'Dragonborn', 'Sebille', 'Sebille', 'Vye', 'Yev', 'Monti', 'Roll', 'Dragonborn', 'Dragonborn', 'Sebille', 'Yev', 'Roll', 'Roll', 'Roll', 'Dragonborn', 'Yev', 'Dragonborn', 'Sebille', 'Vye', 'Vye', 'Vye', 'Vye', 'Yev', 'Yev', 'Yev', 'Monti', 'Roll', 'Roll', 'Roll', 'Roll', 'Sebille', 'Yev', 'Roll', 'Vye', 'Vye', 'Monti', 'Roll', 'Vye', 'Sebille', 'Yev', 'Monti', 'Roll', 'Monti', 'Tithe', 'Vye', 'Tithe', 'Roll', 'Tithe', 'Yev', 'Yev', 'Yev', 'Vye', 'Roll', 'Vye', 'Vye', 'Vye', 'Vye', 'Roll', 'Vye', 'Monti', 'Vye', 'Dragonborn', 'Vye', 'Monti', 'June/Auggie', 'Monti', 'Monti', 'June/Auggie', 'Monti', 'Vye', 'Yev', 'Monti', 'Monti', 'Monti', 'Monti', 'Monti', 'Vye', 'Vye', 'Yev', 'June/Auggie', 'Dragonborn', 'Monti', 'Roll', 'Yev', 'Tithe', 'Vye', 'June/Auggie', 'Yev', 'Yev', 'June/Auggie', 'Dragonborn', 'Yev', 'Roll', 'Vye', 'Monti', 'Tithe', 'Monti', 'June/Auggie', 'Dragonborn', 'Yev', 'Vye', 'June/Auggie', 'Vye', 'Vye', 'Dragonborn', 'Dragonborn', 'Yev', 'Vye', 'Monti', 'Vye', 'Vye', 'Roll', 'Dragonborn', 'Dragonborn', 'Yev', 'Dragonborn', 'Monti', 'Yev', 'Yev', 'Monti', 'Tithe', 'Vye', 'Monti', 'June/Auggie', 'Dragonborn', 'Yev', 'Vye', 'Monti', 'Yev', 'June/Auggie', 'Yev', 'Vye', 'Vye', 'Dragonborn', 'Monti', 'June/Auggie', 'Yev', 'Vye', 'Roll', 'Tithe', 'Dragonborn', 'Vye', 'Yev', 'Dragonborn', 'Dragonborn', 'Dragonborn', 'Vye', 'Vye', 'Dragonborn', 'Monti', 'Yev', 'Dragonborn', 'Dragonborn', 'Roll', 'Yev', 'Monti', 'Monti', 'Dragonborn', 'Roll', 'Yev', 'Monti', 'Monti', 'Yev', 'Vye', 'Dragonborn', 'Roll', 'Yev', 'Monti', 'Monti', 'Yev', 'Monti', 'Vye', 'June/Auggie', 'Vye', 'Dragonborn', 'Roll', 'Roll', 'Dragonborn', 'Monti', 'Yev', 'Dragonborn', 'Dragonborn', 'Monti', 'Yev', 'Roll', 'Vye', 'Vye', 'Vye', 'Vye', 'June/Auggie', 'Vye', 'Vye', 'Vye', 'Sebille', 'Vye', 'Vye', 'Vye', 'Yev', 'Vye', 'Yev', 'Sebille', 'Wing', 'Vye', 'Sebille', 'Yev', 'Sebille', 'Vye', 'June/Auggie', 'Sebille', 'Genki', 'Sebille', 'Genki', 'Vye', 'Genki', 'Sebille', 'June/Auggie', 'Vye', 'Genki', 'Vye', 'June/Auggie', 'Genki', 'Genki', 'Vye', 'Tithe', 'Vye', 'Genki', 'Tithe', 'June/Auggie', 'Vye', 'Tithe', 'Genki', 'Roll', 'Vye', 'Roll', 'Roll', 'Vye', 'Roll', 'Vye', 'Genki', 'Vye', 'June/Auggie', 'Tithe', 'Genki', 'Roll', 'Vye', 'June/Auggie', 'Vye', 'NPC', 'Genki', 'Monti', 'Roll', 'Tithe', 'Vye', 'Vye', 'Genki', 'Roll', 'NPC', 'NPC', 'Wing', 'Vye', 'Genki', 'Roll', 'June/Auggie', 'Genki', 'Wing', 'June/Auggie', 'Vye', 'NPC', 'Vye', 'Vye', 'Genki', 'Genki', 'Vye', 'Roll', 'June/Auggie', 'Roll', 'June/Auggie', 'Roll', 'Tithe', 'Vye', 'Wing', 'NPC', 'Vye', 'Wing', 'Vye', 'Tithe', 'Roll', 'Vye', 'Roll', 'Vye', 'June/Auggie', 'Tithe', 'Wing', 'Wing', 'Roll', 'June/Auggie', 'Tithe', 'NPC', 'Wing', 'Vye', 'Tithe', 'Roll', 'June/Auggie', 'June/Auggie', 'Vye', 'Dragonborn', 'Yev', 'June/Auggie', 'Vye', 'Roll', 'Roll', 'Roll', 'Tithe', 'Vye', 'Monti', 'Monti', 'Monti', 'Monti', 'Monti', 'Monti', 'Monti', 'Monti', 'Yev', 'Vye', 'Vye', 'Dragonborn', 'Yev', 'Wing', 'Yev', 'Tithe', 'Wing', 'Vye', 'Dragonborn', 'Roll', 'Tithe', 'Vye', 'Tithe', 'Dragonborn', 'Vye', 'Roll', 'Yev', 'Tithe', 'Dragonborn', 'Vye', 'Wing', 'Yev', 'Vye', 'Dragonborn', 'Vye', 'Monti', 'Tithe', 'Vye', 'Monti', 'June/Auggie', 'Roll', 'Wing', 'Dragonborn', 'Vye', 'Yev', 'Monti', 'Vye', 'Roll', 'Yev', 'Roll', 'Vye', 'Yev', 'Vye', 'Yev', 'NPC', 'Dragonborn', 'Vye', 'Roll', 'Yev', 'Tithe', 'Yev', 'Roll', 'Vye', 'Roll', 'Vye', 'Monti', 'Dragonborn', 'Vye', 'Tithe', 'Vye', 'Sebille', 'Dragonborn', 'Wing', 'Sebille', 'Vye', 'Tithe', 'Monti', 'Roll', 'Yev', 'Roll', 'Yev', 'Vye', 'Dragonborn', 'Vye', 'Sebille', 'Roll', 'Sebille', 'Vye', 'Yev', 'Roll', 'Sebille', 'Roll', 'Vye', 'Yev', 'Sebille', 'Yev', 'Sebille', 'Sebille', 'Vye', 'Yev', 'Vye', 'Yev']\n",
      "Roll Types: 596 ['Generic', 'Generic', 'Generic', 'Generic', 'Generic', 'Generic', 'Generic', 'Generic', 'Generic', 'Generic', 'Generic', 'Generic', 'Generic', 'Generic', 'Generic', 'Generic', 'Generic', 'Generic', 'Generic', 'Generic', 'Generic', 'Generic', 'Generic', 'Generic', 'Generic', 'Generic', 'Generic', 'Generic', 'Generic', 'Generic', 'Generic', 'Generic', 'Generic', 'Generic', 'Generic', 'Generic', 'Generic', 'Generic', 'Generic', 'Generic', 'Generic', 'Generic', 'Generic', 'Generic', 'Generic', 'Generic', 'Generic', 'Generic', 'Generic', 'Generic', 'Generic', 'Generic', 'Generic', 'Generic', 'Generic', 'Ability Check', 'Initiative', 'Initiative', 'Spell/Attack', 'Initiative', 'Generic', 'Ability Check', 'Initiative', 'Initiative', 'Initiative', 'Initiative', 'Ability Check', 'Ability Check', 'Ability Check', 'Spell/Attack', 'Initiative', 'Initiative', 'Saving Throw', 'Spell/Attack', 'Saving Throw', 'Spell/Attack', 'Spell/Attack', 'Spell/Attack', 'Spell/Attack', 'Ability Check', 'Spell/Attack', 'Initiative', 'Spell/Attack', 'Spell/Attack', 'Spell/Attack', 'Spell/Attack', 'Spell/Attack', 'Saving Throw', 'Spell/Attack', 'Spell/Attack', 'Spell/Attack', 'Spell/Attack', 'Saving Throw', 'Saving Throw', 'Spell/Attack', 'Ability Check', 'Spell/Attack', 'Spell/Attack', 'Ability Check', 'Spell/Attack', 'Initiative', 'Ability Check', 'Initiative', 'Ability Check', 'Ability Check', 'Ability Check', 'Spell/Attack', 'Ability Check', 'Ability Check', 'Ability Check', 'Ability Check', 'Generic', 'Ability Check', 'Ability Check', 'Ability Check', 'Ability Check', 'Ability Check', 'Ability Check', 'Ability Check', 'Ability Check', 'Ability Check', 'Ability Check', 'Spell/Attack', 'Generic', 'Ability Check', 'Ability Check', 'Ability Check', 'Ability Check', 'Ability Check', 'Ability Check', 'Ability Check', 'Ability Check', 'Ability Check', 'Ability Check', 'Ability Check', 'Spell/Attack', 'Generic', 'Spell/Attack', 'Spell/Attack', 'Ability Check', 'Generic', 'Initiative', 'Initiative', 'Initiative', 'Initiative', 'Initiative', 'Ability Check', 'Spell/Attack', 'Ability Check', 'Spell/Attack', 'Spell/Attack', 'Ability Check', 'Generic', 'Generic', 'Generic', 'Ability Check', 'Ability Check', 'Generic', 'Generic', 'Generic', 'Generic', 'Spell/Attack', 'Generic', 'Initiative', 'Generic', 'Initiative', 'Initiative', 'Initiative', 'Generic', 'Ability Check', 'Spell/Attack', 'Ability Check', 'Ability Check', 'Spell/Attack', 'Generic', 'Generic', 'Generic', 'Spell/Attack', 'Spell/Attack', 'Spell/Attack', 'Generic', 'Spell/Attack', 'Spell/Attack', 'Spell/Attack', 'Generic', 'Spell/Attack', 'Generic', 'Generic', 'Generic', 'Spell/Attack', 'Generic', 'Generic', 'Generic', 'Generic', 'Generic', 'Generic', 'Generic', 'Spell/Attack', 'Spell/Attack', 'Spell/Attack', 'Spell/Attack', 'Spell/Attack', 'Generic', 'Generic', 'Generic', 'Saving Throw', 'Generic', 'Generic', 'Generic', 'Generic', 'Spell/Attack', 'Generic', 'Generic', 'Ability Check', 'Ability Check', 'Spell/Attack', 'Spell/Attack', 'Spell/Attack', 'Spell/Attack', 'Generic', 'Generic', 'Generic', 'Generic', 'Generic', 'Generic', 'Generic', 'Generic', 'Generic', 'Spell/Attack', 'Ability Check', 'Ability Check', 'Ability Check', 'Ability Check', 'Spell/Attack', 'Ability Check', 'Saving Throw', 'Ability Check', 'Ability Check', 'Ability Check', 'Ability Check', 'Ability Check', 'Generic', 'Ability Check', 'Ability Check', 'Ability Check', 'Ability Check', 'Ability Check', 'Ability Check', 'Ability Check', 'Ability Check', 'Ability Check', 'Spell/Attack', 'Spell/Attack', 'Spell/Attack', 'Spell/Attack', 'Spell/Attack', 'Saving Throw', 'Ability Check', 'Ability Check', 'Saving Throw', 'Generic', 'Generic', 'Generic', 'Generic', 'Generic', 'Ability Check', 'Saving Throw', 'Ability Check', 'Initiative', 'Initiative', 'Initiative', 'Initiative', 'Initiative', 'Initiative', 'Initiative', 'Initiative', 'Saving Throw', 'Saving Throw', 'Generic', 'Saving Throw', 'Saving Throw', 'Saving Throw', 'Saving Throw', 'Saving Throw', 'Generic', 'Generic', 'Ability Check', 'Ability Check', 'Generic', 'Ability Check', 'Ability Check', 'Saving Throw', 'Generic', 'Generic', 'Ability Check', 'Generic', 'Ability Check', 'Generic', 'Saving Throw', 'Saving Throw', 'Generic', 'Ability Check', 'Ability Check', 'Saving Throw', 'Generic', 'Ability Check', 'Ability Check', 'Ability Check', 'Generic', 'Ability Check', 'Ability Check', 'Ability Check', 'Ability Check', 'Generic', 'Initiative', 'Initiative', 'Initiative', 'Initiative', 'Initiative', 'Initiative', 'Generic', 'Ability Check', 'Generic', 'Spell/Attack', 'Spell/Attack', 'Spell/Attack', 'Ability Check', 'Ability Check', 'Spell/Attack', 'Spell/Attack', 'Spell/Attack', 'Generic', 'Spell/Attack', 'Ability Check', 'Spell/Attack', 'Ability Check', 'Saving Throw', 'Generic', 'Ability Check', 'Spell/Attack', 'Spell/Attack', 'Spell/Attack', 'Spell/Attack', 'Ability Check', 'Spell/Attack', 'Spell/Attack', 'Spell/Attack', 'Spell/Attack', 'Spell/Attack', 'Saving Throw', 'Saving Throw', 'Saving Throw', 'Saving Throw', 'Spell/Attack', 'Spell/Attack', 'Spell/Attack', 'Spell/Attack', 'Generic', 'Spell/Attack', 'Generic', 'Generic', 'Ability Check', 'Saving Throw', 'Saving Throw', 'Saving Throw', 'Saving Throw', 'Ability Check', 'Ability Check', 'Spell/Attack', 'Initiative', 'Spell/Attack', 'Spell/Attack', 'Ability Check', 'Spell/Attack', 'Ability Check', 'Ability Check', 'Ability Check', 'Generic', 'Ability Check', 'Generic', 'Generic', 'Generic', 'Ability Check', 'Ability Check', 'Generic', 'Spell/Attack', 'Ability Check', 'Ability Check', 'Spell/Attack', 'Generic', 'Ability Check', 'Generic', 'Ability Check', 'Generic', 'Spell/Attack', 'Ability Check', 'Ability Check', 'Generic', 'Ability Check', 'Ability Check', 'Generic', 'Generic', 'Saving Throw', 'Generic', 'Saving Throw', 'Generic', 'Generic', 'Initiative', 'Initiative', 'Generic', 'Generic', 'Spell/Attack', 'Spell/Attack', 'Generic', 'Generic', 'Spell/Attack', 'Generic', 'Spell/Attack', 'Generic', 'Spell/Attack', 'Ability Check', 'Generic', 'Generic', 'Generic', 'Ability Check', 'Ability Check', 'Ability Check', 'Initiative', 'Generic', 'Generic', 'Generic', 'Generic', 'Ability Check', 'Ability Check', 'Generic', 'Ability Check', 'Ability Check', 'Ability Check', 'Ability Check', 'Ability Check', 'Generic', 'Ability Check', 'Ability Check', 'Generic', 'Saving Throw', 'Ability Check', 'Ability Check', 'Ability Check', 'Saving Throw', 'Saving Throw', 'Generic', 'Generic', 'Ability Check', 'Ability Check', 'Ability Check', 'Ability Check', 'Saving Throw', 'Saving Throw', 'Generic', 'Saving Throw', 'Saving Throw', 'Saving Throw', 'Ability Check', 'Ability Check', 'Ability Check', 'Generic', 'Ability Check', 'Ability Check', 'Initiative', 'Initiative', 'Initiative', 'Generic', 'Initiative', 'Initiative', 'Initiative', 'Initiative', 'Initiative', 'Initiative', 'Initiative', 'Spell/Attack', 'Generic', 'Ability Check', 'Saving Throw', 'Saving Throw', 'Spell/Attack', 'Initiative', 'Initiative', 'Saving Throw', 'Spell/Attack', 'Generic', 'Spell/Attack', 'Spell/Attack', 'Spell/Attack', 'Spell/Attack', 'Ability Check', 'Saving Throw', 'Ability Check', 'Saving Throw', 'Ability Check', 'Saving Throw', 'Spell/Attack', 'Ability Check', 'Ability Check', 'Ability Check', 'Initiative', 'Initiative', 'Initiative', 'Initiative', 'Initiative', 'Initiative', 'Initiative', 'Initiative', 'Initiative', 'Initiative', 'Saving Throw', 'Saving Throw', 'Spell/Attack', 'Generic', 'Saving Throw', 'Saving Throw', 'Spell/Attack', 'Saving Throw', 'Generic', 'Spell/Attack', 'Spell/Attack', 'Spell/Attack', 'Ability Check', 'Ability Check', 'Ability Check', 'Ability Check', 'Saving Throw', 'Ability Check', 'Spell/Attack', 'Ability Check', 'Ability Check', 'Ability Check', 'Ability Check', 'Ability Check', 'Ability Check', 'Ability Check', 'Ability Check', 'Ability Check', 'Ability Check', 'Ability Check', 'Ability Check', 'Ability Check', 'Ability Check', 'Spell/Attack', 'Generic', 'Generic', 'Generic', 'Generic', 'Generic', 'Generic', 'Initiative', 'Initiative', 'Generic', 'Initiative', 'Initiative', 'Initiative', 'Initiative', 'Initiative', 'Initiative', 'Ability Check', 'Ability Check', 'Ability Check', 'Ability Check', 'Ability Check', 'Ability Check', 'Ability Check', 'Ability Check', 'Ability Check', 'Ability Check', 'Ability Check', 'Ability Check', 'Ability Check', 'Ability Check', 'Spell/Attack', 'Ability Check', 'Ability Check', 'Ability Check', 'Ability Check', 'Spell/Attack', 'Ability Check', 'Ability Check', 'Ability Check', 'Ability Check', 'Ability Check', 'Ability Check', 'Ability Check', 'Ability Check', 'Spell/Attack', 'Initiative', 'Initiative', 'Spell/Attack', 'Spell/Attack']\n",
      "d20 rolls: 596 [20, 7, 1, 15, 9, 11, 8, 16, 15, 13, 12, 14, 11, 8, 17, 19, 7, 20, 2, 12, 6, 20, 20, 13, 11, 14, 2, 17, 7, 4, 7, 11, 24, 25, 16, 2, 10, 14, 3, 10, 7, 9, 14, 10, 18, 11, 13, 13, 17, 3, 10, 11, 2, 18, 13, 1, 4, 10, 2, 17, 16, 10, 17, 11, 6, 15, 6, 7, 9, 10, 9, 20, 19, 6, 19, 14, 12, 4, 2, 20, 12, 5, 15, 20, 5, 9, 10, 15, 7, 16, 15, 13, 10, 3, 7, 4, 5, 18, 19, 9, 3, 15, 20, 10, 8, 10, 10, 5, 14, 14, 14, 3, 9, 2, 11, 11, 4, 5, 19, 10, 18, 20, 3, 12, 19, 1, 16, 4, 8, 6, 1, 7, 6, 7, 15, 13, 20, 18, 19, 4, 15, 10, 4, 17, 9, 4, 7, 2, 8, 16, 8, 14, 17, 7, 12, 20, 11, 10, 16, 1, 12, 20, 3, 20, 1, 14, 3, 14, 3, 4, 16, 7, 5, 13, 9, 1, 16, 9, 11, 4, 18, 15, 12, 9, 17, 15, 10, 13, 9, 12, 13, 11, 15, 10, 13, 18, 15, 17, 16, 13, 14, 10, 7, 23, 24, 19, 18, 20, 18, 6, 2, 25, 2, 2, 18, 20, 10, 12, 4, 4, 9, 19, 16, 10, 17, 9, 11, 13, 15, 18, 20, 13, 6, 11, 3, 1, 13, 6, 15, 16, 1, 2, 19, 15, 19, 13, 9, 5, 2, 18, 7, 12, 8, 1, 1, 13, 2, 7, 14, 16, 2, 17, 11, 14, 14, 13, 11, 18, 6, 10, 6, 10, 16, 19, 10, 1, 3, 20, 20, 6, 18, 8, 3, 18, 14, 12, 20, 1, 12, 12, 1, 17, 14, 16, 19, 2, 15, 19, 2, 12, 5, 14, 8, 15, 7, 2, 3, 15, 16, 17, 9, 14, 2, 12, 6, 5, 13, 12, 1, 2, 8, 3, 14, 6, 10, 5, 18, 5, 5, 3, 15, 15, 17, 6, 2, 12, 17, 8, 1, 8, 19, 6, 12, 19, 11, 4, 4, 2, 12, 15, 7, 17, 3, 8, 16, 2, 5, 20, 6, 12, 17, 16, 12, 14, 16, 9, 3, 10, 13, 12, 11, 3, 20, 15, 12, 14, 17, 13, 8, 2, 7, 18, 7, 1, 13, 12, 9, 1, 3, 6, 9, 19, 11, 25, 15, 5, 6, 19, 11, 6, 6, 19, 18, 17, 13, 11, 12, 14, 4, 13, 20, 2, 16, 19, 3, 10, 14, 4, 23, 6, 17, 24, 17, 23, 16, 18, 8, 17, 8, 7, 17, 14, 5, 19, 7, 10, 11, 3, 6, 14, 18, 5, 15, 18, 12, 17, 2, 14, 2, 19, 15, 2, 5, 14, 16, 16, 8, 17, 11, 8, 5, 6, 18, 8, 4, 14, 8, 9, 20, 5, 4, 9, 17, 14, 4, 18, 5, 8, 15, 4, 9, 3, 18, 13, 6, 3, 17, 9, 8, 8, 7, 5, 11, 15, 5, 20, 4, 12, 12, 1, 13, 17, 19, 12, 3, 2, 13, 18, 9, 20, 10, 14, 19, 17, 17, 2, 7, 4, 19, 16, 11, 15, 18, 1, 16, 17, 12, 9, 4, 16, 13, 6, 18, 5, 16, 14, 16, 5, 20, 17, 10, 14, 9, 9, 10, 4, 15, 4, 10, 10, 9, 16, 13, 2, 1, 8, 12, 18, 17, 15, 20, 5, 12, 3, 20, 12, 2, 5, 17, 3, 7, 13, 12, 11, 5, 11, 9, 2, 20, 1, 15, 3, 12, 2, 13, 2, 13, 8, 18, 20, 14, 12, 17, 11, 10, 20]\n",
      "Timestamps: 596 [datetime.datetime(2018, 10, 14, 13, 26), datetime.datetime(2018, 10, 14, 13, 34), datetime.datetime(2018, 10, 14, 13, 34), datetime.datetime(2018, 10, 14, 13, 36), datetime.datetime(2018, 10, 14, 13, 52), datetime.datetime(2018, 10, 14, 14, 4), datetime.datetime(2018, 10, 14, 14, 7), datetime.datetime(2018, 10, 14, 14, 14), datetime.datetime(2018, 10, 14, 14, 45), datetime.datetime(2018, 10, 14, 15, 28), datetime.datetime(2018, 10, 14, 15, 29), datetime.datetime(2018, 10, 14, 17, 26), datetime.datetime(2018, 10, 14, 17, 37), datetime.datetime(2018, 10, 14, 18, 3), datetime.datetime(2018, 10, 14, 18, 10), datetime.datetime(2018, 10, 14, 18, 18), datetime.datetime(2018, 10, 14, 18, 32), datetime.datetime(2018, 10, 14, 18, 43), datetime.datetime(2018, 10, 14, 18, 53), datetime.datetime(2018, 10, 14, 19, 2), datetime.datetime(2020, 4, 18, 20, 26), datetime.datetime(2020, 4, 18, 20, 38), datetime.datetime(2020, 4, 18, 20, 39), datetime.datetime(2020, 4, 18, 21, 10), datetime.datetime(2020, 4, 18, 21, 10), datetime.datetime(2020, 4, 18, 21, 11), datetime.datetime(2020, 4, 18, 21, 36), datetime.datetime(2020, 4, 18, 21, 37), datetime.datetime(2020, 4, 18, 22, 3), datetime.datetime(2020, 4, 18, 22, 14), datetime.datetime(2020, 4, 18, 22, 15), datetime.datetime(2020, 4, 18, 22, 21), datetime.datetime(2020, 4, 18, 22, 45), datetime.datetime(2020, 4, 18, 22, 52), datetime.datetime(2020, 4, 18, 22, 56), datetime.datetime(2020, 4, 18, 23, 44), datetime.datetime(2020, 5, 23, 20, 17), datetime.datetime(2020, 5, 23, 20, 20), datetime.datetime(2020, 5, 23, 20, 21), datetime.datetime(2020, 5, 23, 20, 31), datetime.datetime(2020, 5, 23, 20, 31), datetime.datetime(2020, 5, 23, 20, 32), datetime.datetime(2020, 5, 23, 20, 33), datetime.datetime(2020, 5, 23, 20, 53), datetime.datetime(2020, 5, 23, 20, 55), datetime.datetime(2020, 5, 23, 23, 0), datetime.datetime(2020, 5, 23, 23, 1), datetime.datetime(2020, 5, 23, 23, 45), datetime.datetime(2020, 5, 23, 23, 47), datetime.datetime(2020, 5, 23, 23, 47), datetime.datetime(2020, 5, 23, 23, 49), datetime.datetime(2020, 5, 23, 23, 49), datetime.datetime(2020, 5, 23, 23, 51), datetime.datetime(2020, 5, 24, 0, 30), datetime.datetime(2020, 5, 24, 0, 40), datetime.datetime(2020, 6, 6, 20, 8), datetime.datetime(2020, 6, 6, 20, 18), datetime.datetime(2020, 6, 6, 20, 21), datetime.datetime(2020, 6, 6, 20, 26), datetime.datetime(2020, 6, 6, 20, 30), datetime.datetime(2020, 6, 6, 20, 31), datetime.datetime(2020, 6, 6, 20, 32), datetime.datetime(2020, 6, 6, 20, 34), datetime.datetime(2020, 6, 6, 20, 34), datetime.datetime(2020, 6, 6, 20, 34), datetime.datetime(2020, 6, 6, 20, 34), datetime.datetime(2020, 6, 6, 20, 36), datetime.datetime(2020, 6, 6, 20, 36), datetime.datetime(2020, 6, 6, 20, 38), datetime.datetime(2020, 6, 6, 20, 38), datetime.datetime(2020, 6, 6, 20, 39), datetime.datetime(2020, 6, 6, 20, 39), datetime.datetime(2020, 6, 6, 20, 39), datetime.datetime(2020, 6, 6, 20, 39), datetime.datetime(2020, 6, 6, 20, 39), datetime.datetime(2020, 6, 6, 20, 40), datetime.datetime(2020, 6, 6, 20, 40), datetime.datetime(2020, 6, 6, 20, 41), datetime.datetime(2020, 6, 6, 20, 41), datetime.datetime(2020, 6, 6, 20, 41), datetime.datetime(2020, 6, 6, 20, 41), datetime.datetime(2020, 6, 6, 20, 41), datetime.datetime(2020, 6, 6, 20, 42), datetime.datetime(2020, 6, 6, 20, 42), datetime.datetime(2020, 6, 6, 20, 42), datetime.datetime(2020, 6, 6, 20, 43), datetime.datetime(2020, 6, 6, 20, 44), datetime.datetime(2020, 6, 6, 20, 44), datetime.datetime(2020, 6, 6, 20, 47), datetime.datetime(2020, 6, 6, 20, 50), datetime.datetime(2020, 6, 6, 20, 51), datetime.datetime(2020, 6, 6, 20, 52), datetime.datetime(2020, 6, 6, 20, 57), datetime.datetime(2020, 6, 6, 20, 57), datetime.datetime(2020, 6, 6, 20, 57), datetime.datetime(2020, 6, 6, 20, 59), datetime.datetime(2020, 6, 6, 20, 59), datetime.datetime(2020, 6, 6, 21, 3), datetime.datetime(2020, 6, 6, 21, 9), datetime.datetime(2020, 6, 6, 21, 13), datetime.datetime(2020, 6, 6, 21, 21), datetime.datetime(2020, 6, 6, 21, 22), datetime.datetime(2020, 6, 6, 21, 22), datetime.datetime(2020, 6, 6, 21, 26), datetime.datetime(2020, 6, 6, 21, 27), datetime.datetime(2020, 6, 6, 21, 46), datetime.datetime(2020, 6, 6, 21, 55), datetime.datetime(2020, 6, 6, 22, 8), datetime.datetime(2020, 6, 6, 22, 8), datetime.datetime(2020, 6, 6, 22, 8), datetime.datetime(2020, 6, 6, 22, 8), datetime.datetime(2020, 6, 6, 22, 16), datetime.datetime(2020, 6, 6, 22, 24), datetime.datetime(2020, 6, 6, 22, 32), datetime.datetime(2020, 6, 6, 22, 35), datetime.datetime(2020, 6, 6, 22, 38), datetime.datetime(2020, 6, 6, 22, 43), datetime.datetime(2020, 6, 6, 23, 10), datetime.datetime(2020, 6, 6, 23, 11), datetime.datetime(2020, 6, 6, 23, 14), datetime.datetime(2020, 6, 6, 23, 18), datetime.datetime(2020, 6, 6, 23, 22), datetime.datetime(2020, 6, 6, 23, 32), datetime.datetime(2020, 6, 6, 23, 59), datetime.datetime(2020, 6, 6, 23, 59), datetime.datetime(2020, 6, 6, 23, 59), datetime.datetime(2020, 6, 6, 23, 59), datetime.datetime(2020, 6, 7, 0, 0), datetime.datetime(2020, 6, 7, 0, 6), datetime.datetime(2020, 6, 7, 0, 7), datetime.datetime(2020, 6, 7, 0, 8), datetime.datetime(2020, 6, 7, 0, 11), datetime.datetime(2020, 6, 7, 0, 13), datetime.datetime(2020, 6, 7, 0, 17), datetime.datetime(2020, 6, 7, 0, 31), datetime.datetime(2020, 6, 7, 0, 34), datetime.datetime(2020, 6, 13, 20, 41), datetime.datetime(2020, 6, 13, 21, 19), datetime.datetime(2020, 6, 13, 21, 26), datetime.datetime(2020, 6, 13, 21, 27), datetime.datetime(2020, 6, 13, 21, 47), datetime.datetime(2020, 6, 13, 21, 47), datetime.datetime(2020, 6, 13, 21, 47), datetime.datetime(2020, 6, 13, 21, 47), datetime.datetime(2020, 6, 13, 21, 47), datetime.datetime(2020, 6, 13, 21, 47), datetime.datetime(2020, 6, 13, 22, 4), datetime.datetime(2020, 6, 13, 22, 27), datetime.datetime(2020, 6, 13, 22, 34), datetime.datetime(2020, 6, 13, 22, 34), datetime.datetime(2020, 6, 13, 22, 36), datetime.datetime(2020, 6, 13, 22, 40), datetime.datetime(2020, 6, 13, 22, 44), datetime.datetime(2020, 6, 13, 22, 54), datetime.datetime(2020, 6, 13, 22, 54), datetime.datetime(2020, 6, 13, 23, 8), datetime.datetime(2020, 6, 13, 23, 14), datetime.datetime(2020, 6, 13, 23, 16), datetime.datetime(2020, 6, 13, 23, 18), datetime.datetime(2020, 6, 13, 23, 22), datetime.datetime(2020, 6, 13, 23, 38), datetime.datetime(2020, 6, 13, 23, 41), datetime.datetime(2020, 6, 27, 20, 50), datetime.datetime(2020, 6, 27, 20, 50), datetime.datetime(2020, 6, 27, 20, 50), datetime.datetime(2020, 6, 27, 20, 50), datetime.datetime(2020, 6, 27, 20, 50), datetime.datetime(2020, 6, 27, 20, 50), datetime.datetime(2020, 6, 27, 20, 54), datetime.datetime(2020, 6, 27, 21, 3), datetime.datetime(2020, 6, 27, 21, 7), datetime.datetime(2020, 6, 27, 21, 11), datetime.datetime(2020, 6, 27, 21, 13), datetime.datetime(2020, 6, 27, 21, 19), datetime.datetime(2020, 6, 27, 21, 35), datetime.datetime(2020, 6, 27, 21, 40), datetime.datetime(2020, 6, 27, 21, 44), datetime.datetime(2020, 6, 27, 21, 57), datetime.datetime(2020, 6, 27, 21, 59), datetime.datetime(2020, 6, 27, 22, 5), datetime.datetime(2020, 6, 27, 22, 13), datetime.datetime(2020, 6, 27, 22, 23), datetime.datetime(2020, 6, 27, 22, 24), datetime.datetime(2020, 6, 27, 22, 26), datetime.datetime(2020, 6, 27, 22, 28), datetime.datetime(2020, 6, 27, 22, 31), datetime.datetime(2020, 6, 27, 22, 35), datetime.datetime(2020, 6, 27, 22, 37), datetime.datetime(2020, 6, 27, 22, 50), datetime.datetime(2020, 6, 27, 22, 53), datetime.datetime(2020, 6, 27, 23, 2), datetime.datetime(2020, 6, 27, 23, 10), datetime.datetime(2020, 6, 27, 23, 11), datetime.datetime(2020, 6, 27, 23, 12), datetime.datetime(2020, 6, 27, 23, 13), datetime.datetime(2020, 6, 27, 23, 17), datetime.datetime(2020, 6, 27, 23, 22), datetime.datetime(2020, 6, 27, 23, 24), datetime.datetime(2020, 6, 27, 23, 25), datetime.datetime(2020, 6, 27, 23, 26), datetime.datetime(2020, 6, 27, 23, 27), datetime.datetime(2020, 6, 27, 23, 27), datetime.datetime(2020, 6, 27, 23, 32), datetime.datetime(2020, 6, 27, 23, 34), datetime.datetime(2020, 6, 27, 23, 34), datetime.datetime(2020, 6, 27, 23, 37), datetime.datetime(2020, 6, 27, 23, 38), datetime.datetime(2020, 6, 27, 23, 38), datetime.datetime(2020, 6, 27, 23, 42), datetime.datetime(2020, 6, 27, 23, 46), datetime.datetime(2020, 6, 27, 23, 48), datetime.datetime(2020, 6, 28, 0, 52), datetime.datetime(2020, 6, 28, 1, 16), datetime.datetime(2020, 6, 28, 1, 25), datetime.datetime(2020, 6, 28, 1, 31), datetime.datetime(2020, 7, 20, 1, 13), datetime.datetime(2020, 7, 23, 23, 23), datetime.datetime(2020, 7, 24, 12, 28), datetime.datetime(2020, 7, 24, 17, 42), datetime.datetime(2020, 7, 24, 20, 29), datetime.datetime(2020, 7, 24, 20, 30), datetime.datetime(2020, 7, 24, 20, 30), datetime.datetime(2020, 7, 24, 20, 30), datetime.datetime(2020, 7, 24, 20, 30), datetime.datetime(2020, 7, 24, 20, 30), datetime.datetime(2020, 7, 24, 20, 30), datetime.datetime(2020, 7, 24, 20, 30), datetime.datetime(2020, 7, 24, 20, 30), datetime.datetime(2020, 7, 24, 20, 36), datetime.datetime(2020, 7, 24, 20, 48), datetime.datetime(2020, 7, 24, 23, 21), datetime.datetime(2020, 7, 24, 23, 33), datetime.datetime(2020, 7, 24, 23, 43), datetime.datetime(2020, 7, 24, 23, 53), datetime.datetime(2020, 7, 25, 0, 6), datetime.datetime(2020, 7, 25, 0, 7), datetime.datetime(2020, 7, 25, 0, 14), datetime.datetime(2020, 7, 25, 0, 18), datetime.datetime(2020, 7, 25, 0, 46), datetime.datetime(2020, 7, 25, 0, 51), datetime.datetime(2020, 7, 25, 1, 12), datetime.datetime(2020, 7, 25, 1, 25), datetime.datetime(2020, 7, 25, 1, 31), datetime.datetime(2020, 7, 25, 1, 46), datetime.datetime(2020, 8, 7, 20, 57), datetime.datetime(2020, 8, 7, 21, 1), datetime.datetime(2020, 8, 7, 21, 20), datetime.datetime(2020, 8, 7, 21, 38), datetime.datetime(2020, 8, 7, 21, 55), datetime.datetime(2020, 8, 7, 21, 56), datetime.datetime(2020, 8, 7, 22, 15), datetime.datetime(2020, 8, 7, 22, 53), datetime.datetime(2020, 8, 7, 22, 57), datetime.datetime(2020, 8, 7, 22, 59), datetime.datetime(2020, 8, 7, 23, 0), datetime.datetime(2020, 8, 7, 23, 2), datetime.datetime(2020, 8, 7, 23, 29), datetime.datetime(2020, 8, 7, 23, 29), datetime.datetime(2020, 8, 7, 23, 59), datetime.datetime(2020, 8, 8, 0, 5), datetime.datetime(2020, 8, 22, 19, 57), datetime.datetime(2020, 8, 22, 20, 25), datetime.datetime(2020, 8, 22, 20, 25), datetime.datetime(2020, 8, 22, 20, 26), datetime.datetime(2020, 8, 22, 20, 27), datetime.datetime(2020, 8, 22, 21, 4), datetime.datetime(2020, 8, 22, 21, 6), datetime.datetime(2020, 8, 22, 21, 9), datetime.datetime(2020, 8, 22, 21, 14), datetime.datetime(2020, 8, 22, 21, 14), datetime.datetime(2020, 8, 22, 21, 15), datetime.datetime(2020, 8, 22, 21, 15), datetime.datetime(2020, 8, 22, 21, 15), datetime.datetime(2020, 8, 22, 21, 15), datetime.datetime(2020, 8, 22, 21, 15), datetime.datetime(2020, 8, 22, 21, 15), datetime.datetime(2020, 8, 22, 21, 25), datetime.datetime(2020, 8, 22, 21, 32), datetime.datetime(2020, 8, 22, 21, 34), datetime.datetime(2020, 8, 22, 21, 36), datetime.datetime(2020, 8, 22, 21, 40), datetime.datetime(2020, 8, 22, 21, 52), datetime.datetime(2020, 8, 22, 21, 52), datetime.datetime(2020, 8, 22, 21, 53), datetime.datetime(2020, 8, 22, 21, 57), datetime.datetime(2020, 8, 22, 21, 58), datetime.datetime(2020, 8, 22, 22, 1), datetime.datetime(2020, 8, 22, 22, 4), datetime.datetime(2020, 8, 22, 22, 13), datetime.datetime(2020, 8, 22, 22, 26), datetime.datetime(2020, 8, 22, 22, 27), datetime.datetime(2020, 8, 22, 22, 29), datetime.datetime(2020, 8, 22, 22, 35), datetime.datetime(2020, 8, 22, 22, 35), datetime.datetime(2020, 8, 22, 22, 39), datetime.datetime(2020, 8, 22, 22, 41), datetime.datetime(2020, 8, 22, 22, 45), datetime.datetime(2020, 8, 22, 22, 54), datetime.datetime(2020, 8, 22, 22, 56), datetime.datetime(2020, 8, 22, 22, 56), datetime.datetime(2020, 8, 22, 22, 57), datetime.datetime(2020, 8, 22, 23, 6), datetime.datetime(2020, 8, 22, 23, 57), datetime.datetime(2020, 8, 23, 1, 7), datetime.datetime(2020, 8, 23, 1, 14), datetime.datetime(2020, 8, 23, 1, 28), datetime.datetime(2020, 8, 23, 1, 57), datetime.datetime(2020, 8, 23, 2, 1), datetime.datetime(2020, 8, 23, 2, 12), datetime.datetime(2020, 8, 23, 2, 22), datetime.datetime(2020, 8, 23, 2, 27), datetime.datetime(2020, 8, 23, 2, 37), datetime.datetime(2020, 8, 23, 2, 56), datetime.datetime(2020, 8, 23, 2, 56), datetime.datetime(2020, 8, 23, 2, 57), datetime.datetime(2020, 8, 23, 2, 57), datetime.datetime(2020, 8, 23, 2, 57), datetime.datetime(2020, 8, 23, 2, 57), datetime.datetime(2020, 8, 23, 2, 57), datetime.datetime(2020, 8, 23, 2, 57), datetime.datetime(2020, 8, 23, 3, 0), datetime.datetime(2020, 8, 23, 3, 5), datetime.datetime(2020, 8, 23, 3, 7), datetime.datetime(2020, 8, 23, 3, 14), datetime.datetime(2020, 8, 23, 3, 14), datetime.datetime(2020, 8, 23, 3, 15), datetime.datetime(2020, 8, 23, 3, 15), datetime.datetime(2020, 8, 23, 3, 15), datetime.datetime(2020, 8, 23, 3, 15), datetime.datetime(2020, 8, 23, 3, 26), datetime.datetime(2020, 8, 23, 3, 28), datetime.datetime(2020, 8, 23, 3, 32), datetime.datetime(2020, 8, 23, 3, 32), datetime.datetime(2020, 8, 23, 3, 37), datetime.datetime(2020, 8, 23, 3, 42), datetime.datetime(2020, 8, 23, 3, 53), datetime.datetime(2020, 8, 23, 3, 56), datetime.datetime(2020, 8, 23, 4, 1), datetime.datetime(2020, 8, 23, 4, 6), datetime.datetime(2020, 8, 23, 4, 12), datetime.datetime(2020, 8, 23, 4, 17), datetime.datetime(2020, 8, 23, 4, 17), datetime.datetime(2020, 8, 23, 4, 22), datetime.datetime(2020, 8, 23, 4, 26), datetime.datetime(2020, 8, 23, 4, 27), datetime.datetime(2020, 8, 23, 4, 33), datetime.datetime(2020, 8, 23, 4, 35), datetime.datetime(2020, 8, 23, 4, 40), datetime.datetime(2020, 8, 23, 4, 41), datetime.datetime(2020, 8, 23, 4, 43), datetime.datetime(2020, 8, 23, 4, 43), datetime.datetime(2020, 8, 23, 4, 43), datetime.datetime(2020, 8, 23, 4, 43), datetime.datetime(2020, 8, 23, 4, 47), datetime.datetime(2020, 8, 23, 4, 50), datetime.datetime(2020, 8, 23, 4, 56), datetime.datetime(2020, 8, 23, 4, 56), datetime.datetime(2020, 8, 23, 5, 5), datetime.datetime(2020, 8, 23, 5, 8), datetime.datetime(2020, 8, 23, 5, 10), datetime.datetime(2020, 8, 23, 5, 16), datetime.datetime(2020, 8, 23, 5, 17), datetime.datetime(2020, 8, 23, 5, 26), datetime.datetime(2020, 8, 23, 5, 26), datetime.datetime(2020, 8, 23, 5, 26), datetime.datetime(2020, 8, 23, 5, 26), datetime.datetime(2020, 10, 31, 23, 5), datetime.datetime(2020, 10, 31, 23, 21), datetime.datetime(2020, 10, 31, 23, 47), datetime.datetime(2020, 10, 31, 23, 47), datetime.datetime(2020, 10, 31, 23, 48), datetime.datetime(2020, 11, 1, 0, 3), datetime.datetime(2020, 11, 1, 0, 51), datetime.datetime(2020, 11, 28, 15, 1), datetime.datetime(2020, 11, 28, 15, 8), datetime.datetime(2020, 11, 28, 15, 32), datetime.datetime(2020, 11, 28, 15, 56), datetime.datetime(2020, 11, 28, 16, 5), datetime.datetime(2020, 11, 28, 16, 20), datetime.datetime(2020, 11, 28, 16, 23), datetime.datetime(2020, 11, 28, 16, 23), datetime.datetime(2020, 11, 28, 16, 23), datetime.datetime(2020, 11, 28, 16, 27), datetime.datetime(2020, 11, 28, 16, 27), datetime.datetime(2020, 11, 28, 16, 34), datetime.datetime(2020, 11, 28, 16, 34), datetime.datetime(2020, 11, 28, 16, 36), datetime.datetime(2020, 11, 28, 16, 36), datetime.datetime(2020, 11, 28, 16, 44), datetime.datetime(2020, 11, 28, 17, 28), datetime.datetime(2020, 11, 28, 17, 39), datetime.datetime(2020, 11, 28, 17, 40), datetime.datetime(2020, 11, 28, 17, 40), datetime.datetime(2020, 11, 28, 17, 40), datetime.datetime(2020, 11, 28, 17, 40), datetime.datetime(2020, 11, 28, 17, 46), datetime.datetime(2020, 11, 28, 17, 52), datetime.datetime(2020, 11, 28, 17, 52), datetime.datetime(2020, 11, 28, 17, 53), datetime.datetime(2020, 11, 28, 18, 16), datetime.datetime(2020, 12, 28, 22, 17), datetime.datetime(2020, 12, 28, 22, 22), datetime.datetime(2020, 12, 28, 22, 53), datetime.datetime(2020, 12, 28, 22, 55), datetime.datetime(2020, 12, 28, 22, 56), datetime.datetime(2020, 12, 28, 23, 0), datetime.datetime(2020, 12, 28, 23, 0), datetime.datetime(2020, 12, 28, 23, 0), datetime.datetime(2020, 12, 28, 23, 0), datetime.datetime(2020, 12, 28, 23, 6), datetime.datetime(2020, 12, 28, 23, 7), datetime.datetime(2020, 12, 28, 23, 11), datetime.datetime(2020, 12, 28, 23, 16), datetime.datetime(2020, 12, 28, 23, 35), datetime.datetime(2020, 12, 28, 23, 36), datetime.datetime(2020, 12, 28, 23, 37), datetime.datetime(2020, 12, 28, 23, 44), datetime.datetime(2020, 12, 28, 23, 47), datetime.datetime(2020, 12, 28, 23, 53), datetime.datetime(2020, 12, 28, 23, 55), datetime.datetime(2020, 12, 29, 0, 3), datetime.datetime(2020, 12, 29, 0, 5), datetime.datetime(2020, 12, 29, 0, 7), datetime.datetime(2020, 12, 29, 0, 13), datetime.datetime(2020, 12, 29, 0, 30), datetime.datetime(2020, 12, 29, 0, 45), datetime.datetime(2020, 12, 29, 0, 56), datetime.datetime(2021, 1, 11, 15, 3), datetime.datetime(2021, 1, 15, 22, 25), datetime.datetime(2021, 1, 15, 22, 28), datetime.datetime(2021, 1, 15, 22, 30), datetime.datetime(2021, 1, 15, 22, 30), datetime.datetime(2021, 1, 15, 22, 40), datetime.datetime(2021, 1, 15, 22, 45), datetime.datetime(2021, 1, 15, 22, 45), datetime.datetime(2021, 1, 15, 22, 45), datetime.datetime(2021, 1, 15, 22, 46), datetime.datetime(2021, 1, 15, 22, 56), datetime.datetime(2021, 1, 15, 22, 56), datetime.datetime(2021, 1, 15, 23, 23), datetime.datetime(2021, 1, 15, 23, 24), datetime.datetime(2021, 1, 15, 23, 49), datetime.datetime(2021, 1, 15, 23, 54), datetime.datetime(2021, 1, 15, 23, 54), datetime.datetime(2021, 1, 15, 23, 54), datetime.datetime(2021, 1, 15, 23, 55), datetime.datetime(2021, 1, 15, 23, 58), datetime.datetime(2021, 1, 16, 0, 0), datetime.datetime(2021, 1, 16, 0, 0), datetime.datetime(2021, 1, 16, 0, 0), datetime.datetime(2021, 1, 16, 0, 0), datetime.datetime(2021, 1, 16, 0, 1), datetime.datetime(2021, 1, 16, 0, 8), datetime.datetime(2021, 1, 16, 0, 9), datetime.datetime(2021, 1, 16, 0, 12), datetime.datetime(2021, 1, 16, 0, 18), datetime.datetime(2021, 1, 16, 0, 18), datetime.datetime(2021, 1, 16, 0, 18), datetime.datetime(2021, 1, 16, 0, 18), datetime.datetime(2021, 1, 16, 0, 18), datetime.datetime(2021, 1, 16, 0, 18), datetime.datetime(2021, 1, 16, 0, 19), datetime.datetime(2021, 1, 16, 0, 22), datetime.datetime(2021, 1, 16, 0, 26), datetime.datetime(2021, 1, 16, 0, 26), datetime.datetime(2021, 1, 16, 0, 27), datetime.datetime(2021, 1, 16, 0, 29), datetime.datetime(2021, 1, 16, 0, 30), datetime.datetime(2021, 1, 16, 0, 40), datetime.datetime(2021, 1, 16, 0, 40), datetime.datetime(2021, 1, 16, 0, 40), datetime.datetime(2021, 1, 16, 0, 40), datetime.datetime(2021, 1, 16, 0, 41), datetime.datetime(2021, 1, 16, 0, 42), datetime.datetime(2021, 1, 16, 0, 42), datetime.datetime(2021, 1, 16, 0, 42), datetime.datetime(2021, 1, 16, 0, 42), datetime.datetime(2021, 1, 16, 0, 44), datetime.datetime(2021, 1, 16, 0, 46), datetime.datetime(2021, 1, 16, 0, 53), datetime.datetime(2021, 1, 16, 0, 55), datetime.datetime(2021, 1, 16, 0, 57), datetime.datetime(2021, 1, 16, 0, 58), datetime.datetime(2021, 1, 16, 1, 4), datetime.datetime(2021, 1, 16, 1, 6), datetime.datetime(2021, 1, 16, 1, 16), datetime.datetime(2021, 1, 16, 1, 17), datetime.datetime(2021, 1, 16, 1, 28), datetime.datetime(2021, 1, 16, 1, 30), datetime.datetime(2021, 1, 16, 1, 31), datetime.datetime(2021, 1, 16, 1, 32), datetime.datetime(2021, 1, 16, 1, 33), datetime.datetime(2021, 1, 16, 1, 48), datetime.datetime(2021, 1, 16, 2, 20), datetime.datetime(2021, 3, 26, 22, 43), datetime.datetime(2021, 3, 26, 22, 47), datetime.datetime(2021, 3, 26, 22, 47), datetime.datetime(2021, 3, 26, 22, 48), datetime.datetime(2021, 3, 26, 22, 48), datetime.datetime(2021, 3, 26, 22, 48), datetime.datetime(2021, 3, 26, 22, 50), datetime.datetime(2021, 3, 26, 22, 55), datetime.datetime(2021, 3, 26, 23, 2), datetime.datetime(2021, 3, 26, 23, 12), datetime.datetime(2021, 3, 26, 23, 15), datetime.datetime(2021, 3, 26, 23, 15), datetime.datetime(2021, 3, 26, 23, 15), datetime.datetime(2021, 3, 26, 23, 15), datetime.datetime(2021, 3, 26, 23, 15), datetime.datetime(2021, 3, 26, 23, 15), datetime.datetime(2021, 3, 26, 23, 15), datetime.datetime(2021, 3, 26, 23, 15), datetime.datetime(2021, 3, 26, 23, 16), datetime.datetime(2021, 3, 26, 23, 16), datetime.datetime(2021, 3, 26, 23, 18), datetime.datetime(2021, 3, 26, 23, 19), datetime.datetime(2021, 3, 26, 23, 20), datetime.datetime(2021, 3, 26, 23, 22), datetime.datetime(2021, 3, 26, 23, 26), datetime.datetime(2021, 3, 26, 23, 29), datetime.datetime(2021, 3, 26, 23, 32), datetime.datetime(2021, 3, 26, 23, 34), datetime.datetime(2021, 3, 26, 23, 37), datetime.datetime(2021, 3, 26, 23, 41), datetime.datetime(2021, 3, 26, 23, 42), datetime.datetime(2021, 3, 26, 23, 43), datetime.datetime(2021, 3, 26, 23, 47), datetime.datetime(2021, 3, 26, 23, 53), datetime.datetime(2021, 3, 26, 23, 54), datetime.datetime(2021, 3, 26, 23, 58), datetime.datetime(2021, 3, 27, 0, 2), datetime.datetime(2021, 3, 27, 0, 6), datetime.datetime(2021, 3, 27, 0, 9), datetime.datetime(2021, 3, 27, 0, 14), datetime.datetime(2021, 3, 27, 0, 27), datetime.datetime(2021, 3, 27, 1, 14), datetime.datetime(2021, 3, 27, 1, 24), datetime.datetime(2021, 3, 27, 1, 35), datetime.datetime(2021, 3, 27, 1, 50), datetime.datetime(2021, 3, 27, 1, 50), datetime.datetime(2021, 3, 27, 2, 42), datetime.datetime(2021, 3, 27, 2, 42), datetime.datetime(2021, 3, 27, 2, 45), datetime.datetime(2021, 3, 27, 2, 47), datetime.datetime(2021, 3, 27, 3, 4), datetime.datetime(2021, 3, 27, 3, 6), datetime.datetime(2021, 3, 27, 3, 11), datetime.datetime(2021, 5, 29, 18, 34), datetime.datetime(2021, 5, 29, 21, 0), datetime.datetime(2021, 5, 29, 21, 0), datetime.datetime(2021, 5, 29, 21, 1), datetime.datetime(2021, 5, 29, 21, 1), datetime.datetime(2021, 5, 29, 21, 1), datetime.datetime(2021, 5, 29, 21, 2), datetime.datetime(2021, 5, 29, 21, 3), datetime.datetime(2021, 5, 29, 21, 4), datetime.datetime(2021, 5, 29, 21, 4), datetime.datetime(2021, 5, 29, 21, 4), datetime.datetime(2021, 5, 29, 21, 4), datetime.datetime(2021, 5, 29, 21, 4), datetime.datetime(2021, 5, 29, 21, 4), datetime.datetime(2021, 5, 29, 21, 4), datetime.datetime(2021, 5, 29, 21, 5), datetime.datetime(2021, 5, 29, 21, 36), datetime.datetime(2021, 5, 29, 22, 20), datetime.datetime(2021, 5, 29, 22, 45), datetime.datetime(2021, 5, 29, 22, 45), datetime.datetime(2021, 5, 29, 22, 46), datetime.datetime(2021, 5, 29, 22, 46), datetime.datetime(2021, 5, 29, 22, 46), datetime.datetime(2021, 5, 29, 22, 46), datetime.datetime(2021, 5, 29, 22, 46), datetime.datetime(2021, 5, 29, 22, 58), datetime.datetime(2021, 5, 29, 23, 4), datetime.datetime(2021, 5, 29, 23, 8), datetime.datetime(2021, 5, 29, 23, 14), datetime.datetime(2021, 5, 29, 23, 39), datetime.datetime(2021, 7, 3, 22, 37), datetime.datetime(2021, 7, 3, 22, 43), datetime.datetime(2021, 7, 3, 22, 43), datetime.datetime(2021, 7, 3, 22, 52), datetime.datetime(2021, 7, 3, 22, 56), datetime.datetime(2021, 7, 3, 23, 25), datetime.datetime(2021, 7, 3, 23, 38), datetime.datetime(2021, 7, 3, 23, 38), datetime.datetime(2021, 7, 3, 23, 57), datetime.datetime(2021, 7, 3, 23, 57), datetime.datetime(2021, 7, 3, 23, 57), datetime.datetime(2021, 7, 3, 23, 58), datetime.datetime(2021, 7, 4, 0, 5), datetime.datetime(2021, 7, 4, 0, 22), datetime.datetime(2021, 7, 4, 0, 27), datetime.datetime(2021, 7, 4, 0, 42), datetime.datetime(2021, 7, 4, 0, 42), datetime.datetime(2021, 7, 4, 0, 44), datetime.datetime(2021, 7, 4, 0, 46)]\n"
     ]
    }
   ],
   "source": [
    "import re\n",
    "characters = [] # Who rolled\n",
    "roll_types = [] # What kind of roll: (1) Ability Check (2) Saving Throw (3) Initiative (4) Spell/Attack (5) Generic\n",
    "d20_rolls = [] # Filter rolls made by 1d20 rolls only\n",
    "\n",
    "roll_re = re.compile(r'\">([0-9]+)</span>')\n",
    "\n",
    "roll_timestamps = []\n",
    "\n",
    "current_char = ''\n",
    "    \n",
    "for message in roll_msgs:    \n",
    "    is_generic = is_generic_roll(message['class'])\n",
    "    \n",
    "    if is_generic:\n",
    "        # Who\n",
    "        character = current_char\n",
    "        name_character = current_char\n",
    "        \n",
    "        if message.find(class_='spacer'):\n",
    "            character = message.find(class_='by').get_text().strip()[:-1]\n",
    "            name_character = name_dictionary[character] # Human readable\n",
    "        current_char = character # Update\n",
    "\n",
    "        # Filter 1d20 only; Amount\n",
    "        if 'rolling d20' in message.find(class_='formula').get_text():\n",
    "            amnt = int(message.find(class_='rolled').get_text())\n",
    "            \n",
    "            # Append\n",
    "            tstamp = message.find(class_='tstamp')\n",
    "            if tstamp:\n",
    "                current_time = parse(tstamp.string)\n",
    "                roll_timestamps.append(current_time)\n",
    "            else:\n",
    "                continue\n",
    "            characters.append(name_character)\n",
    "            roll_types.append('Generic')\n",
    "            d20_rolls.append(amnt)\n",
    "        \n",
    "    else:\n",
    "        character = ''\n",
    "        \n",
    "        # Who\n",
    "        if message.find(class_='spacer'):\n",
    "            current_char = message.find(class_='by').get_text().strip()[:-1]\n",
    "            character = name_dictionary[current_char]\n",
    "        else:\n",
    "            character = name_dictionary[current_char]\n",
    "            \n",
    "        # What type; Amount\n",
    "        inline_span = message.find('span', class_='inlinerollresult')\n",
    "        roll_txt = ''\n",
    "        if 'original-title' in inline_span.attrs:\n",
    "            roll_txt = inline_span['original-title']\n",
    "        else:\n",
    "            roll_txt = inline_span['title']\n",
    "        if 'Rolling 1d20' in roll_txt:\n",
    "            amnt = int(roll_re.search(roll_txt).group(1))\n",
    "            \n",
    "            sheet_label = message.find(class_='sheet-label')\n",
    "            if not sheet_label:\n",
    "                continue\n",
    "            roll_type_txt = sheet_label.find('span').get_text().split('(')[0].strip().upper()\n",
    "            roll_type = ''\n",
    "            \n",
    "            if roll_type_txt in roll_dictionary:\n",
    "                roll_type = roll_dictionary[roll_type_txt]\n",
    "            elif 'SAVE' in roll_type_txt:\n",
    "                roll_type = 'Saving Throw'\n",
    "            else:\n",
    "                roll_type = 'Spell/Attack'\n",
    "            \n",
    "            tstamp = message.find(class_='tstamp')\n",
    "            if tstamp:\n",
    "                current_time = parse(tstamp.string)\n",
    "                roll_timestamps.append(current_time)\n",
    "            else:\n",
    "                continue\n",
    "            characters.append(character)\n",
    "            roll_types.append(roll_type)\n",
    "            d20_rolls.append(amnt)\n",
    "            \n",
    "\n",
    "print('Characters:', len(characters), characters)\n",
    "print('Roll Types:', len(roll_types), roll_types)\n",
    "print('d20 rolls:', len(d20_rolls), d20_rolls)\n",
    "print('Timestamps:', len(roll_timestamps), roll_timestamps)"
   ]
  },
  {
   "cell_type": "code",
   "execution_count": 64,
   "metadata": {},
   "outputs": [
    {
     "name": "stdout",
     "output_type": "stream",
     "text": [
      "2018-10-14 13:26:00 0 1\n",
      "2018-10-14 13:34:00 0 2\n",
      "2018-10-14 13:34:00 0 3\n",
      "2018-10-14 13:36:00 0 4\n",
      "2018-10-14 13:52:00 0 5\n",
      "2018-10-14 14:04:00 0 6\n",
      "2018-10-14 14:07:00 0 7\n",
      "2018-10-14 14:14:00 0 8\n",
      "2018-10-14 14:45:00 0 9\n",
      "2018-10-14 15:28:00 0 10\n",
      "2018-10-14 15:29:00 0 11\n",
      "2018-10-14 17:26:00 0 12\n",
      "2018-10-14 17:37:00 0 13\n",
      "2018-10-14 18:03:00 0 14\n",
      "2018-10-14 18:10:00 0 15\n",
      "2018-10-14 18:18:00 0 16\n",
      "2018-10-14 18:32:00 0 17\n",
      "2018-10-14 18:43:00 0 18\n",
      "2018-10-14 18:53:00 0 19\n",
      "2018-10-14 19:02:00 0 20\n",
      "2020-04-18 20:26:00 0 21\n",
      "GAP 21\n",
      "COUNT\n",
      "Added session: 2018-10-14 19:02:00 21\n",
      "2020-04-18 20:38:00 1 1\n",
      "2020-04-18 20:39:00 1 2\n",
      "2020-04-18 21:10:00 1 3\n",
      "2020-04-18 21:10:00 1 4\n",
      "2020-04-18 21:11:00 1 5\n",
      "2020-04-18 21:36:00 1 6\n",
      "2020-04-18 21:37:00 1 7\n",
      "2020-04-18 22:03:00 1 8\n",
      "2020-04-18 22:14:00 1 9\n",
      "2020-04-18 22:15:00 1 10\n",
      "2020-04-18 22:21:00 1 11\n",
      "2020-04-18 22:45:00 1 12\n",
      "2020-04-18 22:52:00 1 13\n",
      "2020-04-18 22:56:00 1 14\n",
      "2020-04-18 23:44:00 1 15\n",
      "2020-05-23 20:17:00 1 16\n",
      "GAP 16\n",
      "2020-05-23 20:20:00 1 1\n",
      "2020-05-23 20:21:00 1 2\n",
      "2020-05-23 20:31:00 1 3\n",
      "2020-05-23 20:31:00 1 4\n",
      "2020-05-23 20:32:00 1 5\n",
      "2020-05-23 20:33:00 1 6\n",
      "2020-05-23 20:53:00 1 7\n",
      "2020-05-23 20:55:00 1 8\n",
      "2020-05-23 23:00:00 1 9\n",
      "2020-05-23 23:01:00 1 10\n",
      "2020-05-23 23:45:00 1 11\n",
      "2020-05-23 23:47:00 1 12\n",
      "2020-05-23 23:47:00 1 13\n",
      "2020-05-23 23:49:00 1 14\n",
      "2020-05-23 23:49:00 1 15\n",
      "2020-05-23 23:51:00 1 16\n",
      "2020-05-24 00:30:00 1 17\n",
      "2020-05-24 00:40:00 1 18\n",
      "2020-06-06 20:08:00 1 19\n",
      "GAP 19\n",
      "2020-06-06 20:18:00 1 1\n",
      "2020-06-06 20:21:00 1 2\n",
      "2020-06-06 20:26:00 1 3\n",
      "2020-06-06 20:30:00 1 4\n",
      "2020-06-06 20:31:00 1 5\n",
      "2020-06-06 20:32:00 1 6\n",
      "2020-06-06 20:34:00 1 7\n",
      "2020-06-06 20:34:00 1 8\n",
      "2020-06-06 20:34:00 1 9\n",
      "2020-06-06 20:34:00 1 10\n",
      "2020-06-06 20:36:00 1 11\n",
      "2020-06-06 20:36:00 1 12\n",
      "2020-06-06 20:38:00 1 13\n",
      "2020-06-06 20:38:00 1 14\n",
      "2020-06-06 20:39:00 1 15\n",
      "2020-06-06 20:39:00 1 16\n",
      "2020-06-06 20:39:00 1 17\n",
      "2020-06-06 20:39:00 1 18\n",
      "2020-06-06 20:39:00 1 19\n",
      "2020-06-06 20:40:00 1 20\n",
      "2020-06-06 20:40:00 1 21\n",
      "2020-06-06 20:41:00 1 22\n",
      "2020-06-06 20:41:00 1 23\n",
      "2020-06-06 20:41:00 1 24\n",
      "2020-06-06 20:41:00 1 25\n",
      "2020-06-06 20:41:00 1 26\n",
      "2020-06-06 20:42:00 1 27\n",
      "2020-06-06 20:42:00 1 28\n",
      "2020-06-06 20:42:00 1 29\n",
      "2020-06-06 20:43:00 1 30\n",
      "2020-06-06 20:44:00 1 31\n",
      "2020-06-06 20:44:00 1 32\n",
      "2020-06-06 20:47:00 1 33\n",
      "2020-06-06 20:50:00 1 34\n",
      "2020-06-06 20:51:00 1 35\n",
      "2020-06-06 20:52:00 1 36\n",
      "2020-06-06 20:57:00 1 37\n",
      "2020-06-06 20:57:00 1 38\n",
      "2020-06-06 20:57:00 1 39\n",
      "2020-06-06 20:59:00 1 40\n",
      "2020-06-06 20:59:00 1 41\n",
      "2020-06-06 21:03:00 1 42\n",
      "2020-06-06 21:09:00 1 43\n",
      "2020-06-06 21:13:00 1 44\n",
      "2020-06-06 21:21:00 1 45\n",
      "2020-06-06 21:22:00 1 46\n",
      "2020-06-06 21:22:00 1 47\n",
      "2020-06-06 21:26:00 1 48\n",
      "2020-06-06 21:27:00 1 49\n",
      "2020-06-06 21:46:00 1 50\n",
      "2020-06-06 21:55:00 1 51\n",
      "2020-06-06 22:08:00 1 52\n",
      "2020-06-06 22:08:00 1 53\n",
      "2020-06-06 22:08:00 1 54\n",
      "2020-06-06 22:08:00 1 55\n",
      "2020-06-06 22:16:00 1 56\n",
      "2020-06-06 22:24:00 1 57\n",
      "2020-06-06 22:32:00 1 58\n",
      "2020-06-06 22:35:00 1 59\n",
      "2020-06-06 22:38:00 1 60\n",
      "2020-06-06 22:43:00 1 61\n",
      "2020-06-06 23:10:00 1 62\n",
      "2020-06-06 23:11:00 1 63\n",
      "2020-06-06 23:14:00 1 64\n",
      "2020-06-06 23:18:00 1 65\n",
      "2020-06-06 23:22:00 1 66\n",
      "2020-06-06 23:32:00 1 67\n",
      "2020-06-06 23:59:00 1 68\n",
      "2020-06-06 23:59:00 1 69\n",
      "2020-06-06 23:59:00 1 70\n",
      "2020-06-06 23:59:00 1 71\n",
      "2020-06-07 00:00:00 1 72\n",
      "2020-06-07 00:06:00 1 73\n",
      "2020-06-07 00:07:00 1 74\n",
      "2020-06-07 00:08:00 1 75\n",
      "2020-06-07 00:11:00 1 76\n",
      "2020-06-07 00:13:00 1 77\n",
      "2020-06-07 00:17:00 1 78\n",
      "2020-06-07 00:31:00 1 79\n",
      "2020-06-07 00:34:00 1 80\n",
      "2020-06-13 20:41:00 1 81\n",
      "GAP 81\n",
      "COUNT\n",
      "Added session: 2020-06-07 00:34:00 81\n",
      "2020-06-13 21:19:00 2 1\n",
      "2020-06-13 21:26:00 2 2\n",
      "2020-06-13 21:27:00 2 3\n",
      "2020-06-13 21:47:00 2 4\n",
      "2020-06-13 21:47:00 2 5\n",
      "2020-06-13 21:47:00 2 6\n",
      "2020-06-13 21:47:00 2 7\n",
      "2020-06-13 21:47:00 2 8\n",
      "2020-06-13 21:47:00 2 9\n",
      "2020-06-13 22:04:00 2 10\n",
      "2020-06-13 22:27:00 2 11\n",
      "2020-06-13 22:34:00 2 12\n",
      "2020-06-13 22:34:00 2 13\n",
      "2020-06-13 22:36:00 2 14\n",
      "2020-06-13 22:40:00 2 15\n",
      "2020-06-13 22:44:00 2 16\n",
      "2020-06-13 22:54:00 2 17\n",
      "2020-06-13 22:54:00 2 18\n",
      "2020-06-13 23:08:00 2 19\n",
      "2020-06-13 23:14:00 2 20\n",
      "2020-06-13 23:16:00 2 21\n",
      "2020-06-13 23:18:00 2 22\n",
      "2020-06-13 23:22:00 2 23\n",
      "2020-06-13 23:38:00 2 24\n",
      "2020-06-13 23:41:00 2 25\n",
      "2020-06-27 20:50:00 2 26\n",
      "GAP 26\n",
      "COUNT\n",
      "Added session: 2020-06-13 23:41:00 26\n",
      "2020-06-27 20:50:00 3 1\n",
      "2020-06-27 20:50:00 3 2\n",
      "2020-06-27 20:50:00 3 3\n",
      "2020-06-27 20:50:00 3 4\n",
      "2020-06-27 20:50:00 3 5\n",
      "2020-06-27 20:54:00 3 6\n",
      "2020-06-27 21:03:00 3 7\n",
      "2020-06-27 21:07:00 3 8\n",
      "2020-06-27 21:11:00 3 9\n",
      "2020-06-27 21:13:00 3 10\n",
      "2020-06-27 21:19:00 3 11\n",
      "2020-06-27 21:35:00 3 12\n",
      "2020-06-27 21:40:00 3 13\n",
      "2020-06-27 21:44:00 3 14\n",
      "2020-06-27 21:57:00 3 15\n",
      "2020-06-27 21:59:00 3 16\n",
      "2020-06-27 22:05:00 3 17\n",
      "2020-06-27 22:13:00 3 18\n",
      "2020-06-27 22:23:00 3 19\n",
      "2020-06-27 22:24:00 3 20\n",
      "2020-06-27 22:26:00 3 21\n",
      "2020-06-27 22:28:00 3 22\n",
      "2020-06-27 22:31:00 3 23\n",
      "2020-06-27 22:35:00 3 24\n",
      "2020-06-27 22:37:00 3 25\n",
      "2020-06-27 22:50:00 3 26\n",
      "2020-06-27 22:53:00 3 27\n",
      "2020-06-27 23:02:00 3 28\n",
      "2020-06-27 23:10:00 3 29\n",
      "2020-06-27 23:11:00 3 30\n",
      "2020-06-27 23:12:00 3 31\n",
      "2020-06-27 23:13:00 3 32\n",
      "2020-06-27 23:17:00 3 33\n",
      "2020-06-27 23:22:00 3 34\n",
      "2020-06-27 23:24:00 3 35\n",
      "2020-06-27 23:25:00 3 36\n",
      "2020-06-27 23:26:00 3 37\n",
      "2020-06-27 23:27:00 3 38\n",
      "2020-06-27 23:27:00 3 39\n",
      "2020-06-27 23:32:00 3 40\n",
      "2020-06-27 23:34:00 3 41\n",
      "2020-06-27 23:34:00 3 42\n",
      "2020-06-27 23:37:00 3 43\n",
      "2020-06-27 23:38:00 3 44\n",
      "2020-06-27 23:38:00 3 45\n",
      "2020-06-27 23:42:00 3 46\n",
      "2020-06-27 23:46:00 3 47\n",
      "2020-06-27 23:48:00 3 48\n",
      "2020-06-28 00:52:00 3 49\n",
      "2020-06-28 01:16:00 3 50\n",
      "2020-06-28 01:25:00 3 51\n",
      "2020-06-28 01:31:00 3 52\n",
      "2020-07-20 01:13:00 3 53\n",
      "GAP 53\n",
      "COUNT\n",
      "Added session: 2020-06-28 01:31:00 53\n",
      "2020-07-23 23:23:00 4 1\n",
      "GAP 1\n",
      "2020-07-24 12:28:00 4 1\n",
      "GAP 1\n",
      "2020-07-24 17:42:00 4 1\n",
      "2020-07-24 20:29:00 4 2\n",
      "2020-07-24 20:30:00 4 3\n",
      "2020-07-24 20:30:00 4 4\n",
      "2020-07-24 20:30:00 4 5\n",
      "2020-07-24 20:30:00 4 6\n",
      "2020-07-24 20:30:00 4 7\n",
      "2020-07-24 20:30:00 4 8\n",
      "2020-07-24 20:30:00 4 9\n",
      "2020-07-24 20:30:00 4 10\n",
      "2020-07-24 20:36:00 4 11\n",
      "2020-07-24 20:48:00 4 12\n",
      "2020-07-24 23:21:00 4 13\n",
      "2020-07-24 23:33:00 4 14\n",
      "2020-07-24 23:43:00 4 15\n",
      "2020-07-24 23:53:00 4 16\n",
      "2020-07-25 00:06:00 4 17\n",
      "2020-07-25 00:07:00 4 18\n",
      "2020-07-25 00:14:00 4 19\n",
      "2020-07-25 00:18:00 4 20\n",
      "2020-07-25 00:46:00 4 21\n",
      "2020-07-25 00:51:00 4 22\n",
      "2020-07-25 01:12:00 4 23\n",
      "2020-07-25 01:25:00 4 24\n",
      "2020-07-25 01:31:00 4 25\n",
      "2020-07-25 01:46:00 4 26\n",
      "2020-08-07 20:57:00 4 27\n",
      "GAP 27\n",
      "COUNT\n",
      "Added session: 2020-07-25 01:46:00 27\n",
      "2020-08-07 21:01:00 5 1\n",
      "2020-08-07 21:20:00 5 2\n",
      "2020-08-07 21:38:00 5 3\n",
      "2020-08-07 21:55:00 5 4\n",
      "2020-08-07 21:56:00 5 5\n",
      "2020-08-07 22:15:00 5 6\n",
      "2020-08-07 22:53:00 5 7\n",
      "2020-08-07 22:57:00 5 8\n",
      "2020-08-07 22:59:00 5 9\n",
      "2020-08-07 23:00:00 5 10\n",
      "2020-08-07 23:02:00 5 11\n",
      "2020-08-07 23:29:00 5 12\n",
      "2020-08-07 23:29:00 5 13\n",
      "2020-08-07 23:59:00 5 14\n",
      "2020-08-08 00:05:00 5 15\n",
      "2020-08-22 19:57:00 5 16\n",
      "GAP 16\n",
      "2020-08-22 20:25:00 5 1\n",
      "2020-08-22 20:25:00 5 2\n",
      "2020-08-22 20:26:00 5 3\n",
      "2020-08-22 20:27:00 5 4\n",
      "2020-08-22 21:04:00 5 5\n",
      "2020-08-22 21:06:00 5 6\n",
      "2020-08-22 21:09:00 5 7\n",
      "2020-08-22 21:14:00 5 8\n",
      "2020-08-22 21:14:00 5 9\n",
      "2020-08-22 21:15:00 5 10\n",
      "2020-08-22 21:15:00 5 11\n",
      "2020-08-22 21:15:00 5 12\n",
      "2020-08-22 21:15:00 5 13\n",
      "2020-08-22 21:15:00 5 14\n",
      "2020-08-22 21:15:00 5 15\n",
      "2020-08-22 21:25:00 5 16\n",
      "2020-08-22 21:32:00 5 17\n",
      "2020-08-22 21:34:00 5 18\n",
      "2020-08-22 21:36:00 5 19\n",
      "2020-08-22 21:40:00 5 20\n",
      "2020-08-22 21:52:00 5 21\n",
      "2020-08-22 21:52:00 5 22\n",
      "2020-08-22 21:53:00 5 23\n",
      "2020-08-22 21:57:00 5 24\n",
      "2020-08-22 21:58:00 5 25\n",
      "2020-08-22 22:01:00 5 26\n",
      "2020-08-22 22:04:00 5 27\n",
      "2020-08-22 22:13:00 5 28\n",
      "2020-08-22 22:26:00 5 29\n",
      "2020-08-22 22:27:00 5 30\n",
      "2020-08-22 22:29:00 5 31\n",
      "2020-08-22 22:35:00 5 32\n",
      "2020-08-22 22:35:00 5 33\n",
      "2020-08-22 22:39:00 5 34\n",
      "2020-08-22 22:41:00 5 35\n",
      "2020-08-22 22:45:00 5 36\n",
      "2020-08-22 22:54:00 5 37\n",
      "2020-08-22 22:56:00 5 38\n",
      "2020-08-22 22:56:00 5 39\n",
      "2020-08-22 22:57:00 5 40\n",
      "2020-08-22 23:06:00 5 41\n",
      "2020-08-22 23:57:00 5 42\n",
      "2020-08-23 01:07:00 5 43\n",
      "2020-08-23 01:14:00 5 44\n",
      "2020-08-23 01:28:00 5 45\n",
      "2020-08-23 01:57:00 5 46\n",
      "2020-08-23 02:01:00 5 47\n",
      "2020-08-23 02:12:00 5 48\n",
      "2020-08-23 02:22:00 5 49\n",
      "2020-08-23 02:27:00 5 50\n",
      "2020-08-23 02:37:00 5 51\n",
      "2020-08-23 02:56:00 5 52\n",
      "2020-08-23 02:56:00 5 53\n",
      "2020-08-23 02:57:00 5 54\n",
      "2020-08-23 02:57:00 5 55\n",
      "2020-08-23 02:57:00 5 56\n",
      "2020-08-23 02:57:00 5 57\n",
      "2020-08-23 02:57:00 5 58\n",
      "2020-08-23 02:57:00 5 59\n",
      "2020-08-23 03:00:00 5 60\n",
      "2020-08-23 03:05:00 5 61\n",
      "2020-08-23 03:07:00 5 62\n",
      "2020-08-23 03:14:00 5 63\n",
      "2020-08-23 03:14:00 5 64\n",
      "2020-08-23 03:15:00 5 65\n",
      "2020-08-23 03:15:00 5 66\n",
      "2020-08-23 03:15:00 5 67\n",
      "2020-08-23 03:15:00 5 68\n",
      "2020-08-23 03:26:00 5 69\n",
      "2020-08-23 03:28:00 5 70\n",
      "2020-08-23 03:32:00 5 71\n",
      "2020-08-23 03:32:00 5 72\n",
      "2020-08-23 03:37:00 5 73\n",
      "2020-08-23 03:42:00 5 74\n",
      "2020-08-23 03:53:00 5 75\n",
      "2020-08-23 03:56:00 5 76\n",
      "2020-08-23 04:01:00 5 77\n",
      "2020-08-23 04:06:00 5 78\n",
      "2020-08-23 04:12:00 5 79\n",
      "2020-08-23 04:17:00 5 80\n",
      "2020-08-23 04:17:00 5 81\n",
      "2020-08-23 04:22:00 5 82\n",
      "2020-08-23 04:26:00 5 83\n",
      "2020-08-23 04:27:00 5 84\n",
      "2020-08-23 04:33:00 5 85\n",
      "2020-08-23 04:35:00 5 86\n",
      "2020-08-23 04:40:00 5 87\n",
      "2020-08-23 04:41:00 5 88\n",
      "2020-08-23 04:43:00 5 89\n",
      "2020-08-23 04:43:00 5 90\n",
      "2020-08-23 04:43:00 5 91\n",
      "2020-08-23 04:43:00 5 92\n",
      "2020-08-23 04:47:00 5 93\n",
      "2020-08-23 04:50:00 5 94\n",
      "2020-08-23 04:56:00 5 95\n",
      "2020-08-23 04:56:00 5 96\n",
      "2020-08-23 05:05:00 5 97\n",
      "2020-08-23 05:08:00 5 98\n",
      "2020-08-23 05:10:00 5 99\n",
      "2020-08-23 05:16:00 5 100\n",
      "2020-08-23 05:17:00 5 101\n",
      "2020-08-23 05:26:00 5 102\n",
      "2020-08-23 05:26:00 5 103\n",
      "2020-08-23 05:26:00 5 104\n",
      "2020-08-23 05:26:00 5 105\n",
      "2020-10-31 23:05:00 5 106\n",
      "GAP 106\n",
      "COUNT\n",
      "Added session: 2020-08-23 05:26:00 106\n",
      "2020-10-31 23:21:00 6 1\n",
      "2020-10-31 23:47:00 6 2\n",
      "2020-10-31 23:47:00 6 3\n",
      "2020-10-31 23:48:00 6 4\n",
      "2020-11-01 00:03:00 6 5\n",
      "2020-11-01 00:51:00 6 6\n",
      "2020-11-28 15:01:00 6 7\n",
      "GAP 7\n",
      "2020-11-28 15:08:00 6 1\n",
      "2020-11-28 15:32:00 6 2\n",
      "2020-11-28 15:56:00 6 3\n",
      "2020-11-28 16:05:00 6 4\n",
      "2020-11-28 16:20:00 6 5\n",
      "2020-11-28 16:23:00 6 6\n",
      "2020-11-28 16:23:00 6 7\n",
      "2020-11-28 16:23:00 6 8\n",
      "2020-11-28 16:27:00 6 9\n",
      "2020-11-28 16:27:00 6 10\n",
      "2020-11-28 16:34:00 6 11\n",
      "2020-11-28 16:34:00 6 12\n",
      "2020-11-28 16:36:00 6 13\n",
      "2020-11-28 16:36:00 6 14\n",
      "2020-11-28 16:44:00 6 15\n",
      "2020-11-28 17:28:00 6 16\n",
      "2020-11-28 17:39:00 6 17\n",
      "2020-11-28 17:40:00 6 18\n",
      "2020-11-28 17:40:00 6 19\n",
      "2020-11-28 17:40:00 6 20\n",
      "2020-11-28 17:40:00 6 21\n",
      "2020-11-28 17:46:00 6 22\n",
      "2020-11-28 17:52:00 6 23\n",
      "2020-11-28 17:52:00 6 24\n",
      "2020-11-28 17:53:00 6 25\n",
      "2020-11-28 18:16:00 6 26\n",
      "2020-12-28 22:17:00 6 27\n",
      "GAP 27\n",
      "COUNT\n",
      "Added session: 2020-11-28 18:16:00 27\n",
      "2020-12-28 22:22:00 7 1\n",
      "2020-12-28 22:53:00 7 2\n",
      "2020-12-28 22:55:00 7 3\n",
      "2020-12-28 22:56:00 7 4\n",
      "2020-12-28 23:00:00 7 5\n",
      "2020-12-28 23:00:00 7 6\n",
      "2020-12-28 23:00:00 7 7\n",
      "2020-12-28 23:00:00 7 8\n",
      "2020-12-28 23:06:00 7 9\n",
      "2020-12-28 23:07:00 7 10\n",
      "2020-12-28 23:11:00 7 11\n",
      "2020-12-28 23:16:00 7 12\n",
      "2020-12-28 23:35:00 7 13\n",
      "2020-12-28 23:36:00 7 14\n",
      "2020-12-28 23:37:00 7 15\n",
      "2020-12-28 23:44:00 7 16\n",
      "2020-12-28 23:47:00 7 17\n",
      "2020-12-28 23:53:00 7 18\n",
      "2020-12-28 23:55:00 7 19\n",
      "2020-12-29 00:03:00 7 20\n",
      "2020-12-29 00:05:00 7 21\n",
      "2020-12-29 00:07:00 7 22\n",
      "2020-12-29 00:13:00 7 23\n",
      "2020-12-29 00:30:00 7 24\n",
      "2020-12-29 00:45:00 7 25\n",
      "2020-12-29 00:56:00 7 26\n",
      "2021-01-11 15:03:00 7 27\n",
      "GAP 27\n",
      "COUNT\n",
      "Added session: 2020-12-29 00:56:00 27\n",
      "2021-01-15 22:25:00 8 1\n",
      "GAP 1\n",
      "2021-01-15 22:28:00 8 1\n",
      "2021-01-15 22:30:00 8 2\n",
      "2021-01-15 22:30:00 8 3\n",
      "2021-01-15 22:40:00 8 4\n",
      "2021-01-15 22:45:00 8 5\n",
      "2021-01-15 22:45:00 8 6\n",
      "2021-01-15 22:45:00 8 7\n",
      "2021-01-15 22:46:00 8 8\n",
      "2021-01-15 22:56:00 8 9\n",
      "2021-01-15 22:56:00 8 10\n",
      "2021-01-15 23:23:00 8 11\n",
      "2021-01-15 23:24:00 8 12\n",
      "2021-01-15 23:49:00 8 13\n",
      "2021-01-15 23:54:00 8 14\n",
      "2021-01-15 23:54:00 8 15\n",
      "2021-01-15 23:54:00 8 16\n",
      "2021-01-15 23:55:00 8 17\n",
      "2021-01-15 23:58:00 8 18\n",
      "2021-01-16 00:00:00 8 19\n",
      "2021-01-16 00:00:00 8 20\n",
      "2021-01-16 00:00:00 8 21\n",
      "2021-01-16 00:00:00 8 22\n",
      "2021-01-16 00:01:00 8 23\n",
      "2021-01-16 00:08:00 8 24\n",
      "2021-01-16 00:09:00 8 25\n",
      "2021-01-16 00:12:00 8 26\n",
      "2021-01-16 00:18:00 8 27\n",
      "2021-01-16 00:18:00 8 28\n",
      "2021-01-16 00:18:00 8 29\n",
      "2021-01-16 00:18:00 8 30\n",
      "2021-01-16 00:18:00 8 31\n",
      "2021-01-16 00:18:00 8 32\n",
      "2021-01-16 00:19:00 8 33\n",
      "2021-01-16 00:22:00 8 34\n",
      "2021-01-16 00:26:00 8 35\n",
      "2021-01-16 00:26:00 8 36\n",
      "2021-01-16 00:27:00 8 37\n",
      "2021-01-16 00:29:00 8 38\n",
      "2021-01-16 00:30:00 8 39\n",
      "2021-01-16 00:40:00 8 40\n",
      "2021-01-16 00:40:00 8 41\n",
      "2021-01-16 00:40:00 8 42\n",
      "2021-01-16 00:40:00 8 43\n",
      "2021-01-16 00:41:00 8 44\n",
      "2021-01-16 00:42:00 8 45\n",
      "2021-01-16 00:42:00 8 46\n",
      "2021-01-16 00:42:00 8 47\n",
      "2021-01-16 00:42:00 8 48\n",
      "2021-01-16 00:44:00 8 49\n",
      "2021-01-16 00:46:00 8 50\n",
      "2021-01-16 00:53:00 8 51\n",
      "2021-01-16 00:55:00 8 52\n",
      "2021-01-16 00:57:00 8 53\n",
      "2021-01-16 00:58:00 8 54\n",
      "2021-01-16 01:04:00 8 55\n",
      "2021-01-16 01:06:00 8 56\n",
      "2021-01-16 01:16:00 8 57\n",
      "2021-01-16 01:17:00 8 58\n",
      "2021-01-16 01:28:00 8 59\n",
      "2021-01-16 01:30:00 8 60\n",
      "2021-01-16 01:31:00 8 61\n",
      "2021-01-16 01:32:00 8 62\n",
      "2021-01-16 01:33:00 8 63\n",
      "2021-01-16 01:48:00 8 64\n",
      "2021-01-16 02:20:00 8 65\n",
      "2021-03-26 22:43:00 8 66\n",
      "GAP 66\n",
      "COUNT\n",
      "Added session: 2021-01-16 02:20:00 66\n",
      "2021-03-26 22:47:00 9 1\n",
      "2021-03-26 22:47:00 9 2\n",
      "2021-03-26 22:48:00 9 3\n",
      "2021-03-26 22:48:00 9 4\n",
      "2021-03-26 22:48:00 9 5\n",
      "2021-03-26 22:50:00 9 6\n",
      "2021-03-26 22:55:00 9 7\n",
      "2021-03-26 23:02:00 9 8\n",
      "2021-03-26 23:12:00 9 9\n",
      "2021-03-26 23:15:00 9 10\n",
      "2021-03-26 23:15:00 9 11\n",
      "2021-03-26 23:15:00 9 12\n",
      "2021-03-26 23:15:00 9 13\n",
      "2021-03-26 23:15:00 9 14\n",
      "2021-03-26 23:15:00 9 15\n",
      "2021-03-26 23:15:00 9 16\n",
      "2021-03-26 23:15:00 9 17\n",
      "2021-03-26 23:16:00 9 18\n",
      "2021-03-26 23:16:00 9 19\n",
      "2021-03-26 23:18:00 9 20\n",
      "2021-03-26 23:19:00 9 21\n",
      "2021-03-26 23:20:00 9 22\n",
      "2021-03-26 23:22:00 9 23\n",
      "2021-03-26 23:26:00 9 24\n",
      "2021-03-26 23:29:00 9 25\n",
      "2021-03-26 23:32:00 9 26\n",
      "2021-03-26 23:34:00 9 27\n",
      "2021-03-26 23:37:00 9 28\n",
      "2021-03-26 23:41:00 9 29\n",
      "2021-03-26 23:42:00 9 30\n",
      "2021-03-26 23:43:00 9 31\n",
      "2021-03-26 23:47:00 9 32\n",
      "2021-03-26 23:53:00 9 33\n",
      "2021-03-26 23:54:00 9 34\n",
      "2021-03-26 23:58:00 9 35\n",
      "2021-03-27 00:02:00 9 36\n",
      "2021-03-27 00:06:00 9 37\n",
      "2021-03-27 00:09:00 9 38\n",
      "2021-03-27 00:14:00 9 39\n",
      "2021-03-27 00:27:00 9 40\n",
      "2021-03-27 01:14:00 9 41\n",
      "2021-03-27 01:24:00 9 42\n",
      "2021-03-27 01:35:00 9 43\n",
      "2021-03-27 01:50:00 9 44\n",
      "2021-03-27 01:50:00 9 45\n",
      "2021-03-27 02:42:00 9 46\n",
      "2021-03-27 02:42:00 9 47\n",
      "2021-03-27 02:45:00 9 48\n",
      "2021-03-27 02:47:00 9 49\n",
      "2021-03-27 03:04:00 9 50\n",
      "2021-03-27 03:06:00 9 51\n",
      "2021-03-27 03:11:00 9 52\n",
      "2021-05-29 18:34:00 9 53\n",
      "GAP 53\n",
      "COUNT\n",
      "Added session: 2021-03-27 03:11:00 53\n",
      "2021-05-29 21:00:00 10 1\n",
      "2021-05-29 21:00:00 10 2\n",
      "2021-05-29 21:01:00 10 3\n",
      "2021-05-29 21:01:00 10 4\n",
      "2021-05-29 21:01:00 10 5\n",
      "2021-05-29 21:02:00 10 6\n",
      "2021-05-29 21:03:00 10 7\n",
      "2021-05-29 21:04:00 10 8\n",
      "2021-05-29 21:04:00 10 9\n",
      "2021-05-29 21:04:00 10 10\n",
      "2021-05-29 21:04:00 10 11\n",
      "2021-05-29 21:04:00 10 12\n",
      "2021-05-29 21:04:00 10 13\n",
      "2021-05-29 21:04:00 10 14\n",
      "2021-05-29 21:05:00 10 15\n",
      "2021-05-29 21:36:00 10 16\n",
      "2021-05-29 22:20:00 10 17\n",
      "2021-05-29 22:45:00 10 18\n",
      "2021-05-29 22:45:00 10 19\n",
      "2021-05-29 22:46:00 10 20\n",
      "2021-05-29 22:46:00 10 21\n",
      "2021-05-29 22:46:00 10 22\n",
      "2021-05-29 22:46:00 10 23\n",
      "2021-05-29 22:46:00 10 24\n",
      "2021-05-29 22:58:00 10 25\n",
      "2021-05-29 23:04:00 10 26\n",
      "2021-05-29 23:08:00 10 27\n",
      "2021-05-29 23:14:00 10 28\n",
      "2021-05-29 23:39:00 10 29\n",
      "2021-07-03 22:37:00 10 30\n",
      "GAP 30\n",
      "COUNT\n",
      "Added session: 2021-05-29 23:39:00 30\n",
      "2021-07-03 22:43:00 11 1\n",
      "2021-07-03 22:43:00 11 2\n",
      "2021-07-03 22:52:00 11 3\n",
      "2021-07-03 22:56:00 11 4\n",
      "2021-07-03 23:25:00 11 5\n",
      "2021-07-03 23:38:00 11 6\n",
      "2021-07-03 23:38:00 11 7\n",
      "2021-07-03 23:57:00 11 8\n",
      "2021-07-03 23:57:00 11 9\n",
      "2021-07-03 23:57:00 11 10\n",
      "2021-07-03 23:58:00 11 11\n",
      "2021-07-04 00:05:00 11 12\n",
      "2021-07-04 00:22:00 11 13\n",
      "2021-07-04 00:27:00 11 14\n",
      "2021-07-04 00:42:00 11 15\n",
      "2021-07-04 00:42:00 11 16\n",
      "2021-07-04 00:44:00 11 17\n",
      "2021-07-04 00:46:00 11 18\n",
      "Sessions: 11 [(datetime.datetime(2018, 10, 14, 13, 26), datetime.datetime(2018, 10, 14, 19, 2), 21), (datetime.datetime(2020, 6, 6, 20, 8), datetime.datetime(2020, 6, 7, 0, 34), 81), (datetime.datetime(2020, 6, 13, 20, 41), datetime.datetime(2020, 6, 13, 23, 41), 26), (datetime.datetime(2020, 6, 27, 20, 50), datetime.datetime(2020, 6, 28, 1, 31), 53), (datetime.datetime(2020, 7, 24, 12, 28), datetime.datetime(2020, 7, 25, 1, 46), 27), (datetime.datetime(2020, 8, 22, 19, 57), datetime.datetime(2020, 8, 23, 5, 26), 106), (datetime.datetime(2020, 11, 28, 15, 1), datetime.datetime(2020, 11, 28, 18, 16), 27), (datetime.datetime(2020, 12, 28, 22, 17), datetime.datetime(2020, 12, 29, 0, 56), 27), (datetime.datetime(2021, 1, 15, 22, 25), datetime.datetime(2021, 1, 16, 2, 20), 66), (datetime.datetime(2021, 3, 26, 22, 43), datetime.datetime(2021, 3, 27, 3, 11), 53), (datetime.datetime(2021, 5, 29, 18, 34), datetime.datetime(2021, 5, 29, 23, 39), 30)]\n",
      "Session Idx: [0, 0, 0, 0, 0, 0, 0, 0, 0, 0, 0, 0, 0, 0, 0, 0, 0, 0, 0, 0, 0, 1, 1, 1, 1, 1, 1, 1, 1, 1, 1, 1, 1, 1, 1, 1, 1, 1, 1, 1, 1, 1, 1, 1, 1, 1, 1, 1, 1, 1, 1, 1, 1, 1, 1, 1, 1, 1, 1, 1, 1, 1, 1, 1, 1, 1, 1, 1, 1, 1, 1, 1, 1, 1, 1, 1, 1, 1, 1, 1, 1, 1, 1, 1, 1, 1, 1, 1, 1, 1, 1, 1, 1, 1, 1, 1, 1, 1, 1, 1, 1, 1, 1, 1, 1, 1, 1, 1, 1, 1, 1, 1, 1, 1, 1, 1, 1, 1, 1, 1, 1, 1, 1, 1, 1, 1, 1, 1, 1, 1, 1, 1, 1, 1, 1, 1, 1, 2, 2, 2, 2, 2, 2, 2, 2, 2, 2, 2, 2, 2, 2, 2, 2, 2, 2, 2, 2, 2, 2, 2, 2, 2, 2, 3, 3, 3, 3, 3, 3, 3, 3, 3, 3, 3, 3, 3, 3, 3, 3, 3, 3, 3, 3, 3, 3, 3, 3, 3, 3, 3, 3, 3, 3, 3, 3, 3, 3, 3, 3, 3, 3, 3, 3, 3, 3, 3, 3, 3, 3, 3, 3, 3, 3, 3, 3, 3, 4, 4, 4, 4, 4, 4, 4, 4, 4, 4, 4, 4, 4, 4, 4, 4, 4, 4, 4, 4, 4, 4, 4, 4, 4, 4, 4, 4, 4, 5, 5, 5, 5, 5, 5, 5, 5, 5, 5, 5, 5, 5, 5, 5, 5, 5, 5, 5, 5, 5, 5, 5, 5, 5, 5, 5, 5, 5, 5, 5, 5, 5, 5, 5, 5, 5, 5, 5, 5, 5, 5, 5, 5, 5, 5, 5, 5, 5, 5, 5, 5, 5, 5, 5, 5, 5, 5, 5, 5, 5, 5, 5, 5, 5, 5, 5, 5, 5, 5, 5, 5, 5, 5, 5, 5, 5, 5, 5, 5, 5, 5, 5, 5, 5, 5, 5, 5, 5, 5, 5, 5, 5, 5, 5, 5, 5, 5, 5, 5, 5, 5, 5, 5, 5, 5, 5, 5, 5, 5, 5, 5, 5, 5, 5, 5, 5, 5, 5, 5, 5, 5, 6, 6, 6, 6, 6, 6, 6, 6, 6, 6, 6, 6, 6, 6, 6, 6, 6, 6, 6, 6, 6, 6, 6, 6, 6, 6, 6, 6, 6, 6, 6, 6, 6, 6, 7, 7, 7, 7, 7, 7, 7, 7, 7, 7, 7, 7, 7, 7, 7, 7, 7, 7, 7, 7, 7, 7, 7, 7, 7, 7, 7, 8, 8, 8, 8, 8, 8, 8, 8, 8, 8, 8, 8, 8, 8, 8, 8, 8, 8, 8, 8, 8, 8, 8, 8, 8, 8, 8, 8, 8, 8, 8, 8, 8, 8, 8, 8, 8, 8, 8, 8, 8, 8, 8, 8, 8, 8, 8, 8, 8, 8, 8, 8, 8, 8, 8, 8, 8, 8, 8, 8, 8, 8, 8, 8, 8, 8, 8, 9, 9, 9, 9, 9, 9, 9, 9, 9, 9, 9, 9, 9, 9, 9, 9, 9, 9, 9, 9, 9, 9, 9, 9, 9, 9, 9, 9, 9, 9, 9, 9, 9, 9, 9, 9, 9, 9, 9, 9, 9, 9, 9, 9, 9, 9, 9, 9, 9, 9, 9, 9, 9, 10, 10, 10, 10, 10, 10, 10, 10, 10, 10, 10, 10, 10, 10, 10, 10, 10, 10, 10, 10, 10, 10, 10, 10, 10, 10, 10, 10, 10, 10, 11, 11, 11, 11, 11, 11, 11, 11, 11, 11, 11, 11, 11, 11, 11, 11, 11, 11]\n"
     ]
    }
   ],
   "source": [
    "from datetime import timedelta, datetime\n",
    "\n",
    "MIN_ROLLS = 20\n",
    "MAX_GAP = timedelta(hours=12)\n",
    "\n",
    "start_time = roll_timestamps[0]\n",
    "last_time = roll_timestamps[0]\n",
    "count = 1\n",
    "\n",
    "sessions = []\n",
    "\n",
    "session_idx = []\n",
    "\n",
    "for time in roll_timestamps:\n",
    "    session_idx.append(len(sessions))\n",
    "    print(time, session_idx[-1], count)\n",
    "    if time - last_time > MAX_GAP:\n",
    "        print('GAP', count)\n",
    "        if count > MIN_ROLLS:\n",
    "            print('COUNT')\n",
    "            sessions.append((start_time, last_time, count))\n",
    "            print(\"Added session:\", last_time, count)\n",
    "        count = 1\n",
    "        start_time = time\n",
    "    else:\n",
    "        count += 1\n",
    "    last_time = time\n",
    "if count > MIN_ROLLS:\n",
    "    sessions.append((start_time, last_time, count))\n",
    "    print(last_time-start_time, count)\n",
    "\n",
    "print('Sessions:', len(sessions), sessions)\n",
    "print('Session Idx:', session_idx)\n",
    "    \n",
    "with open('data/chime_sessions.txt', 'w') as fd:\n",
    "    for session in sessions:\n",
    "        fd.write(session[0].strftime('%Y-%m-%d\\n'))"
   ]
  },
  {
   "cell_type": "code",
   "execution_count": 65,
   "metadata": {},
   "outputs": [
    {
     "name": "stdout",
     "output_type": "stream",
     "text": [
      "12\n",
      "5\n",
      "12\n",
      "['Monti' 'Russel' 'Roll' 'Tithe' 'NPC' 'Dragonborn' 'Yev' 'Vye' 'Wing'\n",
      " 'June/Auggie' 'Sebille' 'Genki']\n"
     ]
    }
   ],
   "source": [
    "import pandas as pd\n",
    "\n",
    "roll_df = pd.DataFrame({\n",
    "    'time': roll_timestamps,\n",
    "    'character': characters,\n",
    "    'session': session_idx,\n",
    "    'type': roll_types,\n",
    "    'value': d20_rolls\n",
    "})\n",
    "\n",
    "roll_df = roll_df.dropna()\n",
    "\n",
    "roll_df.to_csv('data/chime_rolls.zip', index=False)\n",
    "\n",
    "print(len(roll_df['character'].unique()))\n",
    "print(len(roll_df['type'].unique()))\n",
    "print(len(roll_df['session'].unique()))\n",
    "\n",
    "print(roll_df['character'].unique())"
   ]
  },
  {
   "cell_type": "code",
   "execution_count": 66,
   "metadata": {},
   "outputs": [
    {
     "name": "stdout",
     "output_type": "stream",
     "text": [
      "<class 'pandas.core.frame.DataFrame'>\n",
      "RangeIndex: 596 entries, 0 to 595\n",
      "Data columns (total 5 columns):\n",
      " #   Column     Non-Null Count  Dtype         \n",
      "---  ------     --------------  -----         \n",
      " 0   time       596 non-null    datetime64[ns]\n",
      " 1   character  596 non-null    object        \n",
      " 2   session    596 non-null    int64         \n",
      " 3   type       596 non-null    object        \n",
      " 4   value      596 non-null    int64         \n",
      "dtypes: datetime64[ns](1), int64(2), object(2)\n",
      "memory usage: 23.4+ KB\n",
      "None\n"
     ]
    }
   ],
   "source": [
    "roll_df = pd.read_csv('data/chime_rolls.zip', parse_dates=['time'])\n",
    "\n",
    "print(roll_df.info())"
   ]
  },
  {
   "cell_type": "code",
   "execution_count": 69,
   "metadata": {},
   "outputs": [
    {
     "name": "stdout",
     "output_type": "stream",
     "text": [
      "49\n",
      "                   time character  session           type  value\n",
      "559 2021-05-29 21:04:00     Monti       10     Initiative     15\n",
      "570 2021-05-29 22:46:00     Monti       10  Ability Check      7\n"
     ]
    },
    {
     "data": {
      "application/vnd.plotly.v1+json": {
       "config": {
        "plotlyServerURL": "https://plot.ly"
       },
       "data": [
        {
         "alignmentgroup": "True",
         "bingroup": "x",
         "hovertemplate": "value=%{x}<br>count=%{y}<extra></extra>",
         "legendgroup": "",
         "marker": {
          "color": "#636efa",
          "pattern": {
           "shape": ""
          }
         },
         "name": "",
         "offsetgroup": "",
         "orientation": "v",
         "showlegend": false,
         "type": "histogram",
         "x": [
          4,
          10,
          10,
          9,
          16,
          13,
          2,
          1,
          8,
          12,
          18,
          17,
          15,
          20,
          5,
          12,
          3,
          20,
          12,
          2,
          5,
          17,
          3,
          7,
          13,
          12,
          11,
          5,
          11,
          9,
          2,
          20,
          1,
          15,
          3,
          12,
          2,
          13,
          2,
          13,
          8,
          18,
          20,
          14,
          12,
          17,
          11,
          10,
          20
         ],
         "xaxis": "x",
         "yaxis": "y"
        }
       ],
       "layout": {
        "barmode": "relative",
        "legend": {
         "tracegroupgap": 0
        },
        "margin": {
         "t": 60
        },
        "template": {
         "data": {
          "bar": [
           {
            "error_x": {
             "color": "#2a3f5f"
            },
            "error_y": {
             "color": "#2a3f5f"
            },
            "marker": {
             "line": {
              "color": "#E5ECF6",
              "width": 0.5
             },
             "pattern": {
              "fillmode": "overlay",
              "size": 10,
              "solidity": 0.2
             }
            },
            "type": "bar"
           }
          ],
          "barpolar": [
           {
            "marker": {
             "line": {
              "color": "#E5ECF6",
              "width": 0.5
             },
             "pattern": {
              "fillmode": "overlay",
              "size": 10,
              "solidity": 0.2
             }
            },
            "type": "barpolar"
           }
          ],
          "carpet": [
           {
            "aaxis": {
             "endlinecolor": "#2a3f5f",
             "gridcolor": "white",
             "linecolor": "white",
             "minorgridcolor": "white",
             "startlinecolor": "#2a3f5f"
            },
            "baxis": {
             "endlinecolor": "#2a3f5f",
             "gridcolor": "white",
             "linecolor": "white",
             "minorgridcolor": "white",
             "startlinecolor": "#2a3f5f"
            },
            "type": "carpet"
           }
          ],
          "choropleth": [
           {
            "colorbar": {
             "outlinewidth": 0,
             "ticks": ""
            },
            "type": "choropleth"
           }
          ],
          "contour": [
           {
            "colorbar": {
             "outlinewidth": 0,
             "ticks": ""
            },
            "colorscale": [
             [
              0,
              "#0d0887"
             ],
             [
              0.1111111111111111,
              "#46039f"
             ],
             [
              0.2222222222222222,
              "#7201a8"
             ],
             [
              0.3333333333333333,
              "#9c179e"
             ],
             [
              0.4444444444444444,
              "#bd3786"
             ],
             [
              0.5555555555555556,
              "#d8576b"
             ],
             [
              0.6666666666666666,
              "#ed7953"
             ],
             [
              0.7777777777777778,
              "#fb9f3a"
             ],
             [
              0.8888888888888888,
              "#fdca26"
             ],
             [
              1,
              "#f0f921"
             ]
            ],
            "type": "contour"
           }
          ],
          "contourcarpet": [
           {
            "colorbar": {
             "outlinewidth": 0,
             "ticks": ""
            },
            "type": "contourcarpet"
           }
          ],
          "heatmap": [
           {
            "colorbar": {
             "outlinewidth": 0,
             "ticks": ""
            },
            "colorscale": [
             [
              0,
              "#0d0887"
             ],
             [
              0.1111111111111111,
              "#46039f"
             ],
             [
              0.2222222222222222,
              "#7201a8"
             ],
             [
              0.3333333333333333,
              "#9c179e"
             ],
             [
              0.4444444444444444,
              "#bd3786"
             ],
             [
              0.5555555555555556,
              "#d8576b"
             ],
             [
              0.6666666666666666,
              "#ed7953"
             ],
             [
              0.7777777777777778,
              "#fb9f3a"
             ],
             [
              0.8888888888888888,
              "#fdca26"
             ],
             [
              1,
              "#f0f921"
             ]
            ],
            "type": "heatmap"
           }
          ],
          "heatmapgl": [
           {
            "colorbar": {
             "outlinewidth": 0,
             "ticks": ""
            },
            "colorscale": [
             [
              0,
              "#0d0887"
             ],
             [
              0.1111111111111111,
              "#46039f"
             ],
             [
              0.2222222222222222,
              "#7201a8"
             ],
             [
              0.3333333333333333,
              "#9c179e"
             ],
             [
              0.4444444444444444,
              "#bd3786"
             ],
             [
              0.5555555555555556,
              "#d8576b"
             ],
             [
              0.6666666666666666,
              "#ed7953"
             ],
             [
              0.7777777777777778,
              "#fb9f3a"
             ],
             [
              0.8888888888888888,
              "#fdca26"
             ],
             [
              1,
              "#f0f921"
             ]
            ],
            "type": "heatmapgl"
           }
          ],
          "histogram": [
           {
            "marker": {
             "pattern": {
              "fillmode": "overlay",
              "size": 10,
              "solidity": 0.2
             }
            },
            "type": "histogram"
           }
          ],
          "histogram2d": [
           {
            "colorbar": {
             "outlinewidth": 0,
             "ticks": ""
            },
            "colorscale": [
             [
              0,
              "#0d0887"
             ],
             [
              0.1111111111111111,
              "#46039f"
             ],
             [
              0.2222222222222222,
              "#7201a8"
             ],
             [
              0.3333333333333333,
              "#9c179e"
             ],
             [
              0.4444444444444444,
              "#bd3786"
             ],
             [
              0.5555555555555556,
              "#d8576b"
             ],
             [
              0.6666666666666666,
              "#ed7953"
             ],
             [
              0.7777777777777778,
              "#fb9f3a"
             ],
             [
              0.8888888888888888,
              "#fdca26"
             ],
             [
              1,
              "#f0f921"
             ]
            ],
            "type": "histogram2d"
           }
          ],
          "histogram2dcontour": [
           {
            "colorbar": {
             "outlinewidth": 0,
             "ticks": ""
            },
            "colorscale": [
             [
              0,
              "#0d0887"
             ],
             [
              0.1111111111111111,
              "#46039f"
             ],
             [
              0.2222222222222222,
              "#7201a8"
             ],
             [
              0.3333333333333333,
              "#9c179e"
             ],
             [
              0.4444444444444444,
              "#bd3786"
             ],
             [
              0.5555555555555556,
              "#d8576b"
             ],
             [
              0.6666666666666666,
              "#ed7953"
             ],
             [
              0.7777777777777778,
              "#fb9f3a"
             ],
             [
              0.8888888888888888,
              "#fdca26"
             ],
             [
              1,
              "#f0f921"
             ]
            ],
            "type": "histogram2dcontour"
           }
          ],
          "mesh3d": [
           {
            "colorbar": {
             "outlinewidth": 0,
             "ticks": ""
            },
            "type": "mesh3d"
           }
          ],
          "parcoords": [
           {
            "line": {
             "colorbar": {
              "outlinewidth": 0,
              "ticks": ""
             }
            },
            "type": "parcoords"
           }
          ],
          "pie": [
           {
            "automargin": true,
            "type": "pie"
           }
          ],
          "scatter": [
           {
            "marker": {
             "colorbar": {
              "outlinewidth": 0,
              "ticks": ""
             }
            },
            "type": "scatter"
           }
          ],
          "scatter3d": [
           {
            "line": {
             "colorbar": {
              "outlinewidth": 0,
              "ticks": ""
             }
            },
            "marker": {
             "colorbar": {
              "outlinewidth": 0,
              "ticks": ""
             }
            },
            "type": "scatter3d"
           }
          ],
          "scattercarpet": [
           {
            "marker": {
             "colorbar": {
              "outlinewidth": 0,
              "ticks": ""
             }
            },
            "type": "scattercarpet"
           }
          ],
          "scattergeo": [
           {
            "marker": {
             "colorbar": {
              "outlinewidth": 0,
              "ticks": ""
             }
            },
            "type": "scattergeo"
           }
          ],
          "scattergl": [
           {
            "marker": {
             "colorbar": {
              "outlinewidth": 0,
              "ticks": ""
             }
            },
            "type": "scattergl"
           }
          ],
          "scattermapbox": [
           {
            "marker": {
             "colorbar": {
              "outlinewidth": 0,
              "ticks": ""
             }
            },
            "type": "scattermapbox"
           }
          ],
          "scatterpolar": [
           {
            "marker": {
             "colorbar": {
              "outlinewidth": 0,
              "ticks": ""
             }
            },
            "type": "scatterpolar"
           }
          ],
          "scatterpolargl": [
           {
            "marker": {
             "colorbar": {
              "outlinewidth": 0,
              "ticks": ""
             }
            },
            "type": "scatterpolargl"
           }
          ],
          "scatterternary": [
           {
            "marker": {
             "colorbar": {
              "outlinewidth": 0,
              "ticks": ""
             }
            },
            "type": "scatterternary"
           }
          ],
          "surface": [
           {
            "colorbar": {
             "outlinewidth": 0,
             "ticks": ""
            },
            "colorscale": [
             [
              0,
              "#0d0887"
             ],
             [
              0.1111111111111111,
              "#46039f"
             ],
             [
              0.2222222222222222,
              "#7201a8"
             ],
             [
              0.3333333333333333,
              "#9c179e"
             ],
             [
              0.4444444444444444,
              "#bd3786"
             ],
             [
              0.5555555555555556,
              "#d8576b"
             ],
             [
              0.6666666666666666,
              "#ed7953"
             ],
             [
              0.7777777777777778,
              "#fb9f3a"
             ],
             [
              0.8888888888888888,
              "#fdca26"
             ],
             [
              1,
              "#f0f921"
             ]
            ],
            "type": "surface"
           }
          ],
          "table": [
           {
            "cells": {
             "fill": {
              "color": "#EBF0F8"
             },
             "line": {
              "color": "white"
             }
            },
            "header": {
             "fill": {
              "color": "#C8D4E3"
             },
             "line": {
              "color": "white"
             }
            },
            "type": "table"
           }
          ]
         },
         "layout": {
          "annotationdefaults": {
           "arrowcolor": "#2a3f5f",
           "arrowhead": 0,
           "arrowwidth": 1
          },
          "autotypenumbers": "strict",
          "coloraxis": {
           "colorbar": {
            "outlinewidth": 0,
            "ticks": ""
           }
          },
          "colorscale": {
           "diverging": [
            [
             0,
             "#8e0152"
            ],
            [
             0.1,
             "#c51b7d"
            ],
            [
             0.2,
             "#de77ae"
            ],
            [
             0.3,
             "#f1b6da"
            ],
            [
             0.4,
             "#fde0ef"
            ],
            [
             0.5,
             "#f7f7f7"
            ],
            [
             0.6,
             "#e6f5d0"
            ],
            [
             0.7,
             "#b8e186"
            ],
            [
             0.8,
             "#7fbc41"
            ],
            [
             0.9,
             "#4d9221"
            ],
            [
             1,
             "#276419"
            ]
           ],
           "sequential": [
            [
             0,
             "#0d0887"
            ],
            [
             0.1111111111111111,
             "#46039f"
            ],
            [
             0.2222222222222222,
             "#7201a8"
            ],
            [
             0.3333333333333333,
             "#9c179e"
            ],
            [
             0.4444444444444444,
             "#bd3786"
            ],
            [
             0.5555555555555556,
             "#d8576b"
            ],
            [
             0.6666666666666666,
             "#ed7953"
            ],
            [
             0.7777777777777778,
             "#fb9f3a"
            ],
            [
             0.8888888888888888,
             "#fdca26"
            ],
            [
             1,
             "#f0f921"
            ]
           ],
           "sequentialminus": [
            [
             0,
             "#0d0887"
            ],
            [
             0.1111111111111111,
             "#46039f"
            ],
            [
             0.2222222222222222,
             "#7201a8"
            ],
            [
             0.3333333333333333,
             "#9c179e"
            ],
            [
             0.4444444444444444,
             "#bd3786"
            ],
            [
             0.5555555555555556,
             "#d8576b"
            ],
            [
             0.6666666666666666,
             "#ed7953"
            ],
            [
             0.7777777777777778,
             "#fb9f3a"
            ],
            [
             0.8888888888888888,
             "#fdca26"
            ],
            [
             1,
             "#f0f921"
            ]
           ]
          },
          "colorway": [
           "#636efa",
           "#EF553B",
           "#00cc96",
           "#ab63fa",
           "#FFA15A",
           "#19d3f3",
           "#FF6692",
           "#B6E880",
           "#FF97FF",
           "#FECB52"
          ],
          "font": {
           "color": "#2a3f5f"
          },
          "geo": {
           "bgcolor": "white",
           "lakecolor": "white",
           "landcolor": "#E5ECF6",
           "showlakes": true,
           "showland": true,
           "subunitcolor": "white"
          },
          "hoverlabel": {
           "align": "left"
          },
          "hovermode": "closest",
          "mapbox": {
           "style": "light"
          },
          "paper_bgcolor": "white",
          "plot_bgcolor": "#E5ECF6",
          "polar": {
           "angularaxis": {
            "gridcolor": "white",
            "linecolor": "white",
            "ticks": ""
           },
           "bgcolor": "#E5ECF6",
           "radialaxis": {
            "gridcolor": "white",
            "linecolor": "white",
            "ticks": ""
           }
          },
          "scene": {
           "xaxis": {
            "backgroundcolor": "#E5ECF6",
            "gridcolor": "white",
            "gridwidth": 2,
            "linecolor": "white",
            "showbackground": true,
            "ticks": "",
            "zerolinecolor": "white"
           },
           "yaxis": {
            "backgroundcolor": "#E5ECF6",
            "gridcolor": "white",
            "gridwidth": 2,
            "linecolor": "white",
            "showbackground": true,
            "ticks": "",
            "zerolinecolor": "white"
           },
           "zaxis": {
            "backgroundcolor": "#E5ECF6",
            "gridcolor": "white",
            "gridwidth": 2,
            "linecolor": "white",
            "showbackground": true,
            "ticks": "",
            "zerolinecolor": "white"
           }
          },
          "shapedefaults": {
           "line": {
            "color": "#2a3f5f"
           }
          },
          "ternary": {
           "aaxis": {
            "gridcolor": "white",
            "linecolor": "white",
            "ticks": ""
           },
           "baxis": {
            "gridcolor": "white",
            "linecolor": "white",
            "ticks": ""
           },
           "bgcolor": "#E5ECF6",
           "caxis": {
            "gridcolor": "white",
            "linecolor": "white",
            "ticks": ""
           }
          },
          "title": {
           "x": 0.05
          },
          "xaxis": {
           "automargin": true,
           "gridcolor": "white",
           "linecolor": "white",
           "ticks": "",
           "title": {
            "standoff": 15
           },
           "zerolinecolor": "white",
           "zerolinewidth": 2
          },
          "yaxis": {
           "automargin": true,
           "gridcolor": "white",
           "linecolor": "white",
           "ticks": "",
           "title": {
            "standoff": 15
           },
           "zerolinecolor": "white",
           "zerolinewidth": 2
          }
         }
        },
        "xaxis": {
         "anchor": "y",
         "domain": [
          0,
          1
         ],
         "title": {
          "text": "value"
         }
        },
        "yaxis": {
         "anchor": "x",
         "domain": [
          0,
          1
         ],
         "title": {
          "text": "count"
         }
        }
       }
      },
      "text/html": [
       "<div>                            <div id=\"ecc04e02-e077-4903-bef3-5aa15c802af3\" class=\"plotly-graph-div\" style=\"height:525px; width:100%;\"></div>            <script type=\"text/javascript\">                require([\"plotly\"], function(Plotly) {                    window.PLOTLYENV=window.PLOTLYENV || {};                                    if (document.getElementById(\"ecc04e02-e077-4903-bef3-5aa15c802af3\")) {                    Plotly.newPlot(                        \"ecc04e02-e077-4903-bef3-5aa15c802af3\",                        [{\"alignmentgroup\":\"True\",\"bingroup\":\"x\",\"hovertemplate\":\"value=%{x}<br>count=%{y}<extra></extra>\",\"legendgroup\":\"\",\"marker\":{\"color\":\"#636efa\",\"pattern\":{\"shape\":\"\"}},\"name\":\"\",\"offsetgroup\":\"\",\"orientation\":\"v\",\"showlegend\":false,\"x\":[4,10,10,9,16,13,2,1,8,12,18,17,15,20,5,12,3,20,12,2,5,17,3,7,13,12,11,5,11,9,2,20,1,15,3,12,2,13,2,13,8,18,20,14,12,17,11,10,20],\"xaxis\":\"x\",\"yaxis\":\"y\",\"type\":\"histogram\"}],                        {\"template\":{\"data\":{\"bar\":[{\"error_x\":{\"color\":\"#2a3f5f\"},\"error_y\":{\"color\":\"#2a3f5f\"},\"marker\":{\"line\":{\"color\":\"#E5ECF6\",\"width\":0.5},\"pattern\":{\"fillmode\":\"overlay\",\"size\":10,\"solidity\":0.2}},\"type\":\"bar\"}],\"barpolar\":[{\"marker\":{\"line\":{\"color\":\"#E5ECF6\",\"width\":0.5},\"pattern\":{\"fillmode\":\"overlay\",\"size\":10,\"solidity\":0.2}},\"type\":\"barpolar\"}],\"carpet\":[{\"aaxis\":{\"endlinecolor\":\"#2a3f5f\",\"gridcolor\":\"white\",\"linecolor\":\"white\",\"minorgridcolor\":\"white\",\"startlinecolor\":\"#2a3f5f\"},\"baxis\":{\"endlinecolor\":\"#2a3f5f\",\"gridcolor\":\"white\",\"linecolor\":\"white\",\"minorgridcolor\":\"white\",\"startlinecolor\":\"#2a3f5f\"},\"type\":\"carpet\"}],\"choropleth\":[{\"colorbar\":{\"outlinewidth\":0,\"ticks\":\"\"},\"type\":\"choropleth\"}],\"contour\":[{\"colorbar\":{\"outlinewidth\":0,\"ticks\":\"\"},\"colorscale\":[[0.0,\"#0d0887\"],[0.1111111111111111,\"#46039f\"],[0.2222222222222222,\"#7201a8\"],[0.3333333333333333,\"#9c179e\"],[0.4444444444444444,\"#bd3786\"],[0.5555555555555556,\"#d8576b\"],[0.6666666666666666,\"#ed7953\"],[0.7777777777777778,\"#fb9f3a\"],[0.8888888888888888,\"#fdca26\"],[1.0,\"#f0f921\"]],\"type\":\"contour\"}],\"contourcarpet\":[{\"colorbar\":{\"outlinewidth\":0,\"ticks\":\"\"},\"type\":\"contourcarpet\"}],\"heatmap\":[{\"colorbar\":{\"outlinewidth\":0,\"ticks\":\"\"},\"colorscale\":[[0.0,\"#0d0887\"],[0.1111111111111111,\"#46039f\"],[0.2222222222222222,\"#7201a8\"],[0.3333333333333333,\"#9c179e\"],[0.4444444444444444,\"#bd3786\"],[0.5555555555555556,\"#d8576b\"],[0.6666666666666666,\"#ed7953\"],[0.7777777777777778,\"#fb9f3a\"],[0.8888888888888888,\"#fdca26\"],[1.0,\"#f0f921\"]],\"type\":\"heatmap\"}],\"heatmapgl\":[{\"colorbar\":{\"outlinewidth\":0,\"ticks\":\"\"},\"colorscale\":[[0.0,\"#0d0887\"],[0.1111111111111111,\"#46039f\"],[0.2222222222222222,\"#7201a8\"],[0.3333333333333333,\"#9c179e\"],[0.4444444444444444,\"#bd3786\"],[0.5555555555555556,\"#d8576b\"],[0.6666666666666666,\"#ed7953\"],[0.7777777777777778,\"#fb9f3a\"],[0.8888888888888888,\"#fdca26\"],[1.0,\"#f0f921\"]],\"type\":\"heatmapgl\"}],\"histogram\":[{\"marker\":{\"pattern\":{\"fillmode\":\"overlay\",\"size\":10,\"solidity\":0.2}},\"type\":\"histogram\"}],\"histogram2d\":[{\"colorbar\":{\"outlinewidth\":0,\"ticks\":\"\"},\"colorscale\":[[0.0,\"#0d0887\"],[0.1111111111111111,\"#46039f\"],[0.2222222222222222,\"#7201a8\"],[0.3333333333333333,\"#9c179e\"],[0.4444444444444444,\"#bd3786\"],[0.5555555555555556,\"#d8576b\"],[0.6666666666666666,\"#ed7953\"],[0.7777777777777778,\"#fb9f3a\"],[0.8888888888888888,\"#fdca26\"],[1.0,\"#f0f921\"]],\"type\":\"histogram2d\"}],\"histogram2dcontour\":[{\"colorbar\":{\"outlinewidth\":0,\"ticks\":\"\"},\"colorscale\":[[0.0,\"#0d0887\"],[0.1111111111111111,\"#46039f\"],[0.2222222222222222,\"#7201a8\"],[0.3333333333333333,\"#9c179e\"],[0.4444444444444444,\"#bd3786\"],[0.5555555555555556,\"#d8576b\"],[0.6666666666666666,\"#ed7953\"],[0.7777777777777778,\"#fb9f3a\"],[0.8888888888888888,\"#fdca26\"],[1.0,\"#f0f921\"]],\"type\":\"histogram2dcontour\"}],\"mesh3d\":[{\"colorbar\":{\"outlinewidth\":0,\"ticks\":\"\"},\"type\":\"mesh3d\"}],\"parcoords\":[{\"line\":{\"colorbar\":{\"outlinewidth\":0,\"ticks\":\"\"}},\"type\":\"parcoords\"}],\"pie\":[{\"automargin\":true,\"type\":\"pie\"}],\"scatter\":[{\"marker\":{\"colorbar\":{\"outlinewidth\":0,\"ticks\":\"\"}},\"type\":\"scatter\"}],\"scatter3d\":[{\"line\":{\"colorbar\":{\"outlinewidth\":0,\"ticks\":\"\"}},\"marker\":{\"colorbar\":{\"outlinewidth\":0,\"ticks\":\"\"}},\"type\":\"scatter3d\"}],\"scattercarpet\":[{\"marker\":{\"colorbar\":{\"outlinewidth\":0,\"ticks\":\"\"}},\"type\":\"scattercarpet\"}],\"scattergeo\":[{\"marker\":{\"colorbar\":{\"outlinewidth\":0,\"ticks\":\"\"}},\"type\":\"scattergeo\"}],\"scattergl\":[{\"marker\":{\"colorbar\":{\"outlinewidth\":0,\"ticks\":\"\"}},\"type\":\"scattergl\"}],\"scattermapbox\":[{\"marker\":{\"colorbar\":{\"outlinewidth\":0,\"ticks\":\"\"}},\"type\":\"scattermapbox\"}],\"scatterpolar\":[{\"marker\":{\"colorbar\":{\"outlinewidth\":0,\"ticks\":\"\"}},\"type\":\"scatterpolar\"}],\"scatterpolargl\":[{\"marker\":{\"colorbar\":{\"outlinewidth\":0,\"ticks\":\"\"}},\"type\":\"scatterpolargl\"}],\"scatterternary\":[{\"marker\":{\"colorbar\":{\"outlinewidth\":0,\"ticks\":\"\"}},\"type\":\"scatterternary\"}],\"surface\":[{\"colorbar\":{\"outlinewidth\":0,\"ticks\":\"\"},\"colorscale\":[[0.0,\"#0d0887\"],[0.1111111111111111,\"#46039f\"],[0.2222222222222222,\"#7201a8\"],[0.3333333333333333,\"#9c179e\"],[0.4444444444444444,\"#bd3786\"],[0.5555555555555556,\"#d8576b\"],[0.6666666666666666,\"#ed7953\"],[0.7777777777777778,\"#fb9f3a\"],[0.8888888888888888,\"#fdca26\"],[1.0,\"#f0f921\"]],\"type\":\"surface\"}],\"table\":[{\"cells\":{\"fill\":{\"color\":\"#EBF0F8\"},\"line\":{\"color\":\"white\"}},\"header\":{\"fill\":{\"color\":\"#C8D4E3\"},\"line\":{\"color\":\"white\"}},\"type\":\"table\"}]},\"layout\":{\"annotationdefaults\":{\"arrowcolor\":\"#2a3f5f\",\"arrowhead\":0,\"arrowwidth\":1},\"autotypenumbers\":\"strict\",\"coloraxis\":{\"colorbar\":{\"outlinewidth\":0,\"ticks\":\"\"}},\"colorscale\":{\"diverging\":[[0,\"#8e0152\"],[0.1,\"#c51b7d\"],[0.2,\"#de77ae\"],[0.3,\"#f1b6da\"],[0.4,\"#fde0ef\"],[0.5,\"#f7f7f7\"],[0.6,\"#e6f5d0\"],[0.7,\"#b8e186\"],[0.8,\"#7fbc41\"],[0.9,\"#4d9221\"],[1,\"#276419\"]],\"sequential\":[[0.0,\"#0d0887\"],[0.1111111111111111,\"#46039f\"],[0.2222222222222222,\"#7201a8\"],[0.3333333333333333,\"#9c179e\"],[0.4444444444444444,\"#bd3786\"],[0.5555555555555556,\"#d8576b\"],[0.6666666666666666,\"#ed7953\"],[0.7777777777777778,\"#fb9f3a\"],[0.8888888888888888,\"#fdca26\"],[1.0,\"#f0f921\"]],\"sequentialminus\":[[0.0,\"#0d0887\"],[0.1111111111111111,\"#46039f\"],[0.2222222222222222,\"#7201a8\"],[0.3333333333333333,\"#9c179e\"],[0.4444444444444444,\"#bd3786\"],[0.5555555555555556,\"#d8576b\"],[0.6666666666666666,\"#ed7953\"],[0.7777777777777778,\"#fb9f3a\"],[0.8888888888888888,\"#fdca26\"],[1.0,\"#f0f921\"]]},\"colorway\":[\"#636efa\",\"#EF553B\",\"#00cc96\",\"#ab63fa\",\"#FFA15A\",\"#19d3f3\",\"#FF6692\",\"#B6E880\",\"#FF97FF\",\"#FECB52\"],\"font\":{\"color\":\"#2a3f5f\"},\"geo\":{\"bgcolor\":\"white\",\"lakecolor\":\"white\",\"landcolor\":\"#E5ECF6\",\"showlakes\":true,\"showland\":true,\"subunitcolor\":\"white\"},\"hoverlabel\":{\"align\":\"left\"},\"hovermode\":\"closest\",\"mapbox\":{\"style\":\"light\"},\"paper_bgcolor\":\"white\",\"plot_bgcolor\":\"#E5ECF6\",\"polar\":{\"angularaxis\":{\"gridcolor\":\"white\",\"linecolor\":\"white\",\"ticks\":\"\"},\"bgcolor\":\"#E5ECF6\",\"radialaxis\":{\"gridcolor\":\"white\",\"linecolor\":\"white\",\"ticks\":\"\"}},\"scene\":{\"xaxis\":{\"backgroundcolor\":\"#E5ECF6\",\"gridcolor\":\"white\",\"gridwidth\":2,\"linecolor\":\"white\",\"showbackground\":true,\"ticks\":\"\",\"zerolinecolor\":\"white\"},\"yaxis\":{\"backgroundcolor\":\"#E5ECF6\",\"gridcolor\":\"white\",\"gridwidth\":2,\"linecolor\":\"white\",\"showbackground\":true,\"ticks\":\"\",\"zerolinecolor\":\"white\"},\"zaxis\":{\"backgroundcolor\":\"#E5ECF6\",\"gridcolor\":\"white\",\"gridwidth\":2,\"linecolor\":\"white\",\"showbackground\":true,\"ticks\":\"\",\"zerolinecolor\":\"white\"}},\"shapedefaults\":{\"line\":{\"color\":\"#2a3f5f\"}},\"ternary\":{\"aaxis\":{\"gridcolor\":\"white\",\"linecolor\":\"white\",\"ticks\":\"\"},\"baxis\":{\"gridcolor\":\"white\",\"linecolor\":\"white\",\"ticks\":\"\"},\"bgcolor\":\"#E5ECF6\",\"caxis\":{\"gridcolor\":\"white\",\"linecolor\":\"white\",\"ticks\":\"\"}},\"title\":{\"x\":0.05},\"xaxis\":{\"automargin\":true,\"gridcolor\":\"white\",\"linecolor\":\"white\",\"ticks\":\"\",\"title\":{\"standoff\":15},\"zerolinecolor\":\"white\",\"zerolinewidth\":2},\"yaxis\":{\"automargin\":true,\"gridcolor\":\"white\",\"linecolor\":\"white\",\"ticks\":\"\",\"title\":{\"standoff\":15},\"zerolinecolor\":\"white\",\"zerolinewidth\":2}}},\"xaxis\":{\"anchor\":\"y\",\"domain\":[0.0,1.0],\"title\":{\"text\":\"value\"}},\"yaxis\":{\"anchor\":\"x\",\"domain\":[0.0,1.0],\"title\":{\"text\":\"count\"}},\"legend\":{\"tracegroupgap\":0},\"margin\":{\"t\":60},\"barmode\":\"relative\"},                        {\"responsive\": true}                    ).then(function(){\n",
       "                            \n",
       "var gd = document.getElementById('ecc04e02-e077-4903-bef3-5aa15c802af3');\n",
       "var x = new MutationObserver(function (mutations, observer) {{\n",
       "        var display = window.getComputedStyle(gd).display;\n",
       "        if (!display || display === 'none') {{\n",
       "            console.log([gd, 'removed!']);\n",
       "            Plotly.purge(gd);\n",
       "            observer.disconnect();\n",
       "        }}\n",
       "}});\n",
       "\n",
       "// Listen for the removal of the full notebook cells\n",
       "var notebookContainer = gd.closest('#notebook-container');\n",
       "if (notebookContainer) {{\n",
       "    x.observe(notebookContainer, {childList: true});\n",
       "}}\n",
       "\n",
       "// Listen for the clearing of the current output cell\n",
       "var outputEl = gd.closest('.output');\n",
       "if (outputEl) {{\n",
       "    x.observe(outputEl, {childList: true});\n",
       "}}\n",
       "\n",
       "                        })                };                });            </script>        </div>"
      ]
     },
     "metadata": {},
     "output_type": "display_data"
    }
   ],
   "source": [
    "import plotly.express as px\n",
    "\n",
    "last_session_df = roll_df[roll_df['time'] > datetime(2021,5,28)]\n",
    "print(len(last_session_df))\n",
    "\n",
    "monti_df =  last_session_df[last_session_df['character'] == 'Monti']\n",
    "print(monti_df)\n",
    "\n",
    "fig = px.histogram(last_session_df, x=\"value\")\n",
    "fig.show()"
   ]
  },
  {
   "cell_type": "code",
   "execution_count": 70,
   "metadata": {},
   "outputs": [
    {
     "name": "stdout",
     "output_type": "stream",
     "text": [
      "character\n",
      "Russel           2\n",
      "Genki           16\n",
      "NPC             18\n",
      "Wing            20\n",
      "June/Auggie     36\n",
      "Sebille         43\n",
      "Tithe           44\n",
      "Dragonborn      56\n",
      "Roll            65\n",
      "Yev             80\n",
      "Monti           88\n",
      "Vye            128\n",
      "Name: time, dtype: int64\n"
     ]
    }
   ],
   "source": [
    "counts = roll_df.groupby(['character']).count()['time'].sort_values()\n",
    "pd.set_option(\"display.max_rows\", None, \"display.max_columns\", None)\n",
    "print(counts)"
   ]
  },
  {
   "cell_type": "code",
   "execution_count": 71,
   "metadata": {},
   "outputs": [
    {
     "name": "stdout",
     "output_type": "stream",
     "text": [
      "type\n",
      "Saving Throw      52\n",
      "Initiative        71\n",
      "Spell/Attack     111\n",
      "Generic          174\n",
      "Ability Check    188\n",
      "Name: time, dtype: int64\n"
     ]
    }
   ],
   "source": [
    "counts = roll_df.groupby(['type']).count()['time'].sort_values()\n",
    "print(counts)"
   ]
  },
  {
   "cell_type": "code",
   "execution_count": 72,
   "metadata": {},
   "outputs": [
    {
     "name": "stdout",
     "output_type": "stream",
     "text": [
      "    session           type  value\n",
      "0         0        Generic     21\n",
      "1         1  Ability Check     37\n",
      "2         1        Generic     38\n",
      "3         1     Initiative     12\n",
      "4         1   Saving Throw      5\n",
      "5         1   Spell/Attack     24\n",
      "6         2  Ability Check      6\n",
      "7         2        Generic      9\n",
      "8         2     Initiative      5\n",
      "9         2   Spell/Attack      6\n",
      "10        3  Ability Check      5\n",
      "11        3        Generic     26\n",
      "12        3     Initiative      4\n",
      "13        3   Saving Throw      1\n",
      "14        3   Spell/Attack     17\n",
      "15        4  Ability Check     13\n",
      "16        4        Generic     10\n",
      "17        4   Saving Throw      1\n",
      "18        4   Spell/Attack      5\n",
      "19        5  Ability Check     34\n",
      "20        5        Generic     24\n",
      "21        5     Initiative     14\n",
      "22        5   Saving Throw     23\n",
      "23        5   Spell/Attack     27\n",
      "24        6  Ability Check     16\n",
      "25        6        Generic     10\n",
      "26        6     Initiative      1\n",
      "27        6   Spell/Attack      7\n",
      "28        7  Ability Check      4\n",
      "29        7        Generic     13\n",
      "30        7     Initiative      3\n",
      "31        7   Saving Throw      2\n",
      "32        7   Spell/Attack      5\n",
      "33        8  Ability Check     23\n",
      "34        8        Generic     14\n",
      "35        8     Initiative     12\n",
      "36        8   Saving Throw     11\n",
      "37        8   Spell/Attack      7\n",
      "38        9  Ability Check     24\n",
      "39        9        Generic      2\n",
      "40        9     Initiative     10\n",
      "41        9   Saving Throw      9\n",
      "42        9   Spell/Attack      8\n",
      "43       10  Ability Check     14\n",
      "44       10        Generic      7\n",
      "45       10     Initiative      8\n",
      "46       10   Spell/Attack      1\n",
      "47       11  Ability Check     12\n",
      "48       11     Initiative      2\n",
      "49       11   Spell/Attack      4\n"
     ]
    }
   ],
   "source": [
    "data = roll_df.groupby(['session','type']).count()['value'].reset_index(level=[0,1])\n",
    "print(data)"
   ]
  },
  {
   "cell_type": "code",
   "execution_count": 73,
   "metadata": {},
   "outputs": [
    {
     "name": "stdout",
     "output_type": "stream",
     "text": [
      "88\n"
     ]
    }
   ],
   "source": [
    "print(sum(roll_df['character'] == 'Monti'))"
   ]
  },
  {
   "cell_type": "code",
   "execution_count": null,
   "metadata": {},
   "outputs": [],
   "source": []
  }
 ],
 "metadata": {
  "kernelspec": {
   "display_name": "Python 3 (ipykernel)",
   "language": "python",
   "name": "python3"
  },
  "language_info": {
   "codemirror_mode": {
    "name": "ipython",
    "version": 3
   },
   "file_extension": ".py",
   "mimetype": "text/x-python",
   "name": "python",
   "nbconvert_exporter": "python",
   "pygments_lexer": "ipython3",
   "version": "3.10.1"
  }
 },
 "nbformat": 4,
 "nbformat_minor": 2
}
