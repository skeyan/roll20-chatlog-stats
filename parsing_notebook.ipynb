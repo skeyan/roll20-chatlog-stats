{
 "cells": [
  {
   "cell_type": "code",
   "execution_count": 107,
   "metadata": {},
   "outputs": [],
   "source": [
    "from bs4 import BeautifulSoup\n",
    "\n",
    "# https://app.roll20.net/campaigns/chatarchive/8981579?p=1&onePage=true&hidewhispers=&hiderollresults=\n",
    "# save page\n",
    "\n",
    "# (pagenate https://app.roll20.net/campaigns/chatarchive/8981579?p=1 with cache?)\n",
    "# annoying data seems to come from graphql responses\n",
    "with open('data/ChatLog_SecondForm_1_4_2022.html', mode='r', encoding=\"utf8\") as fd:\n",
    "    html_doc = fd.read()\n",
    "\n",
    "soup = BeautifulSoup(html_doc, 'html.parser')"
   ]
  },
  {
   "cell_type": "code",
   "execution_count": 108,
   "metadata": {},
   "outputs": [
    {
     "name": "stdout",
     "output_type": "stream",
     "text": [
      "1536\n"
     ]
    }
   ],
   "source": [
    "messages = soup.find_all('div', 'message')\n",
    "\n",
    "print(len(messages))"
   ]
  },
  {
   "cell_type": "code",
   "execution_count": 109,
   "metadata": {},
   "outputs": [],
   "source": [
    "def is_generic_roll(message_class_list):\n",
    "    return True if 'rollresult' in message_class_list else False\n",
    "    \n",
    "def is_new_character_rolling(message):\n",
    "    return message.find(class_='spacer')"
   ]
  },
  {
   "cell_type": "code",
   "execution_count": 110,
   "metadata": {
    "tags": []
   },
   "outputs": [
    {
     "name": "stdout",
     "output_type": "stream",
     "text": [
      "1536\n",
      "[datetime.datetime(2022, 1, 4, 0, 17), datetime.datetime(2022, 1, 4, 0, 17), datetime.datetime(2022, 1, 4, 0, 17), datetime.datetime(2022, 1, 4, 0, 17), datetime.datetime(2022, 1, 4, 0, 17), datetime.datetime(2022, 1, 4, 0, 17), datetime.datetime(2022, 1, 4, 0, 17), datetime.datetime(2022, 1, 4, 0, 17), datetime.datetime(2022, 1, 4, 0, 17), datetime.datetime(2022, 1, 4, 0, 17), datetime.datetime(2022, 1, 4, 0, 17), datetime.datetime(2022, 1, 4, 0, 17), datetime.datetime(2022, 1, 4, 0, 17), datetime.datetime(2022, 1, 4, 0, 17), datetime.datetime(2022, 1, 4, 0, 17), datetime.datetime(2022, 1, 4, 0, 17), datetime.datetime(2022, 1, 4, 0, 17), datetime.datetime(2022, 1, 4, 0, 17), datetime.datetime(2022, 1, 4, 0, 17), datetime.datetime(2022, 1, 4, 0, 17)]\n"
     ]
    }
   ],
   "source": [
    "from dateutil.parser import parse\n",
    "\n",
    "current_time = None\n",
    "timestamps = []\n",
    "for message in messages:\n",
    "    tstamp = message.find(class_='tstamp')\n",
    "    if tstamp:\n",
    "        current_time = parse(tstamp.string)\n",
    "    timestamps.append(current_time)\n",
    "\n",
    "print(len(timestamps))\n",
    "print(timestamps[-20:])"
   ]
  },
  {
   "cell_type": "code",
   "execution_count": 111,
   "metadata": {},
   "outputs": [
    {
     "name": "stdout",
     "output_type": "stream",
     "text": [
      "965\n"
     ]
    }
   ],
   "source": [
    "has_roll = []\n",
    "for message in messages:\n",
    "    has_roll.append((message.find(class_='inlinerollresult') is not None) or ('rollresult' in message['class']))\n",
    "\n",
    "print(len([i for i in has_roll if i ]))\n",
    "\n",
    "# roll_timestamps = [timestamp for i, timestamp in zip(has_roll, timestamps) if i]\n",
    "roll_msgs = [message for i, message, in zip(has_roll, messages) if i ]"
   ]
  },
  {
   "cell_type": "code",
   "execution_count": 112,
   "metadata": {
    "tags": []
   },
   "outputs": [
    {
     "name": "stdout",
     "output_type": "stream",
     "text": [
      "Characters: 798 ['Leslie', 'Leslie', 'Viktor', 'Leslie', 'Viktor', 'Feyrn', 'Viktor', 'Viktor', 'Feyrn', 'Viktor', 'Feyrn', 'Feyrn', 'Damaia', 'Leslie', 'Feyrn', 'Viktor', 'Damaia', 'Viktor', 'Feyrn', 'Damaia', 'Viktor', 'Feyrn', 'Viktor', 'Damaia', 'Feyrn', 'Viktor', 'Feyrn', 'Leslie', 'Damaia', 'Viktor', 'Viktor', 'Damaia', 'Feyrn', 'Feyrn', 'Leslie', 'Damaia', 'Leslie', 'Viktor', 'Damaia', 'Feyrn', 'Damaia', 'Viktor', 'Leslie', 'Feyrn', 'Feyrn', 'Damaia', 'Viktor', 'Feyrn', 'Leslie', 'Viktor', 'Feyrn', 'Damaia', 'Damaia', 'Leslie', 'Viktor', 'Feyrn', 'Damaia', 'Viktor', 'Feyrn', 'Damaia', 'Leslie', 'Viktor', 'Feyrn', 'Leslie', 'Viktor', 'Damaia', 'Feyrn', 'Leslie', 'Feyrn', 'Viktor', 'Leslie', 'Viktor', 'Damaia', 'Feyrn', 'Feyrn', 'Leslie', 'Viktor', 'Viktor', 'Leslie', 'Damaia', 'Feyrn', 'Feyrn', 'Feyrn', 'Feyrn', 'Feyrn', 'Feyrn', 'Feyrn', 'Feyrn', 'Feyrn', 'Feyrn', 'Feyrn', 'Feyrn', 'Viktor', 'Leslie', 'Viktor', 'Damaia', 'Leslie', 'Viktor', 'Viktor', 'Leslie', 'Viktor', 'Damaia', 'Leslie', 'Viktor', 'Damaia', 'Feyrn', 'NPC', 'Feyrn', 'Feyrn', 'Feyrn', 'NPC', 'Feyrn', 'Feyrn', 'Feyrn', 'Feyrn', 'Feyrn', 'Feyrn', 'NPC', 'NPC', 'NPC', 'NPC', 'Feyrn', 'Leslie', 'Damaia', 'Feyrn', 'Leslie', 'Leslie', 'Leslie', 'Leslie', 'Leslie', 'Leslie', 'Feyrn', 'Damaia', 'Leslie', 'Leslie', 'Feyrn', 'Leslie', 'Damaia', 'Leslie', 'Feyrn', 'Damaia', 'Leslie', 'Feyrn', 'Leslie', 'Damaia', 'Damaia', 'Leslie', 'Feyrn', 'Feyrn', 'Leslie', 'Leslie', 'Leslie', 'Leslie', 'Leslie', 'Leslie', 'Damaia', 'Damaia', 'Leslie', 'Leslie', 'Leslie', 'Leslie', 'Leslie', 'Leslie', 'Leslie', 'Feyrn', 'Leslie', 'Leslie', 'Leslie', 'Leslie', 'Feyrn', 'Damaia', 'Leslie', 'Leslie', 'Leslie', 'Feyrn', 'Feyrn', 'Leslie', 'Damaia', 'Leslie', 'Leslie', 'Leslie', 'Leslie', 'Leslie', 'Damaia', 'Damaia', 'Leslie', 'Feyrn', 'Leslie', 'Leslie', 'Damaia', 'Feyrn', 'Damaia', 'Feyrn', 'Leslie', 'Damaia', 'Feyrn', 'Leslie', 'Leslie', 'Feyrn', 'Leslie', 'Leslie', 'Feyrn', 'Leslie', 'Leslie', 'Feyrn', 'Leslie', 'Leslie', 'Leslie', 'Damaia', 'Leslie', 'Leslie', 'Leslie', 'Leslie', 'Leslie', 'Leslie', 'Feyrn', 'Damaia', 'Leslie', 'Leslie', 'Leslie', 'Leslie', 'Leslie', 'Feyrn', 'Damaia', 'Leslie', 'Feyrn', 'Leslie', 'Damaia', 'Damaia', 'Leslie', 'Leslie', 'Feyrn', 'Damaia', 'Damaia', 'Leslie', 'Leslie', 'Damaia', 'Feyrn', 'Feyrn', 'Damaia', 'Leslie', 'Feyrn', 'Damaia', 'Leslie', 'Feyrn', 'Feyrn', 'Feyrn', 'Feyrn', 'Leslie', 'Feyrn', 'Feyrn', 'Leslie', 'Leslie', 'Leslie', 'Feyrn', 'Leslie', 'Feyrn', 'Feyrn', 'Leslie', 'Leslie', 'Leslie', 'Feyrn', 'Feyrn', 'Feyrn', 'Leslie', 'Damaia', 'Feyrn', 'Feyrn', 'Feyrn', 'Feyrn', 'Leslie', 'Leslie', 'Leslie', 'Feyrn', 'Leslie', 'Leslie', 'Feyrn', 'Leslie', 'Feyrn', 'Leslie', 'Leslie', 'Feyrn', 'Leslie', 'Leslie', 'Feyrn', 'Leslie', 'Feyrn', 'Damaia', 'Leslie', 'Feyrn', 'Feyrn', 'Leslie', 'Damaia', 'Leslie', 'Damaia', 'Feyrn', 'Damaia', 'Leslie', 'Leslie', 'Damaia', 'Feyrn', 'Feyrn', 'Leslie', 'Leslie', 'Leslie', 'Feyrn', 'Damaia', 'Damaia', 'Feyrn', 'Leslie', 'Damaia', 'Feyrn', 'Feyrn', 'Leslie', 'Damaia', 'Feyrn', 'Feyrn', 'Feyrn', 'Leslie', 'Damaia', 'Feyrn', 'Leslie', 'Damaia', 'Feyrn', 'Leslie', 'Damaia', 'Leslie', 'Damaia', 'Damaia', 'Feyrn', 'Feyrn', 'Damaia', 'Leslie', 'Feyrn', 'Damaia', 'Feyrn', 'Feyrn', 'Feyrn', 'Damaia', 'Feyrn', 'Feyrn', 'Feyrn', 'Feyrn', 'Feyrn', 'Leslie', 'Feyrn', 'Damaia', 'Leslie', 'Feyrn', 'Damaia', 'Leslie', 'Feyrn', 'Feyrn', 'Leslie', 'Feyrn', 'Leslie', 'Leslie', 'Leslie', 'Feyrn', 'Kal', 'Kal', 'NPC', 'Kal', 'Kal', 'Kal', 'Kal', 'Kal', 'Kal', 'Kal', 'Kal', 'Kal', 'Kal', 'Kal', 'Kal', 'Kal', 'Kal', 'Kal', 'Kal', 'Kal', 'Kal', 'Kal', 'Kal', 'Kal', 'Kal', 'Kal', 'Kal', 'Kal', 'Kal', 'Kal', 'Kal', 'Kal', 'Kal', 'Kal', 'Kal', 'Kal', 'Kal', 'Kal', 'Kal', 'Kal', 'Kal', 'Kal', 'Feyrn', 'Feyrn', 'Feyrn', 'Kal', 'Kal', 'Kal', 'Kal', 'Kal', 'NPC', 'Kal', 'Kal', 'Kal', 'Feyrn', 'Kal', 'Feyrn', 'Kal', 'Kal', 'Kal', 'Feyrn', 'Feyrn', 'Feyrn', 'Kal', 'Feyrn', 'Kal', 'Feyrn', 'Feyrn', 'Kal', 'Feyrn', 'Feyrn', 'Feyrn', 'Feyrn', 'Kal', 'Feyrn', 'Feyrn', 'Kal', 'Kal', 'Feyrn', 'Kal', 'Feyrn', 'Kal', 'Kal', 'Feyrn', 'Feyrn', 'Kal', 'Feyrn', 'Feyrn', 'Feyrn', 'Feyrn', 'Feyrn', 'Feyrn', 'Kal', 'Feyrn', 'Kal', 'Feyrn', 'Feyrn', 'Feyrn', 'Kal', 'Kal', 'Feyrn', 'Kal', 'Feyrn', 'Kal', 'Feyrn', 'Feyrn', 'Kal', 'Kal', 'Kal', 'Kal', 'Kal', 'Feyrn', 'Kal', 'Feyrn', 'Kal', 'Feyrn', 'Kal', 'Feyrn', 'Kal', 'Feyrn', 'Kal', 'Feyrn', 'Feyrn', 'Kal', 'Kal', 'Feyrn', 'Kal', 'Kal', 'Kal', 'Kal', 'Feyrn', 'Kal', 'Feyrn', 'Kal', 'Kal', 'Feyrn', 'Kal', 'Feyrn', 'Kal', 'Kal', 'Feyrn', 'Feyrn', 'Feyrn', 'Kal', 'Kal', 'Feyrn', 'Feyrn', 'Feyrn', 'Feyrn', 'Kal', 'Kal', 'Feyrn', 'Feyrn', 'Feyrn', 'Feyrn', 'Kal', 'Feyrn', 'Kal', 'Feyrn', 'Feyrn', 'Feyrn', 'Feyrn', 'Kal', 'Feyrn', 'Kal', 'Feyrn', 'Kal', 'Feyrn', 'Kal', 'Feyrn', 'Kal', 'Kal', 'Feyrn', 'Kal', 'Feyrn', 'Feyrn', 'Feyrn', 'Feyrn', 'Feyrn', 'Feyrn', 'Feyrn', 'Kal', 'Feyrn', 'Kal', 'Kal', 'Kal', 'Feyrn', 'Feyrn', 'Feyrn', 'Kal', 'Kal', 'Kal', 'Feyrn', 'Feyrn', 'Feyrn', 'Kal', 'Feyrn', 'Feyrn', 'Kal', 'Kal', 'Kal', 'Kal', 'Feyrn', 'Kal', 'Kal', 'Kal', 'Kal', 'Kal', 'Kal', 'Feyrn', 'Kal', 'Kal', 'Feyrn', 'Feyrn', 'Feyrn', 'NPC', 'Kal', 'Feyrn', 'Feyrn', 'Feyrn', 'Kal', 'Kal', 'Kal', 'Feyrn', 'Feyrn', 'Kal', 'Feyrn', 'Feyrn', 'NPC', 'NPC', 'Kal', 'Feyrn', 'Feyrn', 'Kal', 'NPC', 'Feyrn', 'Feyrn', 'Kal', 'Kal', 'Kal', 'Feyrn', 'Feyrn', 'Feyrn', 'Feyrn', 'Feyrn', 'Kal', 'Kal', 'Feyrn', 'Feyrn', 'Kal', 'Kal', 'Feyrn', 'Feyrn', 'Feyrn', 'Feyrn', 'Kal', 'Feyrn', 'Kal', 'Kal', 'Feyrn', 'Kal', 'Kal', 'Feyrn', 'Kal', 'Feyrn', 'Feyrn', 'Feyrn', 'Feyrn', 'Feyrn', 'Kal', 'Kal', 'Feyrn', 'Feyrn', 'Feyrn', 'Feyrn', 'Feyrn', 'Kal', 'Kal', 'Feyrn', 'Kal', 'Feyrn', 'Kal', 'Kal', 'Kal', 'Kal', 'Kal', 'Feyrn', 'Kal', 'Kal', 'Kal', 'Feyrn', 'Feyrn', 'Kal', 'Kal', 'Kal', 'Feyrn', 'Feyrn', 'Kal', 'Feyrn', 'Kal', 'Kal', 'Feyrn', 'Feyrn', 'Kal', 'Kal', 'Feyrn', 'Kal', 'Kal', 'Kal', 'Kal', 'Kal', 'Kal', 'Kal', 'Feyrn', 'Kal', 'Feyrn', 'Feyrn', 'Feyrn', 'Feyrn', 'Kal', 'Feyrn', 'Feyrn', 'Kal', 'Kal', 'Feyrn', 'Kal', 'Feyrn', 'Kal', 'Feyrn', 'Feyrn', 'Kal', 'Kal', 'Kal', 'Kal', 'Kal', 'Feyrn', 'Kal', 'Feyrn', 'Feyrn', 'Feyrn', 'Kal', 'Kal', 'Kal', 'Kal', 'Kal', 'Feyrn', 'Kal', 'Kal', 'Feyrn', 'Feyrn', 'Kal', 'Feyrn', 'Kal', 'Kal', 'Feyrn', 'Feyrn', 'Feyrn', 'Kal', 'Kal', 'Feyrn', 'Kal', 'Feyrn', 'Feyrn', 'Feyrn', 'Feyrn', 'Feyrn', 'Feyrn', 'Kal', 'Kal', 'Kal', 'Feyrn', 'Kal', 'Feyrn', 'Kal', 'Kal', 'Feyrn', 'Kal', 'Feyrn', 'Kal', 'Kal', 'Feyrn', 'Feyrn', 'Kal', 'Feyrn', 'Feyrn', 'Kal', 'Feyrn', 'Kal', 'Feyrn', 'Kal', 'Feyrn', 'Feyrn', 'Kal', 'Kal', 'Feyrn', 'Kal', 'Kal', 'Feyrn', 'Kal', 'Kal', 'Kal', 'Kal', 'Kal', 'Kal', 'Kal', 'Kal', 'Kal', 'Kal', 'Kal', 'Feyrn', 'Feyrn', 'Feyrn', 'Kal', 'Feyrn', 'Feyrn', 'Feyrn', 'Feyrn', 'Feyrn', 'Feyrn', 'Feyrn', 'Kal', 'Feyrn', 'Feyrn', 'Feyrn', 'Feyrn', 'Feyrn', 'Feyrn', 'Feyrn', 'Kal', 'Feyrn', 'Kal', 'Kal', 'Kal', 'Kal', 'Feyrn', 'Feyrn', 'Feyrn', 'Feyrn', 'Feyrn']\n",
      "Roll Types: 798 ['Generic', 'Generic', 'Generic', 'Generic', 'Generic', 'Generic', 'Generic', 'Generic', 'Generic', 'Generic', 'Generic', 'Generic', 'Generic', 'Generic', 'Generic', 'Generic', 'Generic', 'Generic', 'Generic', 'Generic', 'Generic', 'Generic', 'Generic', 'Generic', 'Generic', 'Generic', 'Generic', 'Generic', 'Generic', 'Generic', 'Generic', 'Generic', 'Generic', 'Generic', 'Generic', 'Generic', 'Generic', 'Generic', 'Generic', 'Generic', 'Generic', 'Generic', 'Generic', 'Generic', 'Generic', 'Generic', 'Generic', 'Generic', 'Generic', 'Generic', 'Generic', 'Generic', 'Generic', 'Generic', 'Generic', 'Generic', 'Generic', 'Generic', 'Generic', 'Generic', 'Generic', 'Generic', 'Generic', 'Generic', 'Generic', 'Generic', 'Generic', 'Generic', 'Generic', 'Generic', 'Generic', 'Generic', 'Generic', 'Generic', 'Generic', 'Generic', 'Generic', 'Generic', 'Generic', 'Generic', 'Generic', 'Generic', 'Generic', 'Generic', 'Generic', 'Generic', 'Generic', 'Generic', 'Generic', 'Generic', 'Generic', 'Generic', 'Generic', 'Generic', 'Generic', 'Generic', 'Generic', 'Generic', 'Generic', 'Generic', 'Generic', 'Generic', 'Generic', 'Generic', 'Generic', 'Generic', 'Generic', 'Generic', 'Generic', 'Generic', 'Generic', 'Generic', 'Generic', 'Generic', 'Generic', 'Generic', 'Generic', 'Generic', 'Generic', 'Generic', 'Generic', 'Generic', 'Generic', 'Generic', 'Generic', 'Generic', 'Generic', 'Generic', 'Generic', 'Generic', 'Generic', 'Generic', 'Generic', 'Generic', 'Generic', 'Generic', 'Generic', 'Generic', 'Generic', 'Generic', 'Generic', 'Generic', 'Generic', 'Generic', 'Generic', 'Generic', 'Generic', 'Generic', 'Generic', 'Generic', 'Generic', 'Generic', 'Generic', 'Generic', 'Generic', 'Generic', 'Generic', 'Generic', 'Generic', 'Generic', 'Generic', 'Generic', 'Generic', 'Generic', 'Generic', 'Generic', 'Generic', 'Generic', 'Generic', 'Generic', 'Generic', 'Generic', 'Generic', 'Generic', 'Generic', 'Generic', 'Generic', 'Generic', 'Generic', 'Generic', 'Generic', 'Generic', 'Generic', 'Generic', 'Generic', 'Generic', 'Generic', 'Generic', 'Generic', 'Generic', 'Generic', 'Generic', 'Generic', 'Generic', 'Generic', 'Generic', 'Generic', 'Generic', 'Generic', 'Generic', 'Generic', 'Generic', 'Generic', 'Generic', 'Generic', 'Generic', 'Generic', 'Generic', 'Generic', 'Generic', 'Generic', 'Generic', 'Generic', 'Generic', 'Generic', 'Generic', 'Generic', 'Generic', 'Generic', 'Generic', 'Generic', 'Generic', 'Generic', 'Generic', 'Generic', 'Generic', 'Generic', 'Generic', 'Generic', 'Generic', 'Generic', 'Generic', 'Generic', 'Generic', 'Generic', 'Generic', 'Generic', 'Generic', 'Generic', 'Generic', 'Generic', 'Generic', 'Generic', 'Generic', 'Generic', 'Generic', 'Generic', 'Generic', 'Generic', 'Generic', 'Generic', 'Generic', 'Generic', 'Generic', 'Generic', 'Generic', 'Generic', 'Generic', 'Generic', 'Generic', 'Generic', 'Generic', 'Generic', 'Generic', 'Generic', 'Generic', 'Generic', 'Generic', 'Generic', 'Generic', 'Generic', 'Generic', 'Generic', 'Generic', 'Generic', 'Generic', 'Generic', 'Generic', 'Generic', 'Generic', 'Generic', 'Generic', 'Generic', 'Generic', 'Generic', 'Generic', 'Generic', 'Generic', 'Generic', 'Generic', 'Generic', 'Generic', 'Generic', 'Generic', 'Generic', 'Generic', 'Generic', 'Generic', 'Generic', 'Generic', 'Generic', 'Generic', 'Generic', 'Generic', 'Generic', 'Generic', 'Generic', 'Generic', 'Generic', 'Generic', 'Generic', 'Generic', 'Generic', 'Generic', 'Generic', 'Generic', 'Generic', 'Generic', 'Generic', 'Generic', 'Generic', 'Generic', 'Generic', 'Generic', 'Generic', 'Generic', 'Generic', 'Generic', 'Generic', 'Generic', 'Generic', 'Generic', 'Generic', 'Generic', 'Generic', 'Generic', 'Generic', 'Generic', 'Generic', 'Generic', 'Generic', 'Generic', 'Generic', 'Generic', 'Generic', 'Generic', 'Generic', 'Generic', 'Generic', 'Generic', 'Generic', 'Generic', 'Generic', 'Generic', 'Generic', 'Generic', 'Generic', 'Generic', 'Generic', 'Spell/Attack', 'Spell/Attack', 'Spell/Attack', 'Spell/Attack', 'Ability Check', 'Ability Check', 'Ability Check', 'Ability Check', 'Generic', 'Ability Check', 'Ability Check', 'Ability Check', 'Ability Check', 'Ability Check', 'Saving Throw', 'Ability Check', 'Ability Check', 'Ability Check', 'Ability Check', 'Ability Check', 'Ability Check', 'Ability Check', 'Ability Check', 'Ability Check', 'Saving Throw', 'Saving Throw', 'Ability Check', 'Ability Check', 'Ability Check', 'Ability Check', 'Ability Check', 'Ability Check', 'Ability Check', 'Ability Check', 'Ability Check', 'Initiative', 'Spell/Attack', 'Saving Throw', 'Generic', 'Saving Throw', 'Saving Throw', 'Generic', 'Generic', 'Ability Check', 'Generic', 'Ability Check', 'Ability Check', 'Ability Check', 'Ability Check', 'Ability Check', 'Generic', 'Saving Throw', 'Saving Throw', 'Ability Check', 'Generic', 'Saving Throw', 'Generic', 'Ability Check', 'Saving Throw', 'Ability Check', 'Generic', 'Generic', 'Generic', 'Ability Check', 'Generic', 'Ability Check', 'Generic', 'Generic', 'Initiative', 'Initiative', 'Generic', 'Generic', 'Generic', 'Generic', 'Generic', 'Generic', 'Generic', 'Ability Check', 'Generic', 'Generic', 'Generic', 'Generic', 'Generic', 'Generic', 'Generic', 'Spell/Attack', 'Generic', 'Generic', 'Generic', 'Generic', 'Generic', 'Generic', 'Spell/Attack', 'Generic', 'Spell/Attack', 'Generic', 'Generic', 'Generic', 'Ability Check', 'Ability Check', 'Generic', 'Ability Check', 'Generic', 'Generic', 'Generic', 'Generic', 'Ability Check', 'Ability Check', 'Ability Check', 'Ability Check', 'Ability Check', 'Generic', 'Ability Check', 'Generic', 'Generic', 'Generic', 'Ability Check', 'Generic', 'Ability Check', 'Generic', 'Ability Check', 'Generic', 'Generic', 'Ability Check', 'Ability Check', 'Generic', 'Generic', 'Ability Check', 'Generic', 'Ability Check', 'Generic', 'Ability Check', 'Generic', 'Ability Check', 'Saving Throw', 'Generic', 'Ability Check', 'Generic', 'Saving Throw', 'Ability Check', 'Generic', 'Generic', 'Generic', 'Initiative', 'Initiative', 'Generic', 'Generic', 'Spell/Attack', 'Generic', 'Saving Throw', 'Saving Throw', 'Generic', 'Generic', 'Generic', 'Generic', 'Saving Throw', 'Generic', 'Generic', 'Generic', 'Generic', 'Generic', 'Spell/Attack', 'Generic', 'Generic', 'Ability Check', 'Generic', 'Ability Check', 'Generic', 'Ability Check', 'Generic', 'Ability Check', 'Generic', 'Generic', 'Ability Check', 'Generic', 'Ability Check', 'Ability Check', 'Ability Check', 'Ability Check', 'Ability Check', 'Ability Check', 'Ability Check', 'Ability Check', 'Ability Check', 'Ability Check', 'Ability Check', 'Ability Check', 'Ability Check', 'Initiative', 'Initiative', 'Ability Check', 'Ability Check', 'Ability Check', 'Ability Check', 'Saving Throw', 'Ability Check', 'Ability Check', 'Generic', 'Spell/Attack', 'Saving Throw', 'Saving Throw', 'Ability Check', 'Ability Check', 'Generic', 'Generic', 'Generic', 'Generic', 'Generic', 'Generic', 'Generic', 'Ability Check', 'Ability Check', 'Ability Check', 'Saving Throw', 'Saving Throw', 'Generic', 'Ability Check', 'Ability Check', 'Ability Check', 'Ability Check', 'Ability Check', 'Ability Check', 'Ability Check', 'Ability Check', 'Ability Check', 'Saving Throw', 'Saving Throw', 'Initiative', 'Initiative', 'Initiative', 'Initiative', 'Initiative', 'Initiative', 'Initiative', 'Initiative', 'Saving Throw', 'Saving Throw', 'Initiative', 'Spell/Attack', 'Spell/Attack', 'Spell/Attack', 'Spell/Attack', 'Spell/Attack', 'Ability Check', 'Ability Check', 'Ability Check', 'Spell/Attack', 'Generic', 'Generic', 'Ability Check', 'Ability Check', 'Generic', 'Generic', 'Saving Throw', 'Generic', 'Ability Check', 'Generic', 'Ability Check', 'Ability Check', 'Generic', 'Ability Check', 'Saving Throw', 'Generic', 'Initiative', 'Generic', 'Generic', 'Generic', 'Generic', 'Generic', 'Spell/Attack', 'Spell/Attack', 'Generic', 'Generic', 'Generic', 'Generic', 'Generic', 'Saving Throw', 'Saving Throw', 'Generic', 'Ability Check', 'Generic', 'Generic', 'Ability Check', 'Ability Check', 'Ability Check', 'Ability Check', 'Generic', 'Generic', 'Generic', 'Generic', 'Generic', 'Generic', 'Ability Check', 'Ability Check', 'Ability Check', 'Generic', 'Generic', 'Ability Check', 'Generic', 'Ability Check', 'Ability Check', 'Generic', 'Generic', 'Generic', 'Ability Check', 'Generic', 'Saving Throw', 'Ability Check', 'Ability Check', 'Ability Check', 'Ability Check', 'Ability Check', 'Saving Throw', 'Generic', 'Generic', 'Initiative', 'Ability Check', 'Spell/Attack', 'Ability Check', 'Ability Check', 'Ability Check', 'Ability Check', 'Ability Check', 'Generic', 'Ability Check', 'Ability Check', 'Ability Check', 'Ability Check', 'Ability Check', 'Ability Check', 'Spell/Attack', 'Generic', 'Generic', 'Initiative', 'Ability Check', 'Spell/Attack', 'Saving Throw', 'Ability Check', 'Ability Check', 'Spell/Attack', 'Spell/Attack', 'Spell/Attack', 'Spell/Attack', 'Spell/Attack', 'Ability Check', 'Generic', 'Ability Check', 'Ability Check', 'Ability Check', 'Ability Check', 'Ability Check', 'Ability Check', 'Ability Check', 'Ability Check', 'Generic', 'Generic', 'Generic', 'Ability Check', 'Ability Check', 'Generic', 'Ability Check', 'Generic', 'Generic', 'Ability Check', 'Generic', 'Generic', 'Generic', 'Generic', 'Generic', 'Ability Check', 'Generic', 'Ability Check', 'Generic', 'Ability Check', 'Ability Check', 'Generic', 'Ability Check', 'Generic', 'Ability Check', 'Ability Check', 'Generic', 'Generic', 'Generic', 'Generic', 'Generic', 'Initiative', 'Initiative', 'Ability Check', 'Generic', 'Ability Check', 'Generic', 'Generic', 'Ability Check', 'Saving Throw', 'Generic', 'Generic', 'Ability Check', 'Generic', 'Generic', 'Generic', 'Generic', 'Generic', 'Generic', 'Generic', 'Generic', 'Generic', 'Generic', 'Generic', 'Saving Throw', 'Generic', 'Generic', 'Generic', 'Ability Check', 'Generic', 'Generic', 'Generic', 'Generic', 'Generic', 'Generic', 'Generic', 'Ability Check', 'Generic', 'Generic', 'Generic', 'Generic', 'Generic', 'Generic', 'Generic', 'Ability Check', 'Generic', 'Ability Check', 'Ability Check', 'Ability Check', 'Ability Check', 'Generic', 'Generic', 'Generic', 'Generic', 'Generic']\n",
      "d20 rolls: 798 [19, 8, 14, 17, 16, 13, 19, 5, 4, 7, 5, 4, 1, 14, 17, 14, 7, 20, 20, 17, 5, 5, 5, 6, 14, 13, 2, 2, 2, 12, 20, 12, 13, 5, 6, 15, 14, 9, 20, 4, 2, 10, 12, 17, 1, 9, 6, 15, 4, 7, 17, 2, 10, 7, 7, 15, 19, 12, 9, 11, 14, 16, 5, 2, 10, 11, 10, 13, 10, 4, 18, 10, 7, 8, 17, 19, 5, 18, 10, 10, 6, 16, 12, 15, 12, 1, 4, 2, 3, 13, 16, 1, 16, 1, 9, 18, 10, 14, 6, 13, 6, 4, 6, 11, 18, 3, 3, 13, 16, 8, 2, 10, 9, 6, 4, 6, 11, 17, 9, 4, 8, 1, 12, 6, 10, 19, 1, 8, 20, 19, 16, 14, 15, 14, 15, 14, 6, 16, 15, 13, 7, 12, 8, 8, 19, 17, 10, 12, 3, 18, 8, 12, 9, 10, 16, 7, 17, 7, 19, 4, 15, 18, 10, 6, 11, 13, 4, 1, 5, 1, 15, 9, 3, 7, 1, 14, 1, 9, 14, 18, 12, 15, 8, 8, 7, 16, 20, 3, 5, 16, 6, 16, 14, 4, 12, 14, 6, 11, 4, 15, 19, 9, 9, 17, 13, 4, 5, 15, 5, 1, 7, 19, 15, 10, 17, 15, 12, 3, 15, 20, 7, 17, 15, 14, 9, 4, 13, 19, 1, 7, 10, 15, 14, 20, 11, 19, 19, 14, 10, 12, 5, 5, 9, 14, 12, 19, 17, 5, 12, 6, 8, 10, 13, 11, 4, 10, 17, 17, 20, 18, 11, 2, 3, 2, 16, 7, 4, 2, 9, 20, 15, 20, 4, 2, 7, 7, 6, 6, 6, 17, 15, 20, 19, 8, 3, 14, 11, 18, 16, 14, 2, 18, 8, 2, 19, 17, 11, 18, 3, 11, 4, 11, 20, 11, 1, 8, 16, 15, 2, 14, 14, 3, 9, 12, 18, 6, 12, 12, 13, 9, 16, 13, 12, 3, 13, 19, 16, 3, 2, 5, 5, 20, 9, 2, 13, 11, 3, 2, 3, 16, 10, 9, 17, 14, 14, 1, 10, 5, 16, 6, 19, 14, 1, 4, 13, 2, 4, 11, 11, 1, 12, 10, 18, 17, 19, 12, 16, 21, 20, 4, 8, 7, 13, 20, 2, 12, 11, 20, 20, 17, 9, 5, 10, 14, 12, 8, 19, 8, 8, 1, 16, 5, 16, 2, 8, 1, 10, 1, 6, 12, 12, 15, 16, 6, 20, 6, 2, 2, 13, 18, 2, 8, 9, 8, 3, 24, 12, 19, 7, 12, 6, 19, 12, 23, 3, 19, 11, 3, 3, 6, 24, 17, 13, 11, 3, 20, 3, 14, 12, 16, 9, 18, 25, 17, 3, 8, 11, 22, 13, 15, 6, 14, 21, 4, 7, 7, 4, 8, 12, 26, 5, 20, 19, 21, 10, 9, 15, 11, 8, 4, 3, 16, 23, 11, 17, 16, 9, 15, 15, 7, 16, 18, 10, 2, 25, 15, 5, 7, 5, 7, 7, 14, 10, 15, 3, 2, 12, 5, 2, 18, 4, 23, 17, 1, 23, 8, 20, 24, 13, 1, 6, 14, 12, 15, 18, 11, 20, 23, 21, 23, 4, 3, 8, 4, 2, 13, 4, 2, 17, 18, 12, 18, 9, 14, 3, 18, 13, 15, 1, 1, 20, 15, 17, 15, 17, 4, 2, 19, 7, 6, 1, 9, 13, 20, 11, 4, 20, 10, 14, 10, 13, 5, 14, 1, 3, 11, 6, 18, 3, 14, 18, 13, 1, 17, 1, 7, 18, 12, 10, 1, 13, 8, 3, 3, 16, 1, 19, 10, 8, 11, 17, 17, 11, 6, 2, 1, 6, 18, 20, 8, 20, 20, 9, 10, 5, 8, 9, 3, 2, 13, 25, 14, 12, 13, 8, 20, 13, 2, 3, 10, 17, 21, 18, 9, 8, 14, 15, 8, 6, 3, 16, 14, 25, 8, 7, 5, 18, 6, 1, 10, 20, 13, 9, 8, 9, 21, 13, 9, 13, 13, 18, 2, 12, 13, 15, 23, 15, 25, 12, 4, 6, 12, 19, 11, 7, 3, 4, 12, 3, 12, 17, 12, 18, 17, 1, 16, 17, 7, 13, 3, 2, 10, 4, 3, 3, 20, 8, 2, 16, 12, 24, 12, 14, 6, 1, 12, 18, 4, 15, 6, 14, 1, 14, 10, 12, 20, 3, 3, 15, 15, 20, 3, 2, 9, 20, 11, 3, 1, 12, 2, 14, 6, 6, 9, 14, 27, 22, 20, 8, 19, 12, 13, 20, 2, 20, 8, 16, 2, 9, 19, 1, 4, 9, 20, 6, 15, 12, 13, 6, 13, 20, 1, 12, 23, 3, 18, 26, 5, 13, 19, 16, 23, 24, 10, 26, 6, 1, 19, 16, 20, 14, 8, 7, 5, 14, 19, 24, 16, 11, 2, 16, 10, 9, 7, 12, 16, 23, 13, 8, 12, 9, 7, 11, 14, 20, 2, 16, 15]\n",
      "Timestamps: 798 [datetime.datetime(2019, 2, 9, 16, 32), datetime.datetime(2019, 2, 9, 16, 32), datetime.datetime(2019, 2, 9, 16, 32), datetime.datetime(2019, 2, 9, 17, 9), datetime.datetime(2019, 2, 9, 17, 15), datetime.datetime(2019, 2, 9, 17, 15), datetime.datetime(2019, 2, 9, 17, 15), datetime.datetime(2019, 2, 9, 17, 15), datetime.datetime(2019, 2, 9, 17, 38), datetime.datetime(2019, 2, 9, 17, 43), datetime.datetime(2019, 2, 9, 17, 46), datetime.datetime(2019, 2, 9, 17, 51), datetime.datetime(2019, 2, 9, 17, 54), datetime.datetime(2019, 2, 9, 18, 0), datetime.datetime(2019, 2, 9, 18, 0), datetime.datetime(2019, 2, 9, 18, 0), datetime.datetime(2019, 2, 9, 18, 0), datetime.datetime(2019, 2, 9, 18, 1), datetime.datetime(2019, 2, 9, 18, 1), datetime.datetime(2019, 2, 9, 18, 2), datetime.datetime(2019, 2, 9, 18, 2), datetime.datetime(2019, 2, 9, 18, 2), datetime.datetime(2019, 2, 9, 18, 5), datetime.datetime(2019, 2, 9, 18, 5), datetime.datetime(2019, 2, 9, 18, 5), datetime.datetime(2019, 2, 9, 18, 9), datetime.datetime(2019, 2, 9, 18, 11), datetime.datetime(2019, 2, 9, 18, 11), datetime.datetime(2019, 2, 9, 18, 11), datetime.datetime(2019, 2, 9, 18, 11), datetime.datetime(2019, 2, 9, 18, 11), datetime.datetime(2019, 2, 9, 18, 14), datetime.datetime(2019, 2, 9, 18, 14), datetime.datetime(2019, 2, 9, 18, 14), datetime.datetime(2019, 2, 9, 18, 18), datetime.datetime(2019, 2, 9, 18, 18), datetime.datetime(2019, 2, 9, 18, 20), datetime.datetime(2019, 2, 9, 18, 20), datetime.datetime(2019, 2, 9, 18, 20), datetime.datetime(2019, 2, 9, 18, 20), datetime.datetime(2019, 2, 9, 18, 20), datetime.datetime(2019, 2, 9, 18, 26), datetime.datetime(2019, 2, 9, 18, 28), datetime.datetime(2019, 2, 9, 18, 30), datetime.datetime(2019, 2, 9, 18, 30), datetime.datetime(2019, 2, 9, 18, 32), datetime.datetime(2019, 2, 9, 18, 38), datetime.datetime(2019, 2, 9, 18, 39), datetime.datetime(2019, 2, 9, 18, 41), datetime.datetime(2019, 2, 9, 18, 41), datetime.datetime(2019, 2, 9, 18, 44), datetime.datetime(2019, 2, 9, 18, 45), datetime.datetime(2019, 2, 9, 18, 45), datetime.datetime(2019, 2, 9, 18, 47), datetime.datetime(2019, 2, 9, 18, 49), datetime.datetime(2019, 2, 9, 18, 50), datetime.datetime(2019, 2, 9, 18, 51), datetime.datetime(2019, 2, 9, 18, 54), datetime.datetime(2019, 2, 9, 18, 55), datetime.datetime(2019, 2, 9, 18, 55), datetime.datetime(2019, 2, 9, 18, 57), datetime.datetime(2019, 2, 9, 19, 0), datetime.datetime(2019, 2, 9, 19, 0), datetime.datetime(2019, 2, 9, 19, 1), datetime.datetime(2019, 2, 9, 19, 1), datetime.datetime(2019, 2, 9, 19, 1), datetime.datetime(2019, 2, 9, 19, 4), datetime.datetime(2019, 2, 9, 19, 6), datetime.datetime(2019, 2, 9, 19, 8), datetime.datetime(2019, 2, 9, 19, 13), datetime.datetime(2019, 2, 9, 19, 13), datetime.datetime(2019, 2, 9, 19, 14), datetime.datetime(2019, 2, 9, 19, 14), datetime.datetime(2019, 2, 9, 19, 15), datetime.datetime(2019, 2, 9, 19, 15), datetime.datetime(2019, 2, 9, 19, 15), datetime.datetime(2019, 2, 9, 19, 15), datetime.datetime(2019, 2, 9, 19, 15), datetime.datetime(2019, 2, 9, 19, 16), datetime.datetime(2019, 2, 9, 19, 17), datetime.datetime(2019, 2, 9, 19, 17), datetime.datetime(2019, 2, 9, 19, 17), datetime.datetime(2019, 2, 9, 19, 17), datetime.datetime(2019, 2, 9, 19, 17), datetime.datetime(2019, 2, 9, 19, 17), datetime.datetime(2019, 2, 9, 19, 20), datetime.datetime(2019, 2, 9, 19, 20), datetime.datetime(2019, 2, 9, 19, 20), datetime.datetime(2019, 2, 9, 19, 20), datetime.datetime(2019, 2, 9, 19, 20), datetime.datetime(2019, 2, 9, 19, 26), datetime.datetime(2019, 2, 9, 19, 26), datetime.datetime(2019, 2, 9, 19, 28), datetime.datetime(2019, 2, 9, 19, 39), datetime.datetime(2019, 2, 9, 19, 39), datetime.datetime(2019, 2, 9, 19, 39), datetime.datetime(2019, 2, 9, 19, 42), datetime.datetime(2019, 2, 9, 19, 42), datetime.datetime(2019, 2, 9, 19, 42), datetime.datetime(2019, 2, 9, 19, 50), datetime.datetime(2019, 2, 9, 19, 50), datetime.datetime(2019, 2, 9, 19, 50), datetime.datetime(2019, 2, 9, 19, 51), datetime.datetime(2019, 2, 9, 19, 51), datetime.datetime(2019, 2, 9, 19, 51), datetime.datetime(2019, 2, 9, 19, 51), datetime.datetime(2019, 2, 9, 20, 31), datetime.datetime(2019, 2, 9, 20, 31), datetime.datetime(2019, 2, 9, 20, 55), datetime.datetime(2019, 2, 9, 20, 55), datetime.datetime(2019, 2, 9, 21, 0), datetime.datetime(2019, 2, 9, 21, 0), datetime.datetime(2019, 2, 9, 21, 0), datetime.datetime(2019, 2, 9, 21, 0), datetime.datetime(2019, 2, 9, 21, 0), datetime.datetime(2019, 2, 9, 21, 0), datetime.datetime(2019, 2, 9, 22, 6), datetime.datetime(2019, 2, 9, 22, 19), datetime.datetime(2019, 2, 9, 22, 19), datetime.datetime(2019, 2, 9, 22, 19), datetime.datetime(2019, 2, 9, 22, 19), datetime.datetime(2019, 2, 9, 22, 19), datetime.datetime(2019, 2, 9, 22, 19), datetime.datetime(2019, 3, 3, 22, 14), datetime.datetime(2019, 3, 3, 22, 14), datetime.datetime(2019, 3, 3, 22, 16), datetime.datetime(2019, 3, 3, 22, 16), datetime.datetime(2019, 3, 3, 22, 16), datetime.datetime(2019, 3, 3, 22, 20), datetime.datetime(2019, 3, 3, 22, 20), datetime.datetime(2019, 3, 3, 22, 23), datetime.datetime(2019, 3, 3, 22, 23), datetime.datetime(2019, 3, 3, 22, 23), datetime.datetime(2019, 3, 3, 22, 23), datetime.datetime(2019, 3, 3, 22, 23), datetime.datetime(2019, 3, 3, 22, 25), datetime.datetime(2019, 3, 3, 22, 25), datetime.datetime(2019, 3, 3, 22, 25), datetime.datetime(2019, 3, 3, 22, 28), datetime.datetime(2019, 3, 3, 22, 30), datetime.datetime(2019, 3, 3, 22, 30), datetime.datetime(2019, 3, 3, 22, 36), datetime.datetime(2019, 3, 3, 22, 36), datetime.datetime(2019, 3, 3, 22, 42), datetime.datetime(2019, 3, 3, 22, 43), datetime.datetime(2019, 3, 3, 22, 43), datetime.datetime(2019, 3, 3, 22, 51), datetime.datetime(2019, 3, 3, 22, 51), datetime.datetime(2019, 3, 3, 22, 51), datetime.datetime(2019, 3, 3, 22, 56), datetime.datetime(2019, 3, 3, 22, 58), datetime.datetime(2019, 3, 3, 22, 59), datetime.datetime(2019, 3, 3, 23, 1), datetime.datetime(2019, 3, 3, 23, 1), datetime.datetime(2019, 3, 3, 23, 1), datetime.datetime(2019, 3, 3, 23, 4), datetime.datetime(2019, 3, 3, 23, 4), datetime.datetime(2019, 3, 3, 23, 5), datetime.datetime(2019, 3, 3, 23, 5), datetime.datetime(2019, 3, 3, 23, 13), datetime.datetime(2019, 3, 3, 23, 13), datetime.datetime(2019, 3, 3, 23, 58), datetime.datetime(2019, 3, 3, 23, 59), datetime.datetime(2019, 3, 4, 0, 1), datetime.datetime(2019, 3, 4, 0, 1), datetime.datetime(2019, 3, 4, 0, 4), datetime.datetime(2019, 3, 4, 0, 4), datetime.datetime(2019, 3, 4, 0, 4), datetime.datetime(2019, 3, 4, 0, 4), datetime.datetime(2019, 3, 4, 0, 8), datetime.datetime(2019, 3, 4, 0, 8), datetime.datetime(2019, 3, 4, 0, 8), datetime.datetime(2019, 3, 4, 0, 8), datetime.datetime(2019, 3, 4, 0, 8), datetime.datetime(2019, 3, 4, 0, 11), datetime.datetime(2019, 3, 4, 0, 12), datetime.datetime(2019, 3, 4, 0, 12), datetime.datetime(2019, 3, 4, 0, 12), datetime.datetime(2019, 3, 4, 0, 12), datetime.datetime(2019, 3, 4, 0, 12), datetime.datetime(2019, 3, 4, 0, 12), datetime.datetime(2019, 3, 4, 0, 12), datetime.datetime(2019, 3, 4, 0, 17), datetime.datetime(2019, 3, 4, 0, 17), datetime.datetime(2019, 3, 4, 0, 18), datetime.datetime(2019, 3, 4, 0, 20), datetime.datetime(2019, 3, 4, 0, 21), datetime.datetime(2019, 3, 4, 0, 22), datetime.datetime(2019, 3, 4, 0, 22), datetime.datetime(2019, 3, 4, 0, 22), datetime.datetime(2019, 3, 4, 0, 23), datetime.datetime(2019, 3, 4, 0, 23), datetime.datetime(2019, 3, 4, 0, 31), datetime.datetime(2019, 3, 4, 0, 35), datetime.datetime(2019, 3, 4, 0, 37), datetime.datetime(2019, 3, 4, 0, 38), datetime.datetime(2019, 3, 4, 0, 45), datetime.datetime(2019, 3, 4, 0, 45), datetime.datetime(2019, 3, 4, 0, 46), datetime.datetime(2019, 3, 4, 0, 47), datetime.datetime(2019, 3, 4, 0, 47), datetime.datetime(2019, 3, 4, 0, 47), datetime.datetime(2019, 3, 4, 0, 48), datetime.datetime(2019, 3, 4, 0, 51), datetime.datetime(2019, 3, 4, 0, 52), datetime.datetime(2019, 3, 4, 0, 57), datetime.datetime(2019, 3, 4, 0, 57), datetime.datetime(2019, 3, 4, 0, 57), datetime.datetime(2019, 3, 4, 1, 0), datetime.datetime(2019, 3, 4, 1, 7), datetime.datetime(2019, 3, 4, 1, 7), datetime.datetime(2019, 3, 4, 1, 10), datetime.datetime(2019, 3, 4, 1, 10), datetime.datetime(2019, 3, 4, 1, 10), datetime.datetime(2019, 3, 4, 1, 10), datetime.datetime(2019, 3, 4, 1, 14), datetime.datetime(2019, 3, 4, 1, 15), datetime.datetime(2019, 3, 4, 1, 17), datetime.datetime(2019, 3, 4, 1, 24), datetime.datetime(2019, 3, 4, 1, 24), datetime.datetime(2019, 3, 4, 1, 38), datetime.datetime(2019, 3, 4, 1, 54), datetime.datetime(2019, 3, 4, 1, 54), datetime.datetime(2019, 3, 4, 1, 54), datetime.datetime(2019, 3, 4, 1, 55), datetime.datetime(2019, 3, 4, 1, 55), datetime.datetime(2019, 3, 4, 1, 55), datetime.datetime(2019, 3, 4, 1, 55), datetime.datetime(2019, 3, 4, 1, 58), datetime.datetime(2019, 3, 4, 2, 1), datetime.datetime(2019, 3, 4, 2, 1), datetime.datetime(2019, 3, 4, 2, 4), datetime.datetime(2019, 3, 4, 2, 5), datetime.datetime(2019, 3, 4, 2, 5), datetime.datetime(2019, 3, 4, 2, 8), datetime.datetime(2019, 3, 4, 2, 8), datetime.datetime(2019, 3, 4, 2, 13), datetime.datetime(2019, 3, 4, 2, 19), datetime.datetime(2019, 3, 4, 2, 19), datetime.datetime(2019, 3, 4, 2, 21), datetime.datetime(2019, 3, 4, 2, 23), datetime.datetime(2019, 3, 4, 2, 25), datetime.datetime(2019, 3, 4, 2, 25), datetime.datetime(2019, 3, 4, 2, 25), datetime.datetime(2019, 3, 4, 2, 29), datetime.datetime(2019, 3, 4, 2, 29), datetime.datetime(2019, 3, 4, 2, 29), datetime.datetime(2019, 3, 4, 2, 29), datetime.datetime(2019, 5, 22, 18, 29), datetime.datetime(2019, 5, 22, 18, 30), datetime.datetime(2019, 5, 22, 18, 30), datetime.datetime(2019, 5, 22, 18, 31), datetime.datetime(2019, 5, 22, 18, 31), datetime.datetime(2019, 5, 22, 18, 31), datetime.datetime(2019, 5, 22, 19, 4), datetime.datetime(2019, 5, 22, 19, 4), datetime.datetime(2019, 5, 22, 19, 9), datetime.datetime(2019, 5, 22, 19, 9), datetime.datetime(2019, 5, 22, 19, 14), datetime.datetime(2019, 5, 22, 19, 29), datetime.datetime(2019, 5, 22, 20, 4), datetime.datetime(2019, 5, 22, 20, 54), datetime.datetime(2019, 5, 22, 20, 54), datetime.datetime(2019, 5, 22, 21, 37), datetime.datetime(2019, 5, 22, 21, 38), datetime.datetime(2019, 5, 22, 21, 38), datetime.datetime(2019, 5, 22, 21, 57), datetime.datetime(2019, 5, 22, 21, 57), datetime.datetime(2019, 5, 22, 22, 2), datetime.datetime(2019, 5, 22, 22, 2), datetime.datetime(2019, 5, 22, 22, 23), datetime.datetime(2019, 5, 22, 22, 23), datetime.datetime(2019, 5, 22, 22, 23), datetime.datetime(2019, 12, 20, 17, 23), datetime.datetime(2019, 12, 20, 17, 23), datetime.datetime(2019, 12, 20, 17, 23), datetime.datetime(2019, 12, 20, 17, 23), datetime.datetime(2019, 12, 20, 17, 28), datetime.datetime(2019, 12, 20, 17, 42), datetime.datetime(2019, 12, 20, 17, 42), datetime.datetime(2019, 12, 20, 17, 51), datetime.datetime(2019, 12, 20, 18, 1), datetime.datetime(2019, 12, 20, 18, 2), datetime.datetime(2019, 12, 20, 18, 2), datetime.datetime(2019, 12, 20, 18, 4), datetime.datetime(2019, 12, 20, 18, 5), datetime.datetime(2019, 12, 20, 18, 5), datetime.datetime(2019, 12, 20, 18, 5), datetime.datetime(2019, 12, 20, 18, 9), datetime.datetime(2019, 12, 20, 18, 11), datetime.datetime(2019, 12, 20, 18, 11), datetime.datetime(2019, 12, 20, 18, 12), datetime.datetime(2019, 12, 20, 18, 13), datetime.datetime(2019, 12, 20, 18, 16), datetime.datetime(2019, 12, 20, 18, 18), datetime.datetime(2019, 12, 20, 18, 19), datetime.datetime(2019, 12, 20, 18, 21), datetime.datetime(2019, 12, 20, 18, 22), datetime.datetime(2019, 12, 20, 18, 22), datetime.datetime(2019, 12, 20, 18, 24), datetime.datetime(2019, 12, 20, 18, 26), datetime.datetime(2019, 12, 20, 18, 26), datetime.datetime(2019, 12, 20, 18, 28), datetime.datetime(2019, 12, 20, 18, 28), datetime.datetime(2019, 12, 20, 18, 28), datetime.datetime(2019, 12, 20, 18, 35), datetime.datetime(2019, 12, 20, 18, 35), datetime.datetime(2019, 12, 20, 18, 35), datetime.datetime(2019, 12, 20, 18, 39), datetime.datetime(2019, 12, 20, 18, 39), datetime.datetime(2019, 12, 20, 18, 40), datetime.datetime(2019, 12, 20, 18, 42), datetime.datetime(2019, 12, 20, 18, 42), datetime.datetime(2019, 12, 20, 18, 43), datetime.datetime(2019, 12, 20, 18, 44), datetime.datetime(2019, 12, 20, 18, 48), datetime.datetime(2019, 12, 20, 18, 48), datetime.datetime(2019, 12, 20, 18, 48), datetime.datetime(2019, 12, 20, 18, 51), datetime.datetime(2019, 12, 20, 18, 51), datetime.datetime(2019, 12, 20, 18, 52), datetime.datetime(2019, 12, 20, 18, 53), datetime.datetime(2019, 12, 20, 18, 54), datetime.datetime(2019, 12, 20, 18, 55), datetime.datetime(2019, 12, 20, 18, 55), datetime.datetime(2019, 12, 20, 18, 55), datetime.datetime(2019, 12, 20, 18, 57), datetime.datetime(2019, 12, 20, 18, 57), datetime.datetime(2019, 12, 20, 18, 57), datetime.datetime(2019, 12, 20, 18, 59), datetime.datetime(2019, 12, 20, 18, 59), datetime.datetime(2019, 12, 20, 19, 3), datetime.datetime(2019, 12, 20, 19, 4), datetime.datetime(2019, 12, 20, 19, 5), datetime.datetime(2019, 12, 20, 19, 5), datetime.datetime(2019, 12, 20, 19, 8), datetime.datetime(2019, 12, 20, 19, 8), datetime.datetime(2019, 12, 20, 19, 8), datetime.datetime(2019, 12, 20, 19, 14), datetime.datetime(2019, 12, 20, 19, 14), datetime.datetime(2019, 12, 20, 19, 14), datetime.datetime(2019, 12, 20, 19, 14), datetime.datetime(2019, 12, 20, 19, 14), datetime.datetime(2019, 12, 20, 19, 14), datetime.datetime(2019, 12, 20, 19, 24), datetime.datetime(2019, 12, 20, 19, 24), datetime.datetime(2019, 12, 20, 19, 24), datetime.datetime(2019, 12, 20, 19, 26), datetime.datetime(2019, 12, 20, 19, 26), datetime.datetime(2019, 12, 20, 19, 26), datetime.datetime(2019, 12, 20, 19, 28), datetime.datetime(2019, 12, 20, 19, 28), datetime.datetime(2019, 12, 20, 19, 28), datetime.datetime(2019, 12, 20, 19, 37), datetime.datetime(2019, 12, 20, 19, 43), datetime.datetime(2019, 12, 20, 19, 47), datetime.datetime(2019, 12, 20, 20, 57), datetime.datetime(2019, 12, 20, 20, 57), datetime.datetime(2019, 12, 20, 21, 17), datetime.datetime(2020, 7, 24, 1, 15), datetime.datetime(2020, 7, 24, 1, 17), datetime.datetime(2020, 7, 24, 1, 19), datetime.datetime(2020, 7, 24, 1, 45), datetime.datetime(2020, 7, 24, 1, 45), datetime.datetime(2020, 7, 24, 1, 45), datetime.datetime(2020, 7, 24, 1, 45), datetime.datetime(2020, 7, 25, 20, 46), datetime.datetime(2020, 7, 25, 20, 46), datetime.datetime(2020, 7, 25, 20, 46), datetime.datetime(2020, 7, 25, 20, 46), datetime.datetime(2020, 7, 25, 20, 46), datetime.datetime(2020, 7, 25, 21, 13), datetime.datetime(2020, 7, 25, 21, 13), datetime.datetime(2020, 7, 25, 21, 13), datetime.datetime(2020, 7, 25, 21, 13), datetime.datetime(2020, 7, 25, 21, 13), datetime.datetime(2020, 7, 25, 21, 13), datetime.datetime(2020, 7, 25, 21, 28), datetime.datetime(2020, 7, 25, 21, 28), datetime.datetime(2020, 7, 25, 21, 28), datetime.datetime(2020, 7, 25, 21, 28), datetime.datetime(2020, 7, 25, 21, 28), datetime.datetime(2020, 7, 25, 21, 28), datetime.datetime(2020, 7, 25, 21, 59), datetime.datetime(2020, 7, 25, 21, 59), datetime.datetime(2020, 7, 25, 21, 59), datetime.datetime(2020, 7, 25, 21, 59), datetime.datetime(2020, 7, 25, 21, 59), datetime.datetime(2020, 7, 25, 22, 53), datetime.datetime(2020, 7, 25, 22, 53), datetime.datetime(2020, 7, 25, 22, 53), datetime.datetime(2020, 7, 25, 22, 53), datetime.datetime(2020, 7, 25, 22, 53), datetime.datetime(2020, 7, 25, 22, 53), datetime.datetime(2020, 7, 25, 22, 53), datetime.datetime(2020, 7, 26, 0, 7), datetime.datetime(2020, 7, 26, 0, 7), datetime.datetime(2020, 7, 26, 0, 7), datetime.datetime(2020, 7, 26, 0, 14), datetime.datetime(2020, 7, 26, 0, 14), datetime.datetime(2020, 7, 26, 0, 14), datetime.datetime(2020, 8, 20, 20, 18), datetime.datetime(2020, 8, 20, 20, 18), datetime.datetime(2020, 8, 20, 20, 38), datetime.datetime(2020, 8, 20, 21, 3), datetime.datetime(2020, 8, 20, 21, 15), datetime.datetime(2020, 8, 20, 21, 15), datetime.datetime(2020, 8, 20, 21, 32), datetime.datetime(2020, 8, 20, 21, 56), datetime.datetime(2020, 8, 20, 21, 56), datetime.datetime(2020, 8, 20, 21, 57), datetime.datetime(2020, 8, 20, 21, 57), datetime.datetime(2020, 8, 20, 21, 57), datetime.datetime(2020, 8, 20, 22, 5), datetime.datetime(2020, 8, 20, 22, 6), datetime.datetime(2020, 8, 20, 22, 13), datetime.datetime(2020, 8, 20, 22, 42), datetime.datetime(2020, 8, 20, 22, 42), datetime.datetime(2020, 8, 20, 22, 42), datetime.datetime(2020, 8, 20, 23, 0), datetime.datetime(2020, 8, 20, 23, 0), datetime.datetime(2020, 8, 20, 23, 0), datetime.datetime(2020, 8, 20, 23, 15), datetime.datetime(2020, 8, 20, 23, 15), datetime.datetime(2020, 8, 20, 23, 18), datetime.datetime(2020, 8, 20, 23, 18), datetime.datetime(2020, 8, 20, 23, 18), datetime.datetime(2020, 8, 20, 23, 20), datetime.datetime(2020, 8, 20, 23, 20), datetime.datetime(2020, 8, 20, 23, 20), datetime.datetime(2020, 8, 20, 23, 20), datetime.datetime(2020, 8, 20, 23, 20), datetime.datetime(2020, 8, 20, 23, 35), datetime.datetime(2020, 8, 20, 23, 36), datetime.datetime(2020, 8, 20, 23, 36), datetime.datetime(2020, 8, 20, 23, 36), datetime.datetime(2020, 8, 20, 23, 36), datetime.datetime(2020, 8, 20, 23, 47), datetime.datetime(2020, 8, 20, 23, 49), datetime.datetime(2020, 8, 20, 23, 57), datetime.datetime(2020, 8, 20, 23, 57), datetime.datetime(2020, 8, 20, 23, 57), datetime.datetime(2020, 8, 21, 0, 8), datetime.datetime(2020, 8, 21, 0, 8), datetime.datetime(2020, 8, 21, 0, 9), datetime.datetime(2020, 8, 21, 0, 10), datetime.datetime(2020, 8, 21, 0, 10), datetime.datetime(2020, 8, 21, 0, 10), datetime.datetime(2020, 8, 21, 0, 10), datetime.datetime(2020, 8, 21, 0, 14), datetime.datetime(2020, 8, 21, 0, 14), datetime.datetime(2020, 8, 21, 0, 14), datetime.datetime(2020, 8, 21, 0, 17), datetime.datetime(2020, 8, 21, 0, 18), datetime.datetime(2020, 8, 21, 0, 18), datetime.datetime(2020, 8, 21, 0, 18), datetime.datetime(2020, 8, 21, 0, 18), datetime.datetime(2020, 8, 21, 0, 43), datetime.datetime(2020, 8, 21, 0, 43), datetime.datetime(2020, 8, 21, 0, 48), datetime.datetime(2020, 8, 21, 0, 52), datetime.datetime(2021, 4, 3, 20, 47), datetime.datetime(2021, 4, 3, 20, 47), datetime.datetime(2021, 4, 3, 20, 53), datetime.datetime(2021, 4, 3, 20, 53), datetime.datetime(2021, 4, 3, 21, 17), datetime.datetime(2021, 4, 3, 21, 17), datetime.datetime(2021, 4, 3, 21, 17), datetime.datetime(2021, 4, 3, 21, 17), datetime.datetime(2021, 4, 3, 21, 17), datetime.datetime(2021, 4, 3, 21, 59), datetime.datetime(2021, 4, 3, 21, 59), datetime.datetime(2021, 4, 3, 22, 0), datetime.datetime(2021, 4, 3, 22, 0), datetime.datetime(2021, 4, 3, 22, 0), datetime.datetime(2021, 4, 3, 22, 1), datetime.datetime(2021, 4, 3, 22, 1), datetime.datetime(2021, 4, 3, 22, 1), datetime.datetime(2021, 4, 3, 22, 1), datetime.datetime(2021, 4, 3, 22, 1), datetime.datetime(2021, 4, 3, 22, 1), datetime.datetime(2021, 4, 3, 22, 1), datetime.datetime(2021, 4, 3, 22, 2), datetime.datetime(2021, 4, 3, 22, 2), datetime.datetime(2021, 4, 3, 22, 7), datetime.datetime(2021, 4, 3, 22, 7), datetime.datetime(2021, 4, 3, 22, 7), datetime.datetime(2021, 4, 3, 22, 7), datetime.datetime(2021, 4, 3, 22, 7), datetime.datetime(2021, 4, 3, 22, 7), datetime.datetime(2021, 4, 3, 23, 41), datetime.datetime(2021, 4, 3, 23, 45), datetime.datetime(2021, 4, 3, 23, 48), datetime.datetime(2021, 4, 3, 23, 48), datetime.datetime(2021, 4, 3, 23, 49), datetime.datetime(2021, 4, 3, 23, 52), datetime.datetime(2021, 4, 3, 23, 53), datetime.datetime(2021, 4, 3, 23, 53), datetime.datetime(2021, 4, 3, 23, 53), datetime.datetime(2021, 4, 3, 23, 55), datetime.datetime(2021, 4, 3, 23, 55), datetime.datetime(2021, 4, 3, 23, 55), datetime.datetime(2021, 4, 4, 0, 7), datetime.datetime(2021, 4, 4, 0, 7), datetime.datetime(2021, 4, 4, 0, 7), datetime.datetime(2021, 4, 4, 0, 7), datetime.datetime(2021, 4, 4, 0, 7), datetime.datetime(2021, 4, 4, 0, 20), datetime.datetime(2021, 4, 4, 0, 21), datetime.datetime(2021, 4, 4, 0, 21), datetime.datetime(2021, 4, 4, 0, 22), datetime.datetime(2021, 4, 4, 0, 25), datetime.datetime(2021, 4, 4, 0, 27), datetime.datetime(2021, 4, 4, 0, 27), datetime.datetime(2021, 4, 4, 0, 30), datetime.datetime(2021, 4, 4, 0, 37), datetime.datetime(2021, 4, 4, 0, 39), datetime.datetime(2021, 4, 4, 0, 40), datetime.datetime(2021, 4, 4, 0, 40), datetime.datetime(2021, 4, 4, 0, 40), datetime.datetime(2021, 4, 4, 0, 40), datetime.datetime(2021, 4, 4, 0, 40), datetime.datetime(2021, 4, 4, 0, 50), datetime.datetime(2021, 4, 4, 0, 53), datetime.datetime(2021, 4, 4, 0, 56), datetime.datetime(2021, 4, 4, 0, 58), datetime.datetime(2021, 4, 4, 1, 12), datetime.datetime(2021, 4, 4, 1, 12), datetime.datetime(2021, 4, 4, 1, 12), datetime.datetime(2021, 4, 4, 1, 12), datetime.datetime(2021, 4, 4, 1, 12), datetime.datetime(2021, 4, 4, 1, 13), datetime.datetime(2021, 4, 4, 1, 33), datetime.datetime(2021, 4, 4, 1, 33), datetime.datetime(2021, 4, 4, 1, 33), datetime.datetime(2021, 4, 4, 1, 33), datetime.datetime(2021, 4, 4, 1, 33), datetime.datetime(2021, 4, 4, 1, 33), datetime.datetime(2021, 4, 4, 1, 33), datetime.datetime(2021, 4, 30, 23, 19), datetime.datetime(2021, 4, 30, 23, 28), datetime.datetime(2021, 4, 30, 23, 34), datetime.datetime(2021, 4, 30, 23, 34), datetime.datetime(2021, 4, 30, 23, 34), datetime.datetime(2021, 4, 30, 23, 34), datetime.datetime(2021, 5, 1, 0, 0), datetime.datetime(2021, 5, 1, 0, 0), datetime.datetime(2021, 5, 1, 0, 0), datetime.datetime(2021, 5, 1, 0, 17), datetime.datetime(2021, 5, 1, 0, 17), datetime.datetime(2021, 5, 1, 0, 17), datetime.datetime(2021, 5, 1, 0, 51), datetime.datetime(2021, 5, 1, 0, 51), datetime.datetime(2021, 5, 1, 0, 51), datetime.datetime(2021, 5, 1, 0, 58), datetime.datetime(2021, 5, 1, 0, 58), datetime.datetime(2021, 5, 1, 0, 58), datetime.datetime(2021, 5, 1, 1, 0), datetime.datetime(2021, 5, 1, 1, 0), datetime.datetime(2021, 5, 1, 1, 0), datetime.datetime(2021, 5, 1, 1, 0), datetime.datetime(2021, 5, 1, 1, 47), datetime.datetime(2021, 5, 1, 1, 47), datetime.datetime(2021, 5, 1, 1, 47), datetime.datetime(2021, 5, 1, 1, 47), datetime.datetime(2021, 5, 1, 1, 47), datetime.datetime(2021, 5, 1, 1, 47), datetime.datetime(2021, 5, 8, 21, 22), datetime.datetime(2021, 5, 8, 21, 23), datetime.datetime(2021, 5, 8, 22, 1), datetime.datetime(2021, 5, 8, 22, 1), datetime.datetime(2021, 5, 8, 22, 25), datetime.datetime(2021, 5, 8, 22, 25), datetime.datetime(2021, 5, 8, 22, 41), datetime.datetime(2021, 5, 8, 22, 41), datetime.datetime(2021, 5, 8, 22, 49), datetime.datetime(2021, 5, 8, 23, 4), datetime.datetime(2021, 5, 8, 23, 6), datetime.datetime(2021, 5, 8, 23, 10), datetime.datetime(2021, 5, 8, 23, 14), datetime.datetime(2021, 5, 8, 23, 14), datetime.datetime(2021, 5, 8, 23, 14), datetime.datetime(2021, 5, 8, 23, 40), datetime.datetime(2021, 5, 8, 23, 40), datetime.datetime(2021, 5, 8, 23, 56), datetime.datetime(2021, 5, 8, 23, 56), datetime.datetime(2021, 5, 8, 23, 56), datetime.datetime(2021, 5, 8, 23, 59), datetime.datetime(2021, 5, 8, 23, 59), datetime.datetime(2021, 5, 8, 23, 59), datetime.datetime(2021, 5, 8, 23, 59), datetime.datetime(2021, 5, 8, 23, 59), datetime.datetime(2021, 5, 9, 0, 0), datetime.datetime(2021, 5, 9, 0, 4), datetime.datetime(2021, 5, 9, 0, 5), datetime.datetime(2021, 5, 9, 0, 13), datetime.datetime(2021, 5, 9, 0, 16), datetime.datetime(2021, 5, 9, 0, 16), datetime.datetime(2021, 5, 9, 0, 24), datetime.datetime(2021, 5, 9, 0, 27), datetime.datetime(2021, 5, 9, 0, 27), datetime.datetime(2021, 5, 9, 0, 27), datetime.datetime(2021, 5, 9, 0, 27), datetime.datetime(2021, 5, 9, 0, 50), datetime.datetime(2021, 5, 9, 0, 50), datetime.datetime(2021, 5, 9, 0, 50), datetime.datetime(2021, 7, 30, 22, 3), datetime.datetime(2021, 7, 30, 22, 3), datetime.datetime(2021, 7, 30, 22, 3), datetime.datetime(2021, 7, 30, 22, 3), datetime.datetime(2021, 7, 30, 23, 31), datetime.datetime(2021, 7, 30, 23, 31), datetime.datetime(2021, 7, 30, 23, 31), datetime.datetime(2021, 7, 30, 23, 41), datetime.datetime(2021, 7, 30, 23, 46), datetime.datetime(2021, 7, 30, 23, 46), datetime.datetime(2021, 7, 30, 23, 47), datetime.datetime(2021, 7, 30, 23, 47), datetime.datetime(2021, 7, 30, 23, 56), datetime.datetime(2021, 7, 30, 23, 56), datetime.datetime(2021, 7, 30, 23, 56), datetime.datetime(2021, 7, 31, 0, 25), datetime.datetime(2021, 7, 31, 0, 25), datetime.datetime(2021, 7, 31, 0, 31), datetime.datetime(2021, 7, 31, 0, 31), datetime.datetime(2021, 7, 31, 0, 31), datetime.datetime(2021, 7, 31, 0, 31), datetime.datetime(2021, 7, 31, 0, 31), datetime.datetime(2021, 7, 31, 0, 36), datetime.datetime(2021, 7, 31, 0, 36), datetime.datetime(2021, 7, 31, 0, 37), datetime.datetime(2021, 7, 31, 0, 37), datetime.datetime(2021, 7, 31, 0, 37), datetime.datetime(2021, 7, 31, 0, 45), datetime.datetime(2021, 7, 31, 0, 48), datetime.datetime(2021, 7, 31, 0, 48), datetime.datetime(2021, 7, 31, 0, 48), datetime.datetime(2021, 7, 31, 0, 52), datetime.datetime(2021, 7, 31, 0, 53), datetime.datetime(2021, 7, 31, 0, 55), datetime.datetime(2021, 7, 31, 0, 55), datetime.datetime(2021, 7, 31, 0, 55), datetime.datetime(2021, 7, 31, 1, 50), datetime.datetime(2021, 7, 31, 1, 50), datetime.datetime(2021, 7, 31, 1, 50), datetime.datetime(2021, 8, 6, 22, 46), datetime.datetime(2021, 8, 6, 22, 53), datetime.datetime(2021, 8, 6, 22, 53), datetime.datetime(2021, 8, 6, 22, 53), datetime.datetime(2021, 8, 6, 23, 24), datetime.datetime(2021, 8, 6, 23, 24), datetime.datetime(2021, 8, 6, 23, 52), datetime.datetime(2021, 8, 6, 23, 52), datetime.datetime(2021, 8, 6, 23, 52), datetime.datetime(2021, 8, 13, 21, 29), datetime.datetime(2021, 8, 13, 21, 29), datetime.datetime(2021, 8, 13, 21, 49), datetime.datetime(2021, 8, 13, 22, 4), datetime.datetime(2021, 8, 13, 22, 4), datetime.datetime(2021, 8, 13, 22, 12), datetime.datetime(2021, 8, 13, 22, 13), datetime.datetime(2021, 8, 13, 22, 13), datetime.datetime(2021, 8, 13, 22, 17), datetime.datetime(2021, 8, 13, 22, 17), datetime.datetime(2021, 8, 13, 22, 18), datetime.datetime(2021, 8, 13, 22, 18), datetime.datetime(2021, 8, 13, 22, 18), datetime.datetime(2021, 8, 13, 22, 18), datetime.datetime(2021, 8, 13, 22, 18), datetime.datetime(2021, 8, 13, 23, 7), datetime.datetime(2021, 8, 13, 23, 7), datetime.datetime(2021, 8, 13, 23, 7), datetime.datetime(2021, 8, 13, 23, 41), datetime.datetime(2021, 12, 17, 20, 45), datetime.datetime(2021, 12, 17, 21, 3), datetime.datetime(2021, 12, 17, 21, 3), datetime.datetime(2021, 12, 17, 21, 3), datetime.datetime(2021, 12, 17, 21, 3), datetime.datetime(2021, 12, 17, 21, 30), datetime.datetime(2021, 12, 17, 21, 51), datetime.datetime(2021, 12, 17, 21, 51), datetime.datetime(2021, 12, 17, 22, 20), datetime.datetime(2021, 12, 17, 22, 20), datetime.datetime(2021, 12, 17, 22, 48), datetime.datetime(2021, 12, 17, 22, 48), datetime.datetime(2021, 12, 17, 22, 58), datetime.datetime(2021, 12, 17, 22, 58), datetime.datetime(2021, 12, 17, 23, 4), datetime.datetime(2021, 12, 17, 23, 4), datetime.datetime(2021, 12, 17, 23, 12), datetime.datetime(2021, 12, 17, 23, 12), datetime.datetime(2021, 12, 17, 23, 12), datetime.datetime(2021, 12, 17, 23, 21), datetime.datetime(2021, 12, 17, 23, 21), datetime.datetime(2021, 12, 17, 23, 23), datetime.datetime(2021, 12, 17, 23, 24), datetime.datetime(2021, 12, 17, 23, 26), datetime.datetime(2021, 12, 17, 23, 26), datetime.datetime(2021, 12, 17, 23, 26), datetime.datetime(2021, 12, 29, 1, 10), datetime.datetime(2021, 12, 29, 1, 10), datetime.datetime(2021, 12, 29, 1, 10), datetime.datetime(2021, 12, 29, 1, 10), datetime.datetime(2021, 12, 29, 21, 6), datetime.datetime(2021, 12, 29, 21, 24), datetime.datetime(2021, 12, 29, 21, 26), datetime.datetime(2021, 12, 29, 21, 26), datetime.datetime(2021, 12, 29, 21, 28), datetime.datetime(2021, 12, 29, 21, 28), datetime.datetime(2021, 12, 29, 21, 53), datetime.datetime(2021, 12, 29, 21, 54), datetime.datetime(2021, 12, 29, 21, 54), datetime.datetime(2021, 12, 29, 21, 54), datetime.datetime(2021, 12, 29, 22, 3), datetime.datetime(2021, 12, 29, 22, 3), datetime.datetime(2021, 12, 29, 22, 3), datetime.datetime(2021, 12, 29, 22, 21), datetime.datetime(2021, 12, 29, 22, 21), datetime.datetime(2021, 12, 29, 22, 49), datetime.datetime(2021, 12, 29, 22, 51), datetime.datetime(2021, 12, 29, 23, 34), datetime.datetime(2021, 12, 29, 23, 34), datetime.datetime(2021, 12, 29, 23, 34), datetime.datetime(2021, 12, 30, 0, 20), datetime.datetime(2021, 12, 30, 0, 20), datetime.datetime(2021, 12, 30, 0, 20), datetime.datetime(2021, 12, 30, 0, 47), datetime.datetime(2021, 12, 30, 0, 47), datetime.datetime(2021, 12, 30, 0, 47), datetime.datetime(2021, 12, 30, 0, 48), datetime.datetime(2021, 12, 30, 1, 0), datetime.datetime(2021, 12, 30, 1, 18), datetime.datetime(2021, 12, 30, 1, 30), datetime.datetime(2021, 12, 30, 1, 30), datetime.datetime(2021, 12, 30, 1, 34), datetime.datetime(2021, 12, 30, 1, 35), datetime.datetime(2021, 12, 30, 1, 37), datetime.datetime(2021, 12, 30, 1, 38), datetime.datetime(2021, 12, 30, 1, 38), datetime.datetime(2021, 12, 30, 1, 51), datetime.datetime(2021, 12, 30, 1, 51), datetime.datetime(2022, 1, 4, 21, 15), datetime.datetime(2022, 1, 4, 21, 19), datetime.datetime(2022, 1, 4, 21, 20), datetime.datetime(2022, 1, 4, 21, 20), datetime.datetime(2022, 1, 4, 21, 20), datetime.datetime(2022, 1, 4, 21, 22), datetime.datetime(2022, 1, 4, 21, 23), datetime.datetime(2022, 1, 4, 21, 26), datetime.datetime(2022, 1, 4, 21, 29), datetime.datetime(2022, 1, 4, 21, 29), datetime.datetime(2022, 1, 4, 21, 33), datetime.datetime(2022, 1, 4, 21, 33), datetime.datetime(2022, 1, 4, 21, 36), datetime.datetime(2022, 1, 4, 21, 38), datetime.datetime(2022, 1, 4, 21, 38), datetime.datetime(2022, 1, 4, 21, 46), datetime.datetime(2022, 1, 4, 21, 49), datetime.datetime(2022, 1, 4, 21, 49), datetime.datetime(2022, 1, 4, 21, 49), datetime.datetime(2022, 1, 4, 21, 49), datetime.datetime(2022, 1, 4, 21, 49), datetime.datetime(2022, 1, 4, 21, 53), datetime.datetime(2022, 1, 4, 21, 53), datetime.datetime(2022, 1, 4, 21, 53), datetime.datetime(2022, 1, 4, 21, 53), datetime.datetime(2022, 1, 4, 21, 53), datetime.datetime(2022, 1, 4, 21, 53), datetime.datetime(2022, 1, 4, 21, 59), datetime.datetime(2022, 1, 4, 21, 59), datetime.datetime(2022, 1, 4, 21, 59), datetime.datetime(2022, 1, 4, 22, 2), datetime.datetime(2022, 1, 4, 22, 6), datetime.datetime(2022, 1, 4, 22, 6), datetime.datetime(2022, 1, 4, 22, 6), datetime.datetime(2022, 1, 4, 22, 6), datetime.datetime(2022, 1, 4, 22, 6), datetime.datetime(2022, 1, 4, 22, 12), datetime.datetime(2022, 1, 4, 22, 12), datetime.datetime(2022, 1, 4, 22, 17), datetime.datetime(2022, 1, 4, 22, 24), datetime.datetime(2022, 1, 4, 22, 24), datetime.datetime(2022, 1, 4, 22, 24), datetime.datetime(2022, 1, 4, 22, 24), datetime.datetime(2022, 1, 4, 22, 24), datetime.datetime(2022, 1, 4, 22, 24), datetime.datetime(2022, 1, 4, 22, 36), datetime.datetime(2022, 1, 4, 22, 45), datetime.datetime(2022, 1, 4, 22, 56), datetime.datetime(2022, 1, 4, 22, 56), datetime.datetime(2022, 1, 4, 22, 56), datetime.datetime(2022, 1, 4, 22, 56), datetime.datetime(2022, 1, 4, 22, 56), datetime.datetime(2022, 1, 4, 23, 13), datetime.datetime(2022, 1, 4, 23, 13), datetime.datetime(2022, 1, 4, 23, 13), datetime.datetime(2022, 1, 4, 23, 13), datetime.datetime(2022, 1, 4, 23, 13)]\n"
     ]
    }
   ],
   "source": [
    "import re\n",
    "characters = [] # Who rolled\n",
    "roll_types = [] # What kind of roll: (1) Ability Check (2) Saving Throw (3) Initiative (4) Spell/Attack\n",
    "d20_rolls = [] # Filter rolls made by 1d20 rolls only\n",
    "\n",
    "roll_re = re.compile(r'\">([0-9]+)</span>')\n",
    "\n",
    "name_dictionary = {\n",
    "    'Kal': 'Kal',\n",
    "    'Eva Y.': 'Kal',\n",
    "    'Kalju Dormaris': 'Kal',\n",
    "    '(To GM)': 'Kal',\n",
    "    'Feyrn': 'Feyrn',\n",
    "    'Larissa J.': 'Feyrn',\n",
    "    'Katie H. (GM)': 'NPC',\n",
    "    'Alejandra E.': 'Leslie',\n",
    "    'Leslie Timbles': 'Leslie',\n",
    "    'Val C.': 'Viktor',\n",
    "    'Viktor': 'Viktor',\n",
    "    'Dionne Z.': 'Damaia',\n",
    "    'Damaia': 'Damaia',\n",
    "    'Leslie/Viktor': 'Leslie'\n",
    "}\n",
    "\n",
    "playerid_dictionary = {\n",
    "    'player--LYJ1cGjM-W040RlsKb2': 'Feyrn',\n",
    "    'player--LYJ5dm7p5gBuuB19Pl5': 'Leslie',\n",
    "    'player--LYJAxZP302qwjkWB3XC': 'Damaia',\n",
    "    'player--LYJ0fhiIzk0Cr-lw1nm': 'Viktor',\n",
    "    'player--MCzBHRIPXyWAqzxOYqb': 'Kal',\n",
    "    'player--LYJ-xnOUU_pobjJKmN4': 'NPC'\n",
    "}\n",
    "\n",
    "roll_dictionary = {\n",
    "    'ATHLETICS' : 'Ability Check',\n",
    "    'ACROBATICS' : 'Ability Check',\n",
    "    'SLEIGHT OF HAND' : 'Ability Check',\n",
    "    'STEALTH' : 'Ability Check',\n",
    "    'ARCANA' : 'Ability Check',\n",
    "    'HISTORY' : 'Ability Check',\n",
    "    'INSIGHT' : 'Ability Check',\n",
    "    'PERFORMANCE' : 'Ability Check',\n",
    "    'DECEPTION' : 'Ability Check',\n",
    "    'PERSUASION' : 'Ability Check',\n",
    "    'ANIMAL HANDLING' : 'Ability Check',\n",
    "    'MEDICINE' : 'Ability Check',\n",
    "    'SURVIVAL' : 'Ability Check',\n",
    "    'PERCEPTION' : 'Ability Check',\n",
    "    'INTIMATION' : 'Ability Check',\n",
    "    'RELIGION' : 'Ability Check',\n",
    "    'INVESTIGATION' : 'Ability Check',\n",
    "    'NATURE' : 'Ability Check',\n",
    "    'STRENGTH' : 'Ability Check',\n",
    "    'DEXTERITY' : 'Ability Check',\n",
    "    'CONSTITUTION' : 'Ability Check',\n",
    "    'INTELLIGENCE' : 'Ability Check',\n",
    "    'WISDOM' : 'Ability Check',\n",
    "    'CHARISMA' : 'Ability Check',\n",
    "    'INITIATIVE' : 'Initiative'  \n",
    "}\n",
    "\n",
    "roll_timestamps = []\n",
    "\n",
    "current_char = ''\n",
    "    \n",
    "for message in roll_msgs:    \n",
    "    is_generic = is_generic_roll(message['class'])\n",
    "    \n",
    "    if is_generic:\n",
    "        # Who\n",
    "        character_id = ''\n",
    "        \n",
    "        for _class in message['class']:\n",
    "            if 'player--' in _class:\n",
    "                character_id = _class\n",
    "        \n",
    "        character = playerid_dictionary[character_id] # Human-readable conversion\n",
    "        current_char = character # Update\n",
    "\n",
    "        # Filter 1d20 only; Amount\n",
    "        if 'rolling d20' in message.find(class_='formula').get_text():\n",
    "            amnt = int(message.find(class_='rolled').get_text())\n",
    "            \n",
    "            # Append\n",
    "            characters.append(character)\n",
    "            roll_types.append('Generic')\n",
    "            d20_rolls.append(amnt)\n",
    "            tstamp = message.find(class_='tstamp')\n",
    "            if tstamp:\n",
    "                current_time = parse(tstamp.string)\n",
    "            roll_timestamps.append(current_time)\n",
    "        \n",
    "    else:\n",
    "        character = ''\n",
    "        \n",
    "        # Who\n",
    "        if message.find(class_='you'):\n",
    "            character = 'Kal'\n",
    "        elif message.find(class_='spacer'):\n",
    "            current_char = message.find(class_='by').get_text().strip()[:-1]\n",
    "            character = name_dictionary[current_char]\n",
    "        else:\n",
    "            character = name_dictionary[current_char]\n",
    "            \n",
    "        # What type; Amount\n",
    "        inline_span = message.find('span', class_='inlinerollresult')\n",
    "        if 'Rolling 1d20' in inline_span['title']:\n",
    "            roll_txt = inline_span['title']\n",
    "            amnt = int(roll_re.search(roll_txt).group(1))\n",
    "            \n",
    "            sheet_label = message.find(class_='sheet-label')\n",
    "            roll_type_txt = sheet_label.find('span').get_text().split('(')[0].strip().upper()\n",
    "            roll_type = ''\n",
    "            \n",
    "            if roll_type_txt in roll_dictionary:\n",
    "                roll_type = roll_dictionary[roll_type_txt]\n",
    "            elif 'SAVE' in roll_type_txt:\n",
    "                roll_type = 'Saving Throw'\n",
    "            else:\n",
    "                roll_type = 'Spell/Attack'\n",
    "            \n",
    "            characters.append(character)\n",
    "            roll_types.append(roll_type)\n",
    "            d20_rolls.append(amnt)\n",
    "            tstamp = message.find(class_='tstamp')\n",
    "            if tstamp:\n",
    "                current_time = parse(tstamp.string)\n",
    "            roll_timestamps.append(current_time)\n",
    "            \n",
    "\n",
    "print('Characters:', len(characters), characters)\n",
    "print('Roll Types:', len(roll_types), roll_types)\n",
    "print('d20 rolls:', len(d20_rolls), d20_rolls)\n",
    "print('Timestamps:', len(roll_timestamps), roll_timestamps)"
   ]
  },
  {
   "cell_type": "code",
   "execution_count": 113,
   "metadata": {},
   "outputs": [
    {
     "name": "stdout",
     "output_type": "stream",
     "text": [
      "5:47:00 124\n",
      "4:15:00 125\n",
      "3:54:00 25\n",
      "3:54:00 86\n",
      "3:28:00 35\n",
      "4:34:00 60\n",
      "4:46:00 78\n",
      "2:28:00 28\n",
      "3:28:00 39\n",
      "3:47:00 39\n",
      "2:41:00 26\n",
      "4:45:00 38\n",
      "1:58:00 57\n"
     ]
    }
   ],
   "source": [
    "from datetime import timedelta, datetime\n",
    "\n",
    "MIN_ROLLS = 20\n",
    "MAX_GAP = timedelta(hours=12)\n",
    "\n",
    "start_time = roll_timestamps[0]\n",
    "last_time = roll_timestamps[0]\n",
    "count = 1\n",
    "\n",
    "sessions = []\n",
    "\n",
    "session_idx = []\n",
    "\n",
    "for time in roll_timestamps:\n",
    "    session_idx.append(len(sessions))\n",
    "    if time - last_time > MAX_GAP:\n",
    "        if count > MIN_ROLLS:\n",
    "            sessions.append((start_time, last_time, count))\n",
    "            print(last_time-start_time, count)\n",
    "        count = 1\n",
    "        start_time = time\n",
    "    else:\n",
    "        count += 1\n",
    "    last_time = time\n",
    "if count > MIN_ROLLS:\n",
    "    sessions.append((start_time, last_time, count))\n",
    "    print(last_time-start_time, count)\n",
    "\n",
    "with open('data/sessions.txt', 'w') as fd:\n",
    "    for session in sessions:\n",
    "        fd.write(session[0].strftime('%Y-%m-%d\\n'))"
   ]
  },
  {
   "cell_type": "code",
   "execution_count": 114,
   "metadata": {},
   "outputs": [
    {
     "name": "stdout",
     "output_type": "stream",
     "text": [
      "6\n",
      "5\n",
      "13\n",
      "['Leslie' 'Viktor' 'Feyrn' 'Damaia' 'NPC' 'Kal']\n"
     ]
    }
   ],
   "source": [
    "import pandas as pd\n",
    "\n",
    "roll_df = pd.DataFrame({\n",
    "    'time': roll_timestamps,\n",
    "    'character': characters,\n",
    "    'session': session_idx,\n",
    "    'type': roll_types,\n",
    "    'value': d20_rolls\n",
    "})\n",
    "\n",
    "roll_df = roll_df.dropna()\n",
    "\n",
    "roll_df.to_csv('data/rolls.zip', index=False)\n",
    "\n",
    "print(len(roll_df['character'].unique()))\n",
    "print(len(roll_df['type'].unique()))\n",
    "print(len(roll_df['session'].unique()))\n",
    "\n",
    "print(roll_df['character'].unique())"
   ]
  },
  {
   "cell_type": "code",
   "execution_count": 117,
   "metadata": {},
   "outputs": [
    {
     "name": "stdout",
     "output_type": "stream",
     "text": [
      "<class 'pandas.core.frame.DataFrame'>\n",
      "RangeIndex: 798 entries, 0 to 797\n",
      "Data columns (total 5 columns):\n",
      " #   Column     Non-Null Count  Dtype         \n",
      "---  ------     --------------  -----         \n",
      " 0   time       798 non-null    datetime64[ns]\n",
      " 1   character  798 non-null    object        \n",
      " 2   session    798 non-null    int64         \n",
      " 3   type       798 non-null    object        \n",
      " 4   value      798 non-null    int64         \n",
      "dtypes: datetime64[ns](1), int64(2), object(2)\n",
      "memory usage: 31.3+ KB\n",
      "None\n"
     ]
    }
   ],
   "source": [
    "roll_df = pd.read_csv('data/rolls.zip', parse_dates=['time'])\n",
    "\n",
    "print(roll_df.info())"
   ]
  },
  {
   "cell_type": "code",
   "execution_count": 118,
   "metadata": {},
   "outputs": [
    {
     "name": "stdout",
     "output_type": "stream",
     "text": [
      "99\n",
      "                   time character  session           type  value\n",
      "699 2021-12-29 01:10:00       Kal       10   Spell/Attack      6\n",
      "700 2021-12-29 01:10:00       Kal       11   Spell/Attack     14\n",
      "701 2021-12-29 01:10:00       Kal       11   Spell/Attack      1\n",
      "702 2021-12-29 01:10:00       Kal       11   Spell/Attack     14\n",
      "703 2021-12-29 21:06:00       Kal       11  Ability Check     10\n",
      "705 2021-12-29 21:26:00       Kal       11  Ability Check     20\n",
      "706 2021-12-29 21:26:00       Kal       11  Ability Check      3\n",
      "709 2021-12-29 21:53:00       Kal       11  Ability Check     15\n",
      "711 2021-12-29 21:54:00       Kal       11  Ability Check      3\n",
      "712 2021-12-29 21:54:00       Kal       11  Ability Check      2\n",
      "716 2021-12-29 22:21:00       Kal       11  Ability Check      3\n",
      "717 2021-12-29 22:21:00       Kal       11  Ability Check      1\n",
      "719 2021-12-29 22:51:00       Kal       11  Ability Check      2\n",
      "726 2021-12-30 00:47:00       Kal       11        Generic     22\n",
      "727 2021-12-30 00:47:00       Kal       11        Generic     20\n",
      "728 2021-12-30 00:47:00       Kal       11  Ability Check      8\n",
      "730 2021-12-30 01:00:00       Kal       11  Ability Check     12\n",
      "732 2021-12-30 01:30:00       Kal       11  Ability Check     20\n",
      "733 2021-12-30 01:30:00       Kal       11  Ability Check      2\n",
      "735 2021-12-30 01:35:00       Kal       11  Ability Check      8\n",
      "737 2021-12-30 01:38:00       Kal       11  Ability Check      2\n",
      "738 2021-12-30 01:38:00       Kal       11  Ability Check      9\n",
      "741 2022-01-04 21:15:00       Kal       11        Generic      4\n",
      "744 2022-01-04 21:20:00       Kal       12     Initiative      6\n",
      "746 2022-01-04 21:22:00       Kal       12  Ability Check     12\n",
      "748 2022-01-04 21:26:00       Kal       12  Ability Check      6\n",
      "751 2022-01-04 21:33:00       Kal       12  Ability Check      1\n",
      "752 2022-01-04 21:33:00       Kal       12   Saving Throw     12\n",
      "754 2022-01-04 21:38:00       Kal       12        Generic      3\n",
      "755 2022-01-04 21:38:00       Kal       12  Ability Check     18\n",
      "757 2022-01-04 21:49:00       Kal       12        Generic      5\n",
      "758 2022-01-04 21:49:00       Kal       12        Generic     13\n",
      "759 2022-01-04 21:49:00       Kal       12        Generic     19\n",
      "760 2022-01-04 21:49:00       Kal       12        Generic     16\n",
      "761 2022-01-04 21:49:00       Kal       12        Generic     23\n",
      "762 2022-01-04 21:53:00       Kal       12        Generic     24\n",
      "763 2022-01-04 21:53:00       Kal       12        Generic     10\n",
      "764 2022-01-04 21:53:00       Kal       12        Generic     26\n",
      "765 2022-01-04 21:53:00       Kal       12        Generic      6\n",
      "766 2022-01-04 21:53:00       Kal       12        Generic      1\n",
      "767 2022-01-04 21:53:00       Kal       12   Saving Throw     19\n",
      "771 2022-01-04 22:02:00       Kal       12  Ability Check      8\n",
      "779 2022-01-04 22:17:00       Kal       12  Ability Check      2\n",
      "787 2022-01-04 22:45:00       Kal       12  Ability Check     13\n",
      "789 2022-01-04 22:56:00       Kal       12  Ability Check     12\n",
      "790 2022-01-04 22:56:00       Kal       12  Ability Check      9\n",
      "791 2022-01-04 22:56:00       Kal       12  Ability Check      7\n",
      "792 2022-01-04 22:56:00       Kal       12  Ability Check     11\n"
     ]
    },
    {
     "data": {
      "application/vnd.plotly.v1+json": {
       "config": {
        "plotlyServerURL": "https://plot.ly"
       },
       "data": [
        {
         "alignmentgroup": "True",
         "bingroup": "x",
         "hovertemplate": "value=%{x}<br>count=%{y}<extra></extra>",
         "legendgroup": "",
         "marker": {
          "color": "#636efa",
          "pattern": {
           "shape": ""
          }
         },
         "name": "",
         "offsetgroup": "",
         "orientation": "v",
         "showlegend": false,
         "type": "histogram",
         "x": [
          6,
          14,
          1,
          14,
          10,
          12,
          20,
          3,
          3,
          15,
          15,
          20,
          3,
          2,
          9,
          20,
          11,
          3,
          1,
          12,
          2,
          14,
          6,
          6,
          9,
          14,
          27,
          22,
          20,
          8,
          19,
          12,
          13,
          20,
          2,
          20,
          8,
          16,
          2,
          9,
          19,
          1,
          4,
          9,
          20,
          6,
          15,
          12,
          13,
          6,
          13,
          20,
          1,
          12,
          23,
          3,
          18,
          26,
          5,
          13,
          19,
          16,
          23,
          24,
          10,
          26,
          6,
          1,
          19,
          16,
          20,
          14,
          8,
          7,
          5,
          14,
          19,
          24,
          16,
          11,
          2,
          16,
          10,
          9,
          7,
          12,
          16,
          23,
          13,
          8,
          12,
          9,
          7,
          11,
          14,
          20,
          2,
          16,
          15
         ],
         "xaxis": "x",
         "yaxis": "y"
        }
       ],
       "layout": {
        "barmode": "relative",
        "legend": {
         "tracegroupgap": 0
        },
        "margin": {
         "t": 60
        },
        "template": {
         "data": {
          "bar": [
           {
            "error_x": {
             "color": "#2a3f5f"
            },
            "error_y": {
             "color": "#2a3f5f"
            },
            "marker": {
             "line": {
              "color": "#E5ECF6",
              "width": 0.5
             },
             "pattern": {
              "fillmode": "overlay",
              "size": 10,
              "solidity": 0.2
             }
            },
            "type": "bar"
           }
          ],
          "barpolar": [
           {
            "marker": {
             "line": {
              "color": "#E5ECF6",
              "width": 0.5
             },
             "pattern": {
              "fillmode": "overlay",
              "size": 10,
              "solidity": 0.2
             }
            },
            "type": "barpolar"
           }
          ],
          "carpet": [
           {
            "aaxis": {
             "endlinecolor": "#2a3f5f",
             "gridcolor": "white",
             "linecolor": "white",
             "minorgridcolor": "white",
             "startlinecolor": "#2a3f5f"
            },
            "baxis": {
             "endlinecolor": "#2a3f5f",
             "gridcolor": "white",
             "linecolor": "white",
             "minorgridcolor": "white",
             "startlinecolor": "#2a3f5f"
            },
            "type": "carpet"
           }
          ],
          "choropleth": [
           {
            "colorbar": {
             "outlinewidth": 0,
             "ticks": ""
            },
            "type": "choropleth"
           }
          ],
          "contour": [
           {
            "colorbar": {
             "outlinewidth": 0,
             "ticks": ""
            },
            "colorscale": [
             [
              0,
              "#0d0887"
             ],
             [
              0.1111111111111111,
              "#46039f"
             ],
             [
              0.2222222222222222,
              "#7201a8"
             ],
             [
              0.3333333333333333,
              "#9c179e"
             ],
             [
              0.4444444444444444,
              "#bd3786"
             ],
             [
              0.5555555555555556,
              "#d8576b"
             ],
             [
              0.6666666666666666,
              "#ed7953"
             ],
             [
              0.7777777777777778,
              "#fb9f3a"
             ],
             [
              0.8888888888888888,
              "#fdca26"
             ],
             [
              1,
              "#f0f921"
             ]
            ],
            "type": "contour"
           }
          ],
          "contourcarpet": [
           {
            "colorbar": {
             "outlinewidth": 0,
             "ticks": ""
            },
            "type": "contourcarpet"
           }
          ],
          "heatmap": [
           {
            "colorbar": {
             "outlinewidth": 0,
             "ticks": ""
            },
            "colorscale": [
             [
              0,
              "#0d0887"
             ],
             [
              0.1111111111111111,
              "#46039f"
             ],
             [
              0.2222222222222222,
              "#7201a8"
             ],
             [
              0.3333333333333333,
              "#9c179e"
             ],
             [
              0.4444444444444444,
              "#bd3786"
             ],
             [
              0.5555555555555556,
              "#d8576b"
             ],
             [
              0.6666666666666666,
              "#ed7953"
             ],
             [
              0.7777777777777778,
              "#fb9f3a"
             ],
             [
              0.8888888888888888,
              "#fdca26"
             ],
             [
              1,
              "#f0f921"
             ]
            ],
            "type": "heatmap"
           }
          ],
          "heatmapgl": [
           {
            "colorbar": {
             "outlinewidth": 0,
             "ticks": ""
            },
            "colorscale": [
             [
              0,
              "#0d0887"
             ],
             [
              0.1111111111111111,
              "#46039f"
             ],
             [
              0.2222222222222222,
              "#7201a8"
             ],
             [
              0.3333333333333333,
              "#9c179e"
             ],
             [
              0.4444444444444444,
              "#bd3786"
             ],
             [
              0.5555555555555556,
              "#d8576b"
             ],
             [
              0.6666666666666666,
              "#ed7953"
             ],
             [
              0.7777777777777778,
              "#fb9f3a"
             ],
             [
              0.8888888888888888,
              "#fdca26"
             ],
             [
              1,
              "#f0f921"
             ]
            ],
            "type": "heatmapgl"
           }
          ],
          "histogram": [
           {
            "marker": {
             "pattern": {
              "fillmode": "overlay",
              "size": 10,
              "solidity": 0.2
             }
            },
            "type": "histogram"
           }
          ],
          "histogram2d": [
           {
            "colorbar": {
             "outlinewidth": 0,
             "ticks": ""
            },
            "colorscale": [
             [
              0,
              "#0d0887"
             ],
             [
              0.1111111111111111,
              "#46039f"
             ],
             [
              0.2222222222222222,
              "#7201a8"
             ],
             [
              0.3333333333333333,
              "#9c179e"
             ],
             [
              0.4444444444444444,
              "#bd3786"
             ],
             [
              0.5555555555555556,
              "#d8576b"
             ],
             [
              0.6666666666666666,
              "#ed7953"
             ],
             [
              0.7777777777777778,
              "#fb9f3a"
             ],
             [
              0.8888888888888888,
              "#fdca26"
             ],
             [
              1,
              "#f0f921"
             ]
            ],
            "type": "histogram2d"
           }
          ],
          "histogram2dcontour": [
           {
            "colorbar": {
             "outlinewidth": 0,
             "ticks": ""
            },
            "colorscale": [
             [
              0,
              "#0d0887"
             ],
             [
              0.1111111111111111,
              "#46039f"
             ],
             [
              0.2222222222222222,
              "#7201a8"
             ],
             [
              0.3333333333333333,
              "#9c179e"
             ],
             [
              0.4444444444444444,
              "#bd3786"
             ],
             [
              0.5555555555555556,
              "#d8576b"
             ],
             [
              0.6666666666666666,
              "#ed7953"
             ],
             [
              0.7777777777777778,
              "#fb9f3a"
             ],
             [
              0.8888888888888888,
              "#fdca26"
             ],
             [
              1,
              "#f0f921"
             ]
            ],
            "type": "histogram2dcontour"
           }
          ],
          "mesh3d": [
           {
            "colorbar": {
             "outlinewidth": 0,
             "ticks": ""
            },
            "type": "mesh3d"
           }
          ],
          "parcoords": [
           {
            "line": {
             "colorbar": {
              "outlinewidth": 0,
              "ticks": ""
             }
            },
            "type": "parcoords"
           }
          ],
          "pie": [
           {
            "automargin": true,
            "type": "pie"
           }
          ],
          "scatter": [
           {
            "marker": {
             "colorbar": {
              "outlinewidth": 0,
              "ticks": ""
             }
            },
            "type": "scatter"
           }
          ],
          "scatter3d": [
           {
            "line": {
             "colorbar": {
              "outlinewidth": 0,
              "ticks": ""
             }
            },
            "marker": {
             "colorbar": {
              "outlinewidth": 0,
              "ticks": ""
             }
            },
            "type": "scatter3d"
           }
          ],
          "scattercarpet": [
           {
            "marker": {
             "colorbar": {
              "outlinewidth": 0,
              "ticks": ""
             }
            },
            "type": "scattercarpet"
           }
          ],
          "scattergeo": [
           {
            "marker": {
             "colorbar": {
              "outlinewidth": 0,
              "ticks": ""
             }
            },
            "type": "scattergeo"
           }
          ],
          "scattergl": [
           {
            "marker": {
             "colorbar": {
              "outlinewidth": 0,
              "ticks": ""
             }
            },
            "type": "scattergl"
           }
          ],
          "scattermapbox": [
           {
            "marker": {
             "colorbar": {
              "outlinewidth": 0,
              "ticks": ""
             }
            },
            "type": "scattermapbox"
           }
          ],
          "scatterpolar": [
           {
            "marker": {
             "colorbar": {
              "outlinewidth": 0,
              "ticks": ""
             }
            },
            "type": "scatterpolar"
           }
          ],
          "scatterpolargl": [
           {
            "marker": {
             "colorbar": {
              "outlinewidth": 0,
              "ticks": ""
             }
            },
            "type": "scatterpolargl"
           }
          ],
          "scatterternary": [
           {
            "marker": {
             "colorbar": {
              "outlinewidth": 0,
              "ticks": ""
             }
            },
            "type": "scatterternary"
           }
          ],
          "surface": [
           {
            "colorbar": {
             "outlinewidth": 0,
             "ticks": ""
            },
            "colorscale": [
             [
              0,
              "#0d0887"
             ],
             [
              0.1111111111111111,
              "#46039f"
             ],
             [
              0.2222222222222222,
              "#7201a8"
             ],
             [
              0.3333333333333333,
              "#9c179e"
             ],
             [
              0.4444444444444444,
              "#bd3786"
             ],
             [
              0.5555555555555556,
              "#d8576b"
             ],
             [
              0.6666666666666666,
              "#ed7953"
             ],
             [
              0.7777777777777778,
              "#fb9f3a"
             ],
             [
              0.8888888888888888,
              "#fdca26"
             ],
             [
              1,
              "#f0f921"
             ]
            ],
            "type": "surface"
           }
          ],
          "table": [
           {
            "cells": {
             "fill": {
              "color": "#EBF0F8"
             },
             "line": {
              "color": "white"
             }
            },
            "header": {
             "fill": {
              "color": "#C8D4E3"
             },
             "line": {
              "color": "white"
             }
            },
            "type": "table"
           }
          ]
         },
         "layout": {
          "annotationdefaults": {
           "arrowcolor": "#2a3f5f",
           "arrowhead": 0,
           "arrowwidth": 1
          },
          "autotypenumbers": "strict",
          "coloraxis": {
           "colorbar": {
            "outlinewidth": 0,
            "ticks": ""
           }
          },
          "colorscale": {
           "diverging": [
            [
             0,
             "#8e0152"
            ],
            [
             0.1,
             "#c51b7d"
            ],
            [
             0.2,
             "#de77ae"
            ],
            [
             0.3,
             "#f1b6da"
            ],
            [
             0.4,
             "#fde0ef"
            ],
            [
             0.5,
             "#f7f7f7"
            ],
            [
             0.6,
             "#e6f5d0"
            ],
            [
             0.7,
             "#b8e186"
            ],
            [
             0.8,
             "#7fbc41"
            ],
            [
             0.9,
             "#4d9221"
            ],
            [
             1,
             "#276419"
            ]
           ],
           "sequential": [
            [
             0,
             "#0d0887"
            ],
            [
             0.1111111111111111,
             "#46039f"
            ],
            [
             0.2222222222222222,
             "#7201a8"
            ],
            [
             0.3333333333333333,
             "#9c179e"
            ],
            [
             0.4444444444444444,
             "#bd3786"
            ],
            [
             0.5555555555555556,
             "#d8576b"
            ],
            [
             0.6666666666666666,
             "#ed7953"
            ],
            [
             0.7777777777777778,
             "#fb9f3a"
            ],
            [
             0.8888888888888888,
             "#fdca26"
            ],
            [
             1,
             "#f0f921"
            ]
           ],
           "sequentialminus": [
            [
             0,
             "#0d0887"
            ],
            [
             0.1111111111111111,
             "#46039f"
            ],
            [
             0.2222222222222222,
             "#7201a8"
            ],
            [
             0.3333333333333333,
             "#9c179e"
            ],
            [
             0.4444444444444444,
             "#bd3786"
            ],
            [
             0.5555555555555556,
             "#d8576b"
            ],
            [
             0.6666666666666666,
             "#ed7953"
            ],
            [
             0.7777777777777778,
             "#fb9f3a"
            ],
            [
             0.8888888888888888,
             "#fdca26"
            ],
            [
             1,
             "#f0f921"
            ]
           ]
          },
          "colorway": [
           "#636efa",
           "#EF553B",
           "#00cc96",
           "#ab63fa",
           "#FFA15A",
           "#19d3f3",
           "#FF6692",
           "#B6E880",
           "#FF97FF",
           "#FECB52"
          ],
          "font": {
           "color": "#2a3f5f"
          },
          "geo": {
           "bgcolor": "white",
           "lakecolor": "white",
           "landcolor": "#E5ECF6",
           "showlakes": true,
           "showland": true,
           "subunitcolor": "white"
          },
          "hoverlabel": {
           "align": "left"
          },
          "hovermode": "closest",
          "mapbox": {
           "style": "light"
          },
          "paper_bgcolor": "white",
          "plot_bgcolor": "#E5ECF6",
          "polar": {
           "angularaxis": {
            "gridcolor": "white",
            "linecolor": "white",
            "ticks": ""
           },
           "bgcolor": "#E5ECF6",
           "radialaxis": {
            "gridcolor": "white",
            "linecolor": "white",
            "ticks": ""
           }
          },
          "scene": {
           "xaxis": {
            "backgroundcolor": "#E5ECF6",
            "gridcolor": "white",
            "gridwidth": 2,
            "linecolor": "white",
            "showbackground": true,
            "ticks": "",
            "zerolinecolor": "white"
           },
           "yaxis": {
            "backgroundcolor": "#E5ECF6",
            "gridcolor": "white",
            "gridwidth": 2,
            "linecolor": "white",
            "showbackground": true,
            "ticks": "",
            "zerolinecolor": "white"
           },
           "zaxis": {
            "backgroundcolor": "#E5ECF6",
            "gridcolor": "white",
            "gridwidth": 2,
            "linecolor": "white",
            "showbackground": true,
            "ticks": "",
            "zerolinecolor": "white"
           }
          },
          "shapedefaults": {
           "line": {
            "color": "#2a3f5f"
           }
          },
          "ternary": {
           "aaxis": {
            "gridcolor": "white",
            "linecolor": "white",
            "ticks": ""
           },
           "baxis": {
            "gridcolor": "white",
            "linecolor": "white",
            "ticks": ""
           },
           "bgcolor": "#E5ECF6",
           "caxis": {
            "gridcolor": "white",
            "linecolor": "white",
            "ticks": ""
           }
          },
          "title": {
           "x": 0.05
          },
          "xaxis": {
           "automargin": true,
           "gridcolor": "white",
           "linecolor": "white",
           "ticks": "",
           "title": {
            "standoff": 15
           },
           "zerolinecolor": "white",
           "zerolinewidth": 2
          },
          "yaxis": {
           "automargin": true,
           "gridcolor": "white",
           "linecolor": "white",
           "ticks": "",
           "title": {
            "standoff": 15
           },
           "zerolinecolor": "white",
           "zerolinewidth": 2
          }
         }
        },
        "xaxis": {
         "anchor": "y",
         "domain": [
          0,
          1
         ],
         "title": {
          "text": "value"
         }
        },
        "yaxis": {
         "anchor": "x",
         "domain": [
          0,
          1
         ],
         "title": {
          "text": "count"
         }
        }
       }
      },
      "text/html": [
       "<div>                            <div id=\"1d07e558-8538-4509-8c14-176450f06588\" class=\"plotly-graph-div\" style=\"height:525px; width:100%;\"></div>            <script type=\"text/javascript\">                require([\"plotly\"], function(Plotly) {                    window.PLOTLYENV=window.PLOTLYENV || {};                                    if (document.getElementById(\"1d07e558-8538-4509-8c14-176450f06588\")) {                    Plotly.newPlot(                        \"1d07e558-8538-4509-8c14-176450f06588\",                        [{\"alignmentgroup\":\"True\",\"bingroup\":\"x\",\"hovertemplate\":\"value=%{x}<br>count=%{y}<extra></extra>\",\"legendgroup\":\"\",\"marker\":{\"color\":\"#636efa\",\"pattern\":{\"shape\":\"\"}},\"name\":\"\",\"offsetgroup\":\"\",\"orientation\":\"v\",\"showlegend\":false,\"x\":[6,14,1,14,10,12,20,3,3,15,15,20,3,2,9,20,11,3,1,12,2,14,6,6,9,14,27,22,20,8,19,12,13,20,2,20,8,16,2,9,19,1,4,9,20,6,15,12,13,6,13,20,1,12,23,3,18,26,5,13,19,16,23,24,10,26,6,1,19,16,20,14,8,7,5,14,19,24,16,11,2,16,10,9,7,12,16,23,13,8,12,9,7,11,14,20,2,16,15],\"xaxis\":\"x\",\"yaxis\":\"y\",\"type\":\"histogram\"}],                        {\"template\":{\"data\":{\"bar\":[{\"error_x\":{\"color\":\"#2a3f5f\"},\"error_y\":{\"color\":\"#2a3f5f\"},\"marker\":{\"line\":{\"color\":\"#E5ECF6\",\"width\":0.5},\"pattern\":{\"fillmode\":\"overlay\",\"size\":10,\"solidity\":0.2}},\"type\":\"bar\"}],\"barpolar\":[{\"marker\":{\"line\":{\"color\":\"#E5ECF6\",\"width\":0.5},\"pattern\":{\"fillmode\":\"overlay\",\"size\":10,\"solidity\":0.2}},\"type\":\"barpolar\"}],\"carpet\":[{\"aaxis\":{\"endlinecolor\":\"#2a3f5f\",\"gridcolor\":\"white\",\"linecolor\":\"white\",\"minorgridcolor\":\"white\",\"startlinecolor\":\"#2a3f5f\"},\"baxis\":{\"endlinecolor\":\"#2a3f5f\",\"gridcolor\":\"white\",\"linecolor\":\"white\",\"minorgridcolor\":\"white\",\"startlinecolor\":\"#2a3f5f\"},\"type\":\"carpet\"}],\"choropleth\":[{\"colorbar\":{\"outlinewidth\":0,\"ticks\":\"\"},\"type\":\"choropleth\"}],\"contour\":[{\"colorbar\":{\"outlinewidth\":0,\"ticks\":\"\"},\"colorscale\":[[0.0,\"#0d0887\"],[0.1111111111111111,\"#46039f\"],[0.2222222222222222,\"#7201a8\"],[0.3333333333333333,\"#9c179e\"],[0.4444444444444444,\"#bd3786\"],[0.5555555555555556,\"#d8576b\"],[0.6666666666666666,\"#ed7953\"],[0.7777777777777778,\"#fb9f3a\"],[0.8888888888888888,\"#fdca26\"],[1.0,\"#f0f921\"]],\"type\":\"contour\"}],\"contourcarpet\":[{\"colorbar\":{\"outlinewidth\":0,\"ticks\":\"\"},\"type\":\"contourcarpet\"}],\"heatmap\":[{\"colorbar\":{\"outlinewidth\":0,\"ticks\":\"\"},\"colorscale\":[[0.0,\"#0d0887\"],[0.1111111111111111,\"#46039f\"],[0.2222222222222222,\"#7201a8\"],[0.3333333333333333,\"#9c179e\"],[0.4444444444444444,\"#bd3786\"],[0.5555555555555556,\"#d8576b\"],[0.6666666666666666,\"#ed7953\"],[0.7777777777777778,\"#fb9f3a\"],[0.8888888888888888,\"#fdca26\"],[1.0,\"#f0f921\"]],\"type\":\"heatmap\"}],\"heatmapgl\":[{\"colorbar\":{\"outlinewidth\":0,\"ticks\":\"\"},\"colorscale\":[[0.0,\"#0d0887\"],[0.1111111111111111,\"#46039f\"],[0.2222222222222222,\"#7201a8\"],[0.3333333333333333,\"#9c179e\"],[0.4444444444444444,\"#bd3786\"],[0.5555555555555556,\"#d8576b\"],[0.6666666666666666,\"#ed7953\"],[0.7777777777777778,\"#fb9f3a\"],[0.8888888888888888,\"#fdca26\"],[1.0,\"#f0f921\"]],\"type\":\"heatmapgl\"}],\"histogram\":[{\"marker\":{\"pattern\":{\"fillmode\":\"overlay\",\"size\":10,\"solidity\":0.2}},\"type\":\"histogram\"}],\"histogram2d\":[{\"colorbar\":{\"outlinewidth\":0,\"ticks\":\"\"},\"colorscale\":[[0.0,\"#0d0887\"],[0.1111111111111111,\"#46039f\"],[0.2222222222222222,\"#7201a8\"],[0.3333333333333333,\"#9c179e\"],[0.4444444444444444,\"#bd3786\"],[0.5555555555555556,\"#d8576b\"],[0.6666666666666666,\"#ed7953\"],[0.7777777777777778,\"#fb9f3a\"],[0.8888888888888888,\"#fdca26\"],[1.0,\"#f0f921\"]],\"type\":\"histogram2d\"}],\"histogram2dcontour\":[{\"colorbar\":{\"outlinewidth\":0,\"ticks\":\"\"},\"colorscale\":[[0.0,\"#0d0887\"],[0.1111111111111111,\"#46039f\"],[0.2222222222222222,\"#7201a8\"],[0.3333333333333333,\"#9c179e\"],[0.4444444444444444,\"#bd3786\"],[0.5555555555555556,\"#d8576b\"],[0.6666666666666666,\"#ed7953\"],[0.7777777777777778,\"#fb9f3a\"],[0.8888888888888888,\"#fdca26\"],[1.0,\"#f0f921\"]],\"type\":\"histogram2dcontour\"}],\"mesh3d\":[{\"colorbar\":{\"outlinewidth\":0,\"ticks\":\"\"},\"type\":\"mesh3d\"}],\"parcoords\":[{\"line\":{\"colorbar\":{\"outlinewidth\":0,\"ticks\":\"\"}},\"type\":\"parcoords\"}],\"pie\":[{\"automargin\":true,\"type\":\"pie\"}],\"scatter\":[{\"marker\":{\"colorbar\":{\"outlinewidth\":0,\"ticks\":\"\"}},\"type\":\"scatter\"}],\"scatter3d\":[{\"line\":{\"colorbar\":{\"outlinewidth\":0,\"ticks\":\"\"}},\"marker\":{\"colorbar\":{\"outlinewidth\":0,\"ticks\":\"\"}},\"type\":\"scatter3d\"}],\"scattercarpet\":[{\"marker\":{\"colorbar\":{\"outlinewidth\":0,\"ticks\":\"\"}},\"type\":\"scattercarpet\"}],\"scattergeo\":[{\"marker\":{\"colorbar\":{\"outlinewidth\":0,\"ticks\":\"\"}},\"type\":\"scattergeo\"}],\"scattergl\":[{\"marker\":{\"colorbar\":{\"outlinewidth\":0,\"ticks\":\"\"}},\"type\":\"scattergl\"}],\"scattermapbox\":[{\"marker\":{\"colorbar\":{\"outlinewidth\":0,\"ticks\":\"\"}},\"type\":\"scattermapbox\"}],\"scatterpolar\":[{\"marker\":{\"colorbar\":{\"outlinewidth\":0,\"ticks\":\"\"}},\"type\":\"scatterpolar\"}],\"scatterpolargl\":[{\"marker\":{\"colorbar\":{\"outlinewidth\":0,\"ticks\":\"\"}},\"type\":\"scatterpolargl\"}],\"scatterternary\":[{\"marker\":{\"colorbar\":{\"outlinewidth\":0,\"ticks\":\"\"}},\"type\":\"scatterternary\"}],\"surface\":[{\"colorbar\":{\"outlinewidth\":0,\"ticks\":\"\"},\"colorscale\":[[0.0,\"#0d0887\"],[0.1111111111111111,\"#46039f\"],[0.2222222222222222,\"#7201a8\"],[0.3333333333333333,\"#9c179e\"],[0.4444444444444444,\"#bd3786\"],[0.5555555555555556,\"#d8576b\"],[0.6666666666666666,\"#ed7953\"],[0.7777777777777778,\"#fb9f3a\"],[0.8888888888888888,\"#fdca26\"],[1.0,\"#f0f921\"]],\"type\":\"surface\"}],\"table\":[{\"cells\":{\"fill\":{\"color\":\"#EBF0F8\"},\"line\":{\"color\":\"white\"}},\"header\":{\"fill\":{\"color\":\"#C8D4E3\"},\"line\":{\"color\":\"white\"}},\"type\":\"table\"}]},\"layout\":{\"annotationdefaults\":{\"arrowcolor\":\"#2a3f5f\",\"arrowhead\":0,\"arrowwidth\":1},\"autotypenumbers\":\"strict\",\"coloraxis\":{\"colorbar\":{\"outlinewidth\":0,\"ticks\":\"\"}},\"colorscale\":{\"diverging\":[[0,\"#8e0152\"],[0.1,\"#c51b7d\"],[0.2,\"#de77ae\"],[0.3,\"#f1b6da\"],[0.4,\"#fde0ef\"],[0.5,\"#f7f7f7\"],[0.6,\"#e6f5d0\"],[0.7,\"#b8e186\"],[0.8,\"#7fbc41\"],[0.9,\"#4d9221\"],[1,\"#276419\"]],\"sequential\":[[0.0,\"#0d0887\"],[0.1111111111111111,\"#46039f\"],[0.2222222222222222,\"#7201a8\"],[0.3333333333333333,\"#9c179e\"],[0.4444444444444444,\"#bd3786\"],[0.5555555555555556,\"#d8576b\"],[0.6666666666666666,\"#ed7953\"],[0.7777777777777778,\"#fb9f3a\"],[0.8888888888888888,\"#fdca26\"],[1.0,\"#f0f921\"]],\"sequentialminus\":[[0.0,\"#0d0887\"],[0.1111111111111111,\"#46039f\"],[0.2222222222222222,\"#7201a8\"],[0.3333333333333333,\"#9c179e\"],[0.4444444444444444,\"#bd3786\"],[0.5555555555555556,\"#d8576b\"],[0.6666666666666666,\"#ed7953\"],[0.7777777777777778,\"#fb9f3a\"],[0.8888888888888888,\"#fdca26\"],[1.0,\"#f0f921\"]]},\"colorway\":[\"#636efa\",\"#EF553B\",\"#00cc96\",\"#ab63fa\",\"#FFA15A\",\"#19d3f3\",\"#FF6692\",\"#B6E880\",\"#FF97FF\",\"#FECB52\"],\"font\":{\"color\":\"#2a3f5f\"},\"geo\":{\"bgcolor\":\"white\",\"lakecolor\":\"white\",\"landcolor\":\"#E5ECF6\",\"showlakes\":true,\"showland\":true,\"subunitcolor\":\"white\"},\"hoverlabel\":{\"align\":\"left\"},\"hovermode\":\"closest\",\"mapbox\":{\"style\":\"light\"},\"paper_bgcolor\":\"white\",\"plot_bgcolor\":\"#E5ECF6\",\"polar\":{\"angularaxis\":{\"gridcolor\":\"white\",\"linecolor\":\"white\",\"ticks\":\"\"},\"bgcolor\":\"#E5ECF6\",\"radialaxis\":{\"gridcolor\":\"white\",\"linecolor\":\"white\",\"ticks\":\"\"}},\"scene\":{\"xaxis\":{\"backgroundcolor\":\"#E5ECF6\",\"gridcolor\":\"white\",\"gridwidth\":2,\"linecolor\":\"white\",\"showbackground\":true,\"ticks\":\"\",\"zerolinecolor\":\"white\"},\"yaxis\":{\"backgroundcolor\":\"#E5ECF6\",\"gridcolor\":\"white\",\"gridwidth\":2,\"linecolor\":\"white\",\"showbackground\":true,\"ticks\":\"\",\"zerolinecolor\":\"white\"},\"zaxis\":{\"backgroundcolor\":\"#E5ECF6\",\"gridcolor\":\"white\",\"gridwidth\":2,\"linecolor\":\"white\",\"showbackground\":true,\"ticks\":\"\",\"zerolinecolor\":\"white\"}},\"shapedefaults\":{\"line\":{\"color\":\"#2a3f5f\"}},\"ternary\":{\"aaxis\":{\"gridcolor\":\"white\",\"linecolor\":\"white\",\"ticks\":\"\"},\"baxis\":{\"gridcolor\":\"white\",\"linecolor\":\"white\",\"ticks\":\"\"},\"bgcolor\":\"#E5ECF6\",\"caxis\":{\"gridcolor\":\"white\",\"linecolor\":\"white\",\"ticks\":\"\"}},\"title\":{\"x\":0.05},\"xaxis\":{\"automargin\":true,\"gridcolor\":\"white\",\"linecolor\":\"white\",\"ticks\":\"\",\"title\":{\"standoff\":15},\"zerolinecolor\":\"white\",\"zerolinewidth\":2},\"yaxis\":{\"automargin\":true,\"gridcolor\":\"white\",\"linecolor\":\"white\",\"ticks\":\"\",\"title\":{\"standoff\":15},\"zerolinecolor\":\"white\",\"zerolinewidth\":2}}},\"xaxis\":{\"anchor\":\"y\",\"domain\":[0.0,1.0],\"title\":{\"text\":\"value\"}},\"yaxis\":{\"anchor\":\"x\",\"domain\":[0.0,1.0],\"title\":{\"text\":\"count\"}},\"legend\":{\"tracegroupgap\":0},\"margin\":{\"t\":60},\"barmode\":\"relative\"},                        {\"responsive\": true}                    ).then(function(){\n",
       "                            \n",
       "var gd = document.getElementById('1d07e558-8538-4509-8c14-176450f06588');\n",
       "var x = new MutationObserver(function (mutations, observer) {{\n",
       "        var display = window.getComputedStyle(gd).display;\n",
       "        if (!display || display === 'none') {{\n",
       "            console.log([gd, 'removed!']);\n",
       "            Plotly.purge(gd);\n",
       "            observer.disconnect();\n",
       "        }}\n",
       "}});\n",
       "\n",
       "// Listen for the removal of the full notebook cells\n",
       "var notebookContainer = gd.closest('#notebook-container');\n",
       "if (notebookContainer) {{\n",
       "    x.observe(notebookContainer, {childList: true});\n",
       "}}\n",
       "\n",
       "// Listen for the clearing of the current output cell\n",
       "var outputEl = gd.closest('.output');\n",
       "if (outputEl) {{\n",
       "    x.observe(outputEl, {childList: true});\n",
       "}}\n",
       "\n",
       "                        })                };                });            </script>        </div>"
      ]
     },
     "metadata": {},
     "output_type": "display_data"
    }
   ],
   "source": [
    "import plotly.express as px\n",
    "\n",
    "last_session_df = roll_df[roll_df['time'] > datetime(2021,12,28)]\n",
    "print(len(last_session_df))\n",
    "\n",
    "kal_df =  last_session_df[last_session_df['character'] == 'Kal']\n",
    "print(kal_df)\n",
    "\n",
    "fig = px.histogram(last_session_df, x=\"value\")\n",
    "fig.show()"
   ]
  },
  {
   "cell_type": "code",
   "execution_count": 119,
   "metadata": {},
   "outputs": [
    {
     "name": "stdout",
     "output_type": "stream",
     "text": [
      "character\n",
      "NPC        12\n",
      "Viktor     30\n",
      "Damaia     65\n",
      "Leslie    134\n",
      "Kal       232\n",
      "Feyrn     325\n",
      "Name: time, dtype: int64\n"
     ]
    }
   ],
   "source": [
    "counts = roll_df.groupby(['character']).count()['time'].sort_values()\n",
    "pd.set_option(\"display.max_rows\", None, \"display.max_columns\", None)\n",
    "print(counts)"
   ]
  },
  {
   "cell_type": "code",
   "execution_count": 120,
   "metadata": {},
   "outputs": [
    {
     "name": "stdout",
     "output_type": "stream",
     "text": [
      "type\n",
      "Initiative        21\n",
      "Spell/Attack      27\n",
      "Saving Throw      33\n",
      "Ability Check    169\n",
      "Generic          548\n",
      "Name: time, dtype: int64\n"
     ]
    }
   ],
   "source": [
    "counts = roll_df.groupby(['type']).count()['time'].sort_values()\n",
    "print(counts)"
   ]
  },
  {
   "cell_type": "code",
   "execution_count": 96,
   "metadata": {},
   "outputs": [
    {
     "name": "stdout",
     "output_type": "stream",
     "text": [
      "    session           type  value\n",
      "0         0        Generic    124\n",
      "1         1        Generic    125\n",
      "2         2        Generic     25\n",
      "3         3        Generic     85\n",
      "4         3   Spell/Attack      1\n",
      "5         4  Ability Check     27\n",
      "6         4        Generic      4\n",
      "7         4     Initiative      1\n",
      "8         4   Saving Throw      6\n",
      "9         4   Spell/Attack      4\n",
      "10        5  Ability Check     15\n",
      "11        5        Generic     36\n",
      "12        5     Initiative      2\n",
      "13        5   Saving Throw      4\n",
      "14        5   Spell/Attack      3\n",
      "15        6  Ability Check     28\n",
      "16        6        Generic     41\n",
      "17        6     Initiative      2\n",
      "18        6   Saving Throw      5\n",
      "19        6   Spell/Attack      2\n",
      "20        7  Ability Check     15\n",
      "21        7        Generic      7\n",
      "22        7     Initiative      2\n",
      "23        7   Saving Throw      3\n",
      "24        7   Spell/Attack      1\n",
      "25        8  Ability Check     15\n",
      "26        8        Generic      3\n",
      "27        8     Initiative      9\n",
      "28        8   Saving Throw      6\n",
      "29        8   Spell/Attack      6\n",
      "30        9  Ability Check     11\n",
      "31        9        Generic     21\n",
      "32        9     Initiative      1\n",
      "33        9   Saving Throw      4\n",
      "34        9   Spell/Attack      2\n",
      "35       10  Ability Check     27\n",
      "36       10        Generic     17\n",
      "37       10     Initiative      2\n",
      "38       10   Saving Throw      3\n",
      "39       10   Spell/Attack      5\n",
      "40       11  Ability Check     20\n",
      "41       11        Generic     17\n",
      "42       11   Spell/Attack      3\n"
     ]
    }
   ],
   "source": [
    "data = roll_df.groupby(['session','type']).count()['value'].reset_index(level=[0,1])\n",
    "print(data)"
   ]
  },
  {
   "cell_type": "code",
   "execution_count": 121,
   "metadata": {},
   "outputs": [
    {
     "name": "stdout",
     "output_type": "stream",
     "text": [
      "232\n"
     ]
    }
   ],
   "source": [
    "print(sum(roll_df['character'] == 'Kal'))"
   ]
  },
  {
   "cell_type": "code",
   "execution_count": null,
   "metadata": {},
   "outputs": [],
   "source": []
  }
 ],
 "metadata": {
  "kernelspec": {
   "display_name": "Python 3 (ipykernel)",
   "language": "python",
   "name": "python3"
  },
  "language_info": {
   "codemirror_mode": {
    "name": "ipython",
    "version": 3
   },
   "file_extension": ".py",
   "mimetype": "text/x-python",
   "name": "python",
   "nbconvert_exporter": "python",
   "pygments_lexer": "ipython3",
   "version": "3.10.1"
  }
 },
 "nbformat": 4,
 "nbformat_minor": 2
}
